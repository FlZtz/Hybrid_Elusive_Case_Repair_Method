{
 "cells": [
  {
   "cell_type": "code",
   "id": "initial_id",
   "metadata": {
    "collapsed": true,
    "ExecuteTime": {
     "end_time": "2024-05-14T19:17:30.256837Z",
     "start_time": "2024-05-14T19:17:30.231115Z"
    }
   },
   "source": "import dummy_transformer\n",
   "outputs": [],
   "execution_count": 1
  },
  {
   "metadata": {},
   "cell_type": "markdown",
   "source": "<span style=\"color:red\">Please note: Depending on your input, six different models are possible. The following steps are meant to guide you through the process of selecting the desired configuration.</span>",
   "id": "1b8e29f8f4dbb5b6"
  },
  {
   "metadata": {},
   "cell_type": "markdown",
   "source": [
    "# Step 0: Process Model and Event Log\n",
    "\n",
    "<span style=\"color:red\">Please note: This step is simply meant to acquaint you with the process and does not constitute a part of the actual model.</span>\n"
   ],
   "id": "58af058f78ae929d"
  },
  {
   "metadata": {},
   "cell_type": "markdown",
   "source": [
    "We're examining a hospital billing process. Here's a simplified model of the process:\n",
    "\n",
    "![Hospital Billing Process](logs/hospitalBillingProcess.png)"
   ],
   "id": "ba8cf97e743d0dcb"
  },
  {
   "metadata": {},
   "cell_type": "markdown",
   "source": [
    "The event log's structure is as follows (excerpt of the initial ten lines displayed below):\n",
    "\n",
    "|   isCancelled | diagnosis   | time:timestamp            | caseType   | speciality   | org:resource   | concept:name   |   blocked |   isClosed |   flagD |   flagB |   flagA | state       | lifecycle:transition   | case:concept:name   | closeCode   |   actRed |   actOrange |   flagC |   msgCount | version   |   msgType |   msgCode |\n",
    "|--------------:|:------------|:--------------------------|:-----------|:-------------|:---------------|:---------------|----------:|-----------:|--------:|--------:|--------:|:------------|:-----------------------|:--------------------|:------------|---------:|------------:|--------:|-----------:|:----------|----------:|----------:|\n",
    "|             0 | A           | 2012-12-16 19:33:10+01:00 | A          | A            | ResA           | NEW            |         0 |          1 |       1 |       0 |       0 | In progress | complete               | A                   | nan         |      nan |         nan |     nan |        nan | nan       |       nan |       nan |\n",
    "|           nan | nan         | 2013-12-15 19:00:37+01:00 | nan        | nan          | nan            | FIN            |       nan |        nan |     nan |     nan |     nan | Closed      | complete               | A                   | A           |      nan |         nan |     nan |        nan | nan       |       nan |       nan |\n",
    "|           nan | nan         | 2013-12-16 03:53:38+01:00 | nan        | nan          | nan            | RELEASE        |       nan |        nan |     nan |     nan |     nan | Released    | complete               | A                   | nan         |      nan |         nan |     nan |        nan | nan       |       nan |       nan |\n",
    "|           nan | nan         | 2013-12-17 12:56:29+01:00 | nan        | nan          | nan            | CODE OK        |       nan |        nan |     nan |     nan |     nan | nan         | complete               | A                   | nan         |        0 |           0 |       0 |          0 | A         |       nan |       nan |\n",
    "|           nan | nan         | 2013-12-19 03:44:31+01:00 | nan        | nan          | ResB           | BILLED         |       nan |        nan |     nan |     nan |     nan | Billed      | complete               | A                   | nan         |      nan |         nan |     nan |        nan | nan       |       nan |       nan |\n",
    "|             0 | B           | 2012-12-16 19:33:50+01:00 | A          | A            | ResA           | NEW            |         0 |          0 |       0 |       0 |       0 | In progress | complete               | B                   | nan         |      nan |         nan |     nan |        nan | nan       |       nan |       nan |\n",
    "|             1 | nan         | 2013-10-19 12:37:05+02:00 | nan        | nan          | ResC           | DELETE         |       nan |        nan |     nan |     nan |     nan | In progress | complete               | B                   | nan         |      nan |         nan |     nan |        nan | nan       |       nan |       nan |\n",
    "|             0 | C           | 2013-01-13 21:04:24+01:00 | A          | B            | ResA           | NEW            |         0 |          1 |       1 |       0 |       0 | In progress | complete               | C                   | nan         |      nan |         nan |     nan |        nan | nan       |       nan |       nan |\n",
    "|           nan | nan         | 2013-04-17 19:59:43+02:00 | nan        | nan          | nan            | FIN            |       nan |        nan |     nan |     nan |     nan | Closed      | complete               | C                   | B           |      nan |         nan |     nan |        nan | nan       |       nan |       nan |\n",
    "|           nan | nan         | 2013-04-18 02:30:35+02:00 | nan        | nan          | nan            | RELEASE        |       nan |        nan |     nan |     nan |     nan | Released    | complete               | C                   | nan         |      nan |         nan |     nan |        nan | nan       |       nan |       nan |\n"
   ],
   "id": "3ead40c340442239"
  },
  {
   "metadata": {},
   "cell_type": "markdown",
   "source": "# Step 1: Configure the Transformer for Training\n",
   "id": "4c34c3b0f1c35712"
  },
  {
   "metadata": {},
   "cell_type": "markdown",
   "source": [
    "You have the option to select between Activity and Timestamp (already preselected, so no additional input needed) or Activity, Timestamp, and Resource as Transformer input.\n",
    "\n",
    "<span style=\"color:red\">Please note: Indeed, in reality, there are even more combinations possible. The choices provided here result in two distinct models.</span>\n"
   ],
   "id": "c1efae138f26e9ad"
  },
  {
   "metadata": {
    "ExecuteTime": {
     "end_time": "2024-05-14T19:17:32.205128Z",
     "start_time": "2024-05-14T19:17:30.558442Z"
    }
   },
   "cell_type": "code",
   "source": "dummy_transformer.transformer_input()\n",
   "id": "7cda11f917d84d09",
   "outputs": [
    {
     "name": "stdout",
     "output_type": "stream",
     "text": [
      "Do you want to use a specific response configuration file for model training? (yes/no): \u001B[1mno\n",
      "\n",
      "\u001B[0mConfiguration of model training\n",
      "Enter the path to the file that contains the event log: \u001B[1mlogs/Hospital Billing - Event Log.xes\n",
      "\u001B[0mXES file successfully read.\n",
      "\u001B[3mInput attributes for the transformer: Activity, Timestamp\u001B[0m\n"
     ]
    }
   ],
   "execution_count": 2
  },
  {
   "metadata": {},
   "cell_type": "markdown",
   "source": [
    "You have the option to select between providing expert attributes or not.\n",
    "\n",
    "<span style=\"color:red\">Please note: The choice results in two distinct models.</span>\n"
   ],
   "id": "6badf1948b6afbd0"
  },
  {
   "metadata": {
    "ExecuteTime": {
     "end_time": "2024-05-14T19:17:41.390396Z",
     "start_time": "2024-05-14T19:17:35.103050Z"
    }
   },
   "cell_type": "code",
   "source": "dummy_transformer.expert_input()\n",
   "id": "6e35beb3ddaa71d0",
   "outputs": [
    {
     "name": "stdout",
     "output_type": "stream",
     "text": [
      "\u001B[3mExpert attributes: No\u001B[0m\n"
     ]
    }
   ],
   "execution_count": 3
  },
  {
   "metadata": {},
   "cell_type": "markdown",
   "source": [
    "\n",
    "If you've selected to provide expert attributes, you have the option to select providing expert knowledge regarding the Start Activity or the End Activity.\n",
    "\n",
    "<span style=\"color:red\">Please note: Indeed, in reality, you can also select the attribute Directly Following. Moreover, you can select more than one attribute at once. The choices provided here result in two distinct models.</span>\n"
   ],
   "id": "673dea27a4c85e76"
  },
  {
   "metadata": {
    "ExecuteTime": {
     "end_time": "2024-05-14T19:17:42.789909Z",
     "start_time": "2024-05-14T19:17:42.774274Z"
    }
   },
   "cell_type": "code",
   "source": "dummy_transformer.provide_expert_input()\n",
   "id": "49ec0946239f20b3",
   "outputs": [
    {
     "name": "stdout",
     "output_type": "stream",
     "text": [
      "\u001B[3mNo expert attributes provided.\u001B[0m\n"
     ]
    }
   ],
   "execution_count": 4
  },
  {
   "metadata": {},
   "cell_type": "markdown",
   "source": "At this point, the Transformer is trained based on the selected configuration.\n",
   "id": "eb701d1482312627"
  },
  {
   "metadata": {},
   "cell_type": "markdown",
   "source": "# Step 2: Repair the Event Log Containing the Elusive Case\n",
   "id": "37c1892c6181c3e8"
  },
  {
   "metadata": {},
   "cell_type": "markdown",
   "source": [
    "If you've provided expert attributes, you have the option to perform a rule check.\n",
    "\n",
    "<span style=\"color:red\">Please note: The choice results in two distinct outputs.</span>\n"
   ],
   "id": "12a93b0765a52c9f"
  },
  {
   "metadata": {
    "ExecuteTime": {
     "end_time": "2024-05-14T19:17:46.700876Z",
     "start_time": "2024-05-14T19:17:46.685515Z"
    }
   },
   "cell_type": "code",
   "source": "dummy_transformer.first_rule_check()\n",
   "id": "bad174153b0c1c19",
   "outputs": [
    {
     "name": "stdout",
     "output_type": "stream",
     "text": [
      "\u001B[3mNo expert attributes provided.\u001B[0m\n",
      "Please enter the minimum probability (in %) with which the Case ID must be determined in order for it to be accepted: \u001B[1m25\u001B[0m\n",
      "For 10.00% of the events, the Case ID has originally not been recorded.\n",
      "\u001B[3mOutput\u001B[0m\n",
      "Do you want to use the repaired log as the baseline for an additional repair? (yes/no): \u001B[1myes\n",
      "\u001B[0mDo you want to keep the probability threshold for the next repair? (yes/no): \u001B[1mno\n",
      "\u001B[0mDo you want to add one or more expert attributes? (yes/no): \u001B[1mno\u001B[0m\n"
     ]
    }
   ],
   "execution_count": 5
  },
  {
   "metadata": {},
   "cell_type": "markdown",
   "source": [
    "If you've provided expert attributes, you have the option to perform a rule check.\n",
    "\n",
    "<span style=\"color:red\">Please note: The choice results in two distinct outputs.</span>\n"
   ],
   "id": "fa7ad0c96511df78"
  },
  {
   "metadata": {
    "ExecuteTime": {
     "end_time": "2024-05-14T19:17:49.270115Z",
     "start_time": "2024-05-14T19:17:49.254553Z"
    }
   },
   "cell_type": "code",
   "source": "dummy_transformer.second_rule_check()\n",
   "id": "fa65ae11db57afdc",
   "outputs": [
    {
     "name": "stdout",
     "output_type": "stream",
     "text": [
      "\u001B[3mNo expert attributes provided.\u001B[0m\n"
     ]
    }
   ],
   "execution_count": 6
  },
  {
   "metadata": {},
   "cell_type": "markdown",
   "source": [
    "You have the option to select between 0 and 50 as the threshold for the Transformer.\n",
    "\n",
    "<span style=\"color:red\">Please note: Indeed, in reality, you can select any percentage as the threshold for the Transformer. The choices provided here result in two distinct outputs.</span>\n"
   ],
   "id": "d5ef71065bc2930d"
  },
  {
   "metadata": {
    "ExecuteTime": {
     "end_time": "2024-05-14T19:17:53.298193Z",
     "start_time": "2024-05-14T19:17:50.973949Z"
    }
   },
   "cell_type": "code",
   "source": "dummy_transformer.second_threshold()\n",
   "id": "9514c8e95dac479e",
   "outputs": [
    {
     "name": "stdout",
     "output_type": "stream",
     "text": [
      "\u001B[3mThreshold value: 0.0\u001B[0m\n",
      "\u001B[3mOutput\u001B[0m\n",
      "Do you want to use the repaired log as the baseline for an additional repair? (yes/no): \u001B[1myes\n",
      "\u001B[0mDo you want to keep the probability threshold for the next repair? (yes/no): \u001B[1myes\u001B[0m\n"
     ]
    }
   ],
   "execution_count": 7
  },
  {
   "metadata": {},
   "cell_type": "markdown",
   "source": [
    "You have the option to select between adding expert input or not. If yes, you have the option to select between providing expert knowledge regarding the Start Activity or the End Activity (depending on previous input). Beware that theoretically it would be best to retrain the Transformer after adding expert input.\n",
    "\n",
    "<span style=\"color:red\">Please note: Indeed, in reality, you can also select the attribute Directly Following. Moreover, you can select more than one attribute at once. The choices provided here result in multiple distinct outputs.</span>\n"
   ],
   "id": "555db782f952827"
  },
  {
   "metadata": {
    "ExecuteTime": {
     "end_time": "2024-05-14T19:18:01.746953Z",
     "start_time": "2024-05-14T19:17:54.808711Z"
    }
   },
   "cell_type": "code",
   "source": "dummy_transformer.add_expert_input()\n",
   "id": "fd4e01d488c01a27",
   "outputs": [
    {
     "name": "stdout",
     "output_type": "stream",
     "text": [
      "\u001B[3mExpert attributes: Yes\u001B[0m\n",
      "\u001B[3mExpert attribute: Start Activity\u001B[0m\n",
      "Please enter the value(s) that represent(s) the attribute 'Start Activity' (separated by commas) –\n",
      "Suggestions (proportion of cases with corresponding Activity as the Start Activity): NEW (100.00%):\n",
      "\u001B[1mNEW\u001B[0m\n",
      "Does 'NEW' always or sometimes represent the attribute 'Start Activity'?\n",
      "Enter 'always' or 'sometimes': \u001B[1malways\u001B[0m\n"
     ]
    }
   ],
   "execution_count": 8
  },
  {
   "metadata": {},
   "cell_type": "markdown",
   "source": [
    "If you've provided expert attributes, you have the option to perform a rule check.\n",
    "\n",
    "<span style=\"color:red\">Please note: The choice results in two distinct outputs.</span>\n"
   ],
   "id": "7140eb4171e544cd"
  },
  {
   "metadata": {
    "ExecuteTime": {
     "end_time": "2024-05-14T19:18:41.362637Z",
     "start_time": "2024-05-14T19:18:35.878615Z"
    }
   },
   "cell_type": "code",
   "source": "dummy_transformer.third_rule_check()\n",
   "id": "e3f9fbf70d6807b9",
   "outputs": [
    {
     "name": "stdout",
     "output_type": "stream",
     "text": [
      "\u001B[3mRule checking: Yes\u001B[0m\n",
      "Please note that incorporating declarative rule checking may result in assumption-based modifications.\n",
      "Do you want to proceed with ex post rule checking in this iteration? (yes/no): \u001B[1myes\u001B[0m\n",
      "\u001B[3mOutput\u001B[0m\n",
      "Do you want to use the repaired log as the baseline for an additional repair? (yes/no): \u001B[1mno\u001B[0m\n"
     ]
    }
   ],
   "execution_count": 9
  }
 ],
 "metadata": {
  "kernelspec": {
   "display_name": "Python 3",
   "language": "python",
   "name": "python3"
  },
  "language_info": {
   "codemirror_mode": {
    "name": "ipython",
    "version": 2
   },
   "file_extension": ".py",
   "mimetype": "text/x-python",
   "name": "python",
   "nbconvert_exporter": "python",
   "pygments_lexer": "ipython2",
   "version": "2.7.6"
  }
 },
 "nbformat": 4,
 "nbformat_minor": 5
}
