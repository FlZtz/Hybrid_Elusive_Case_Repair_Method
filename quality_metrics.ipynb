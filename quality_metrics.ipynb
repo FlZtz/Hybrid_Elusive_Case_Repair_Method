{
 "cells": [
  {
   "cell_type": "markdown",
   "id": "373d3274ab50f5b5",
   "metadata": {},
   "source": [
    "# Evaluation of Output Quality\n"
   ]
  },
  {
   "cell_type": "code",
   "execution_count": 1,
   "id": "7589758cab53053d",
   "metadata": {
    "ExecuteTime": {
     "end_time": "2024-05-07T13:36:48.664968Z",
     "start_time": "2024-05-07T13:36:33.176093Z"
    }
   },
   "outputs": [],
   "source": [
    "import os\n",
    "import pickle\n",
    "import warnings\n",
    "from typing import Tuple, Union\n",
    "\n",
    "from datetime import datetime\n",
    "import numpy as np\n",
    "import pandas as pd\n",
    "from sklearn.linear_model import LogisticRegression\n",
    "from sklearn.model_selection import train_test_split\n",
    "from sklearn.preprocessing import OneHotEncoder\n",
    "from tabulate import tabulate\n",
    "import tkinter as tk\n",
    "from tkinter import filedialog\n",
    "from tokenizers import Tokenizer\n",
    "\n",
    "from config import extract_log_name, get_file_path\n",
    "from train import check_boundary_activity_rule, check_directly_following_rule\n",
    "\n",
    "# Suppress warnings\n",
    "warnings.filterwarnings(\"ignore\")\n"
   ]
  },
  {
   "cell_type": "code",
   "execution_count": 2,
   "id": "c6aa4d0c7936acb4",
   "metadata": {
    "ExecuteTime": {
     "end_time": "2024-05-07T13:36:48.680523Z",
     "start_time": "2024-05-07T13:36:48.664968Z"
    }
   },
   "outputs": [],
   "source": [
    "def add_elusive_equivalents(metrics: pd.DataFrame) -> pd.DataFrame:\n",
    "    \"\"\"\n",
    "    Add the elusive metrics to the metrics DataFrame.\n",
    "\n",
    "    :param metrics: DataFrame containing the metrics.\n",
    "    :return: DataFrame containing the metrics with the elusive metrics added.\n",
    "    \"\"\"\n",
    "    start_completeness = metrics.loc[metrics['Iteration'] == 0, 'Completeness'].values[0]\n",
    "    \n",
    "    if start_completeness > 0:\n",
    "        for metric in [\"Completeness\", \"Accuracy\", \"Factual Accuracy\", \"Overall Accuracy\"]:\n",
    "            start_metric = metrics.loc[metrics['Iteration'] == 0, metric].values[0]\n",
    "            column_index = metrics.columns.get_loc(metric) + 1\n",
    "            metrics.insert(column_index, f\"Elus. {metric}\", None)\n",
    "\n",
    "            for i in metrics.index:\n",
    "                iteration_metric = metrics.loc[i, metric]\n",
    "                difference = iteration_metric - start_metric\n",
    "                \n",
    "                if start_metric != 100:\n",
    "                    added_metric = (difference / (100 - start_metric)) * 100\n",
    "                else:\n",
    "                    added_metric = 0\n",
    "                \n",
    "                metrics.loc[i, f\"Elus. {metric}\"] = added_metric\n",
    "\n",
    "    return metrics\n"
   ]
  },
  {
   "cell_type": "code",
   "execution_count": 3,
   "id": "176cccf3-8f91-454e-a6e0-dc8c9ceba4f7",
   "metadata": {},
   "outputs": [],
   "source": [
    "def add_proportional_equivalents(metrics: pd.DataFrame) -> pd.DataFrame:\n",
    "    \"\"\"\n",
    "    Add the proportional metrics to the metrics DataFrame.\n",
    "\n",
    "    :param metrics: DataFrame containing the metrics.\n",
    "    :return: DataFrame containing the metrics with the proportional metrics added.\n",
    "    \"\"\"\n",
    "    start_completeness = metrics.loc[metrics['Iteration'] == 0, 'Completeness'].values[0]\n",
    "    \n",
    "    if start_completeness > 0:\n",
    "        for metric in [\"Accuracy\", \"Factual Accuracy\", \"Overall Accuracy\"]:\n",
    "            column_index = metrics.columns.get_loc(f\"Elus. {metric}\") + 1\n",
    "            metrics.insert(column_index, f\"Prop. {metric}\", None)\n",
    "\n",
    "            for i in metrics.index:\n",
    "                iteration_metric = metrics.loc[i, f\"Elus. {metric}\"]\n",
    "                iteration_completeness = metrics.loc[i, 'Elus. Completeness']\n",
    "                \n",
    "                if iteration_completeness > 0:\n",
    "                    added_metric = (iteration_metric / iteration_completeness) * 100\n",
    "                else:\n",
    "                    added_metric = 0\n",
    "                \n",
    "                metrics.loc[i, f\"Prop. {metric}\"] = added_metric\n",
    "\n",
    "    return metrics\n"
   ]
  },
  {
   "cell_type": "code",
   "execution_count": 4,
   "id": "150b7690c957beff",
   "metadata": {
    "ExecuteTime": {
     "end_time": "2024-05-07T13:36:48.711828Z",
     "start_time": "2024-05-07T13:36:48.680523Z"
    }
   },
   "outputs": [],
   "source": [
    "def calculate_completely_correct_cases(predicted_df: pd.DataFrame, correct_df: pd.DataFrame, column: str) -> float:\n",
    "    \"\"\"\n",
    "    Calculate the proportion of completely correct Case ID values.\n",
    "\n",
    "    A completely correct Case ID value is one where the 'Case ID' matches the 'Determined Case ID' for all rows where\n",
    "    it appears, and vice versa.\n",
    "\n",
    "    :param predicted_df: DataFrame containing Determined Case ID values.\n",
    "    :param correct_df: DataFrame containing Case ID values.\n",
    "    :param column: Column to evaluate accuracy.\n",
    "    :return: Proportion of completely correct Case ID values.\n",
    "    \"\"\"\n",
    "    if predicted_df.empty or correct_df.empty:\n",
    "        return 0\n",
    "\n",
    "    correct_cases = []\n",
    "\n",
    "    for case_id in correct_df['Case ID'].unique():\n",
    "        subset_correct = correct_df[correct_df['Case ID'] == case_id]\n",
    "        subset_predicted = predicted_df.loc[subset_correct.index]\n",
    "\n",
    "        condition_1 = all(subset_correct['Case ID'] == subset_predicted[column])\n",
    "\n",
    "        if not condition_1:\n",
    "            continue\n",
    "\n",
    "        subset_determined = predicted_df[predicted_df[column] == case_id]\n",
    "        subset_cases = correct_df.loc[subset_determined.index]\n",
    "\n",
    "        condition_2 = all(subset_determined[column] == subset_cases['Case ID'])\n",
    "\n",
    "        if condition_2:\n",
    "            correct_cases.append(case_id)\n",
    "\n",
    "    proportion_completely_correct = len(correct_cases) / len(correct_df['Case ID'].unique()) * 100\n",
    "\n",
    "    return proportion_completely_correct\n",
    "\n",
    "\n",
    "def calculate_correct_case_different_naming(predicted_df: pd.DataFrame, correct_df: pd.DataFrame, column: str,\n",
    "                                            calculation: bool = True) -> Union[pd.DataFrame, float]:\n",
    "    \"\"\"\n",
    "    Calculate the proportion of factually completely correct Case ID values.\n",
    "\n",
    "    A factually completely correct Case ID value is one where the Determined Case ID is different from the Case ID, yet\n",
    "    uniquely maps back to the same Case ID value.\n",
    "\n",
    "    :param predicted_df: DataFrame containing Determined Case ID values.\n",
    "    :param correct_df: DataFrame containing Case ID values.\n",
    "    :param column: Column to evaluate accuracy.\n",
    "    :param calculation: If True, calculate the proportion of factually completely correct Case ID values.\n",
    "                        If False, return the list of factually completely correct Case ID values.\n",
    "    :return: Proportion of factually completely correct Case ID values if calculation is True,\n",
    "             otherwise return the DataFrame of factually completely correct Case ID values.\n",
    "    \"\"\"\n",
    "    if predicted_df.empty or correct_df.empty:\n",
    "        return 0 if calculation else pd.DataFrame()\n",
    "\n",
    "    correct_cases = []\n",
    "\n",
    "    for case_id in correct_df['Case ID'].unique():\n",
    "        subset_correct = correct_df[correct_df['Case ID'] == case_id]\n",
    "        subset_predicted = predicted_df.loc[subset_correct.index]\n",
    "\n",
    "        condition_1 = len(subset_predicted[column].unique()) == 1\n",
    "\n",
    "        if not condition_1:\n",
    "            continue\n",
    "\n",
    "        unique_value = subset_predicted[column].iloc[0]\n",
    "\n",
    "        condition_2 = unique_value != case_id\n",
    "\n",
    "        if not condition_2:\n",
    "            continue\n",
    "\n",
    "        condition_3 = not predicted_df[(predicted_df[column] == unique_value) & \n",
    "                                       (correct_df['Case ID'] != case_id)].any().any()\n",
    "\n",
    "        if condition_3:\n",
    "            correct_cases.append(case_id)\n",
    "\n",
    "    if not calculation:\n",
    "        matching_rows = correct_df[correct_df['Case ID'].isin(correct_cases)]\n",
    "        return matching_rows\n",
    "\n",
    "    proportion_correct_different_naming = len(correct_cases) / len(correct_df['Case ID'].unique()) * 100\n",
    "\n",
    "    return proportion_correct_different_naming\n",
    "\n",
    "\n",
    "def calculate_factual_matching_proportion(predicted_df: pd.DataFrame, correct_df: pd.DataFrame, column: str) -> float:\n",
    "    \"\"\"\n",
    "    Calculate the proportion of factually matching Case ID values.\n",
    "\n",
    "    :param predicted_df: DataFrame containing Determined Case ID values.\n",
    "    :param correct_df: DataFrame containing Case ID values.\n",
    "    :param column: Column to evaluate accuracy.\n",
    "    :return: Proportion of factually matching Case ID values.\n",
    "    \"\"\"\n",
    "    if predicted_df.empty or correct_df.empty:\n",
    "        return 0\n",
    "\n",
    "    matching_rows = calculate_correct_case_different_naming(predicted_df, correct_df, column, False)\n",
    "    proportion_factual_matching = len(matching_rows) / len(predicted_df) * 100\n",
    "\n",
    "    return proportion_factual_matching\n",
    "\n",
    "\n",
    "def calculate_matching_proportion(predicted_df: pd.DataFrame, correct_df: pd.DataFrame, column: str) -> float:\n",
    "    \"\"\"\n",
    "    Calculate the proportion of matching Case ID values.\n",
    "\n",
    "    :param predicted_df: DataFrame containing Determined Case ID values.\n",
    "    :param correct_df: DataFrame containing Case ID values.\n",
    "    :param column: Column to evaluate accuracy.\n",
    "    :return: Proportion of matching Case ID values.\n",
    "    \"\"\"\n",
    "    if predicted_df.empty or correct_df.empty:\n",
    "        return 0\n",
    "\n",
    "    matching_rows = predicted_df[predicted_df[column] == correct_df['Case ID']]\n",
    "    proportion_matching = len(matching_rows) / len(predicted_df) * 100\n",
    "\n",
    "    return proportion_matching\n",
    "\n",
    "\n",
    "def evaluate_accuracy(predicted_df: pd.DataFrame, complete_df: pd.DataFrame, column: str) -> dict:\n",
    "    \"\"\"\n",
    "    Evaluate the accuracy of the repaired log.\n",
    "\n",
    "    :param predicted_df: DataFrame containing the determined log.\n",
    "    :param complete_df: DataFrame containing complete log.\n",
    "    :param column: Column to evaluate accuracy.\n",
    "    :return: Dictionary containing the quality metrics.\n",
    "    \"\"\"\n",
    "    matching = calculate_matching_proportion(predicted_df, complete_df, column)\n",
    "    factual_matching = calculate_factual_matching_proportion(predicted_df, complete_df, column)\n",
    "    correct_proportion = calculate_completely_correct_cases(predicted_df, complete_df, column)\n",
    "    factual_correct_proportion = calculate_correct_case_different_naming(predicted_df, complete_df, column)\n",
    "\n",
    "    return {\n",
    "        \"Accuracy\": matching,\n",
    "        \"Factual Accuracy\": factual_matching,\n",
    "        \"Overall Accuracy\": matching + factual_matching,\n",
    "        \"Real Case Accuracy\": correct_proportion,\n",
    "        \"Factual Case Accuracy\": factual_correct_proportion,\n",
    "        \"Overall Case Accuracy\": correct_proportion + factual_correct_proportion\n",
    "    }\n"
   ]
  },
  {
   "cell_type": "code",
   "execution_count": 5,
   "id": "1d1fbcc9e37b07b9",
   "metadata": {
    "ExecuteTime": {
     "end_time": "2024-05-07T13:36:48.727457Z",
     "start_time": "2024-05-07T13:36:48.711828Z"
    }
   },
   "outputs": [],
   "source": [
    "def evaluate_completeness(df: pd.DataFrame, column: str) -> float:\n",
    "    \"\"\"\n",
    "    Evaluate the completeness of the log.\n",
    "\n",
    "    :param df: DataFrame containing the log.\n",
    "    :param column: Column to evaluate completeness.\n",
    "    :return: Proportion of missing values in the 'Case ID' column.\n",
    "    \"\"\"\n",
    "    if column not in df.columns:\n",
    "        return float('-inf')\n",
    "\n",
    "    percentage_not_na = (1 - df[column].isna().sum() / len(df[column])) * 100\n",
    "    return percentage_not_na\n"
   ]
  },
  {
   "cell_type": "code",
   "execution_count": 6,
   "id": "6de1ecf6abac8cab",
   "metadata": {
    "ExecuteTime": {
     "end_time": "2024-05-07T13:36:48.758673Z",
     "start_time": "2024-05-07T13:36:48.727457Z"
    }
   },
   "outputs": [],
   "source": [
    "def calculate_directly_following_consistency(df: pd.DataFrame, configuration: dict, column: str) -> float:\n",
    "    \"\"\"\n",
    "    Calculate the proportion of cases containing solely correct directly following activities.\n",
    "\n",
    "    Solely correct directly following activities means that, for each case, it verifies whether the directly following \n",
    "    activities occur in the correct order and have the same non-zero number of predecessors and successors as defined \n",
    "    in the configuration.\n",
    "    \n",
    "    :param df: The DataFrame containing the log.\n",
    "    :param configuration: The configuration dictionary.\n",
    "    :param column: The column to evaluate consistency.\n",
    "    :return: The proportion of correct directly following activities in all cases.\n",
    "    \"\"\"\n",
    "    num_correct_directly_following = 0\n",
    "    directly_following = configuration['complete_expert_values']['Directly Following']\n",
    "    always_directly_following = [pair for pair, occurrence in zip(\n",
    "        directly_following['values'], directly_following['occurrences']) if occurrence == 'always']\n",
    "\n",
    "    for case_id, group in df.groupby(column):\n",
    "        if pd.notna(case_id):\n",
    "            is_consistent_case = True\n",
    "            \n",
    "            for predecessor, successor in always_directly_following:\n",
    "                if not is_consistent_case:\n",
    "                    break\n",
    "                positions_predecessor = group[group['Activity'] == predecessor].index.tolist()\n",
    "                positions_successor = group[group['Activity'] == successor].index.tolist()\n",
    "\n",
    "                if not positions_predecessor or not positions_successor:\n",
    "                    is_consistent_case = False\n",
    "                    break\n",
    "                \n",
    "                if len(positions_predecessor) != len(positions_successor):\n",
    "                    is_consistent_case = False\n",
    "                    break\n",
    "                \n",
    "                first_predecessor, last_predecessor = positions_predecessor[0], positions_predecessor[-1]\n",
    "                first_successor, last_successor = positions_successor[0], positions_successor[-1]\n",
    "                \n",
    "                if first_predecessor > first_successor or last_predecessor > last_successor:\n",
    "                    is_consistent_case = False\n",
    "                    break\n",
    "\n",
    "            if is_consistent_case:\n",
    "                num_correct_directly_following += 1\n",
    "\n",
    "    num_cases = len(df[column].dropna().unique())\n",
    "\n",
    "    return (num_correct_directly_following / num_cases * 100) if num_cases else 0\n",
    "\n",
    "\n",
    "def calculate_end_activity_consistency(df: pd.DataFrame, configuration: dict, column: str) -> float:\n",
    "    \"\"\"\n",
    "    Calculate the proportion of correct end activities.\n",
    "\n",
    "    A correct end activity is one that is present in the expert input values for the end activity.\n",
    "\n",
    "    :param df: The DataFrame containing the log.\n",
    "    :param configuration: The configuration dictionary.\n",
    "    :param column: The column to evaluate consistency.\n",
    "    :return: The proportion of correct end activities in all cases.\n",
    "    \"\"\"\n",
    "    num_correct_end = 0\n",
    "\n",
    "    for case_id, group in df.groupby(column):\n",
    "        if pd.notna(case_id):\n",
    "            end_activity = group['Activity'].iloc[-1]\n",
    "            if end_activity in configuration['complete_expert_values']['End Activity']['values']:\n",
    "                num_correct_end += 1\n",
    "\n",
    "    num_cases = len(df[column].dropna().unique())\n",
    "\n",
    "    return (num_correct_end / num_cases * 100) if num_cases else 0\n",
    "\n",
    "\n",
    "def calculate_start_activity_consistency(df: pd.DataFrame, configuration: dict, column: str) -> float:\n",
    "    \"\"\"\n",
    "    Calculate the proportion of correct start activities.\n",
    "\n",
    "    A correct start activity is one that is present in the expert input values for the start activity.\n",
    "\n",
    "    :param df: The DataFrame containing the log.\n",
    "    :param configuration: The configuration dictionary.\n",
    "    :param column: The column to evaluate consistency.\n",
    "    :return: The proportion of correct start activities in all cases.\n",
    "    \"\"\"\n",
    "    num_correct_start = 0\n",
    "\n",
    "    for case_id, group in df.groupby(column):\n",
    "        if pd.notna(case_id):\n",
    "            start_activity = group['Activity'].iloc[0]\n",
    "            if start_activity in configuration['complete_expert_values']['Start Activity']['values']:\n",
    "                num_correct_start += 1\n",
    "\n",
    "    num_cases = len(df[column].dropna().unique())\n",
    "\n",
    "    return (num_correct_start / num_cases * 100) if num_cases else 0\n",
    "\n",
    "\n",
    "def evaluate_consistency(df: pd.DataFrame, configuration: dict, column: str) -> dict:\n",
    "    \"\"\"\n",
    "    Evaluate the consistency of the log.\n",
    "\n",
    "    :param df: The DataFrame containing the log.\n",
    "    :param configuration: The configuration dictionary.\n",
    "    :param column: The column to evaluate consistency.\n",
    "    :return: Dictionary containing the quality metrics.\n",
    "    \"\"\"\n",
    "    if not configuration['complete_expert_attributes'] or column not in df.columns:\n",
    "        return {}\n",
    "    \n",
    "    start_activity_consistency, end_activity_consistency, directly_following_consistency = None, None, None\n",
    "\n",
    "    for attribute in configuration['complete_expert_attributes']:\n",
    "        if attribute == 'Start Activity':\n",
    "            start_activity_consistency = calculate_start_activity_consistency(df, configuration, column)\n",
    "        elif attribute == 'End Activity':\n",
    "            end_activity_consistency = calculate_end_activity_consistency(df, configuration, column)\n",
    "        elif attribute == 'Directly Following':\n",
    "            directly_following_consistency = calculate_directly_following_consistency(df, configuration, column)\n",
    "\n",
    "    return {\n",
    "        \"St. Ac. Consistency\": start_activity_consistency,\n",
    "        \"End Ac. Consistency\": end_activity_consistency,\n",
    "        \"Di. Fo. Consistency\": directly_following_consistency\n",
    "    }\n"
   ]
  },
  {
   "cell_type": "code",
   "execution_count": 7,
   "id": "7718604500500e32",
   "metadata": {
    "ExecuteTime": {
     "end_time": "2024-05-07T13:36:48.774265Z",
     "start_time": "2024-05-07T13:36:48.758673Z"
    }
   },
   "outputs": [],
   "source": [
    "def evaluate_iteration(iteration: int, predicted_log: pd.DataFrame, complete_log: pd.DataFrame, configuration: dict, \n",
    "                       column: str = 'Determined Case ID') -> dict:\n",
    "    \"\"\"\n",
    "    Evaluate the quality metrics for a given iteration.\n",
    "    \n",
    "    :param iteration: The iteration number.\n",
    "    :param predicted_log: The DataFrame containing the predicted log.\n",
    "    :param complete_log: The DataFrame containing the complete log.\n",
    "    :param configuration: The configuration dictionary.\n",
    "    :param column: The column to evaluate the metrics.\n",
    "    :return: Dictionary containing the quality metrics.\n",
    "    \"\"\"\n",
    "    completeness = evaluate_completeness(predicted_log, column)\n",
    "    iteration_metrics = {\"Iteration\": iteration, \"Completeness\": completeness}\n",
    "    accuracy = evaluate_accuracy(predicted_log, complete_log, column)\n",
    "    iteration_metrics.update(accuracy)\n",
    "    consistency = evaluate_consistency(predicted_log, configuration, column)\n",
    "    iteration_metrics.update(consistency)\n",
    "    return iteration_metrics\n"
   ]
  },
  {
   "cell_type": "code",
   "execution_count": 8,
   "id": "1b1fa2ebafd9d7a0",
   "metadata": {
    "ExecuteTime": {
     "end_time": "2024-05-07T13:36:48.789888Z",
     "start_time": "2024-05-07T13:36:48.774265Z"
    }
   },
   "outputs": [],
   "source": [
    "def evaluate_other_log(metrics: pd.DataFrame, log: pd.DataFrame, complete_log: pd.DataFrame,\n",
    "                       model_configuration: dict) -> pd.DataFrame:\n",
    "    \"\"\"\n",
    "    Evaluate the created log.\n",
    "    \n",
    "    :param metrics: The DataFrame containing the quality metrics.\n",
    "    :param log: The DataFrame containing the created log.\n",
    "    :param complete_log: The DataFrame containing the complete log.\n",
    "    :param model_configuration: The configuration dictionary.\n",
    "    :return: The DataFrame containing the quality metrics.\n",
    "    \"\"\"\n",
    "    log_metrics = metrics[metrics['Iteration'] == 0].copy()\n",
    "    iteration_metrics = evaluate_iteration(1, log, complete_log, model_configuration)\n",
    "    log_metrics = pd.concat([log_metrics, pd.DataFrame([iteration_metrics])], ignore_index=True)\n",
    "    return log_metrics\n"
   ]
  },
  {
   "cell_type": "code",
   "execution_count": 9,
   "id": "15b37fa02ad6db9d",
   "metadata": {
    "ExecuteTime": {
     "end_time": "2024-05-07T13:36:48.805512Z",
     "start_time": "2024-05-07T13:36:48.789888Z"
    }
   },
   "outputs": [],
   "source": [
    "def evaluate_repaired_logs(folder_path: str, log_name: str, complete_log: pd.DataFrame, \n",
    "                           configuration: dict) -> Tuple[pd.DataFrame, pd.DataFrame]:\n",
    "    \"\"\"\n",
    "    Evaluate the repaired logs.\n",
    "\n",
    "    :param folder_path: Path to the folder containing the repaired logs.\n",
    "    :param log_name: Name of the log.\n",
    "    :param complete_log: DataFrame containing the complete log.\n",
    "    :param configuration: Dictionary containing the expert input used for training.\n",
    "    :return: DataFrame containing the quality metrics and DataFrame containing the elusive log.\n",
    "    \"\"\"\n",
    "    quality_metrics = pd.DataFrame(columns=[\n",
    "        \"Iteration\", \"Completeness\", \"Accuracy\", \"Factual Accuracy\", \"Overall Accuracy\", \"Real Case Accuracy\",\n",
    "        \"Factual Case Accuracy\", \"Overall Case Accuracy\", \"St. Ac. Consistency\", \"End Ac. Consistency\", \n",
    "        \"Di. Fo. Consistency\"\n",
    "    ])\n",
    "    \n",
    "    elusive_log = pd.DataFrame()\n",
    "\n",
    "    if os.path.exists(folder_path):\n",
    "        num_iterations = len([f for f in os.listdir(folder_path) if f.endswith('.csv')\n",
    "                              and f.startswith(f\"determined_{log_name}_iteration_\")])\n",
    "\n",
    "        if num_iterations:\n",
    "            for i in range(1, num_iterations + 1):\n",
    "                log_file = os.path.join(folder_path, f\"determined_{log_name}_iteration_{i}.csv\")\n",
    "\n",
    "                if os.path.exists(log_file):\n",
    "                    predicted_log = pd.read_csv(log_file)\n",
    "\n",
    "                    if i == 1:\n",
    "                        iteration_metrics = evaluate_iteration(0, predicted_log, complete_log, configuration,\n",
    "                                                               'Original Case ID')\n",
    "                        quality_metrics = pd.DataFrame([iteration_metrics])\n",
    "                        columns_to_exclude = {'Determined Case ID', 'Iteration Probability',\n",
    "                                              'Determination Probability', 'Determination Follow-up Probability'}\n",
    "                        elusive_log = predicted_log.drop(columns=columns_to_exclude.intersection(predicted_log.columns))\n",
    "                    iteration_metrics = evaluate_iteration(i, predicted_log, complete_log, configuration)\n",
    "                    quality_metrics = pd.concat([quality_metrics, pd.DataFrame([iteration_metrics])], ignore_index=True)\n",
    "      \n",
    "    quality_metrics = format_consistency_metrics(quality_metrics, configuration)\n",
    "\n",
    "    return quality_metrics, elusive_log\n"
   ]
  },
  {
   "cell_type": "code",
   "execution_count": 10,
   "id": "9e888c543769efc5",
   "metadata": {
    "ExecuteTime": {
     "end_time": "2024-05-07T13:36:48.821142Z",
     "start_time": "2024-05-07T13:36:48.805512Z"
    }
   },
   "outputs": [],
   "source": [
    "def fill_missing_case_ids_heuristic(elusive_log: pd.DataFrame, configuration: dict, log_name: str) -> pd.DataFrame:\n",
    "    \"\"\"\n",
    "    Fill the missing Case ID values in the elusive log using a heuristic approach.\n",
    "    \n",
    "    :param elusive_log: The DataFrame containing the elusive log.\n",
    "    :param configuration: The configuration dictionary.\n",
    "    :param log_name: The name of the log file.\n",
    "    :return: The DataFrame containing the elusive log with the missing Case ID values filled.\n",
    "    \"\"\"\n",
    "    heuristic_file = f\"evaluation/{log_name}/heuristic/heuristic_{log_name}.csv\"\n",
    "    \n",
    "    if os.path.exists(heuristic_file) and os.path.getsize(heuristic_file) > 0:\n",
    "        log = pd.read_csv(heuristic_file)\n",
    "        print(\"Heuristic log successfully read.\")\n",
    "        return log\n",
    "    \n",
    "    elusive_log['Determined Case ID'] = elusive_log['Original Case ID']\n",
    "    elusive_log['Timestamp'] = pd.to_datetime(elusive_log['Timestamp'])\n",
    "    \n",
    "    possible_expert_attributes = ['Start Activity', 'End Activity', 'Directly Following']\n",
    "    included_attributes = [attr for attr in possible_expert_attributes if \n",
    "                           attr in configuration['complete_expert_attributes']]\n",
    "    \n",
    "    if included_attributes:\n",
    "        if 'Start Activity' in included_attributes:\n",
    "            elusive_log = check_boundary_activity_rule(configuration, elusive_log, False, 'start')\n",
    "        if 'End Activity' in included_attributes:\n",
    "            elusive_log = check_boundary_activity_rule(configuration, elusive_log, False, 'end')\n",
    "        if 'Directly Following' in included_attributes:\n",
    "            elusive_log = check_directly_following_rule(configuration, elusive_log, False)\n",
    "    \n",
    "    columns_to_exclude = {'Probability', 'Follow-up Probability', 'Modification'}\n",
    "    elusive_log.drop(columns=columns_to_exclude.intersection(elusive_log.columns), inplace=True)\n",
    "    \n",
    "    return elusive_log\n"
   ]
  },
  {
   "cell_type": "code",
   "execution_count": 11,
   "id": "f15166bf59e288b",
   "metadata": {
    "ExecuteTime": {
     "end_time": "2024-05-07T13:36:48.836842Z",
     "start_time": "2024-05-07T13:36:48.821142Z"
    }
   },
   "outputs": [],
   "source": [
    "def fill_missing_case_ids_logreg(complete_log: pd.DataFrame, elusive_log: pd.DataFrame, log_name: str) -> pd.DataFrame:\n",
    "    \"\"\"\n",
    "    Fill the missing Case ID values in the elusive log using a logistic regression model.\n",
    "    \n",
    "    :param complete_log: The DataFrame containing the complete log.\n",
    "    :param elusive_log: The DataFrame containing the elusive log.\n",
    "    :param log_name: The name of the log file.\n",
    "    :return: The DataFrame containing the elusive log with the missing Case ID values filled.\n",
    "    \"\"\"\n",
    "    log_reg_file = f\"evaluation/{log_name}/logistic_regression/logistic_regression_{log_name}.csv\"\n",
    "    \n",
    "    if os.path.exists(log_reg_file) and os.path.getsize(log_reg_file) > 0:\n",
    "        log = pd.read_csv(log_reg_file)\n",
    "        print(\"Logistic regression log successfully read.\")\n",
    "        return log\n",
    "    \n",
    "    elusive_log['Determined Case ID'] = elusive_log['Original Case ID']\n",
    "    input_data = elusive_log.copy()\n",
    "    \n",
    "    categorical_cols = ['Activity', 'Resource']\n",
    "    for col in categorical_cols:\n",
    "        if col in input_data.columns:\n",
    "            if len(input_data[col].unique()) > 2:\n",
    "                encoder = OneHotEncoder()\n",
    "                encoded_cols = pd.DataFrame(encoder.fit_transform(input_data[[col]]).toarray(),\n",
    "                                            columns=encoder.get_feature_names_out([col]))\n",
    "                input_data.drop(columns=[col], inplace=True)\n",
    "                input_data = pd.concat([input_data, encoded_cols], axis=1)\n",
    "            else:\n",
    "                input_data[col] = input_data[col].astype('category').cat.codes\n",
    "    \n",
    "    if 'Timestamp' in input_data.columns:\n",
    "        input_data['Timestamp'] = pd.to_datetime(input_data['Timestamp'])\n",
    "        min_timestamp = input_data['Timestamp'].min()\n",
    "        max_timestamp = input_data['Timestamp'].max()\n",
    "        input_data['Timestamp'] = (input_data['Timestamp'] - min_timestamp) / (max_timestamp - min_timestamp)\n",
    "    \n",
    "    missing_indices = input_data['Determined Case ID'].isna()\n",
    "    missing_data = input_data[missing_indices].drop(columns=['Original Case ID', 'Determined Case ID'])\n",
    "    \n",
    "    if missing_indices.any():\n",
    "        target_values = complete_log['Case ID']\n",
    "        source_values = input_data.drop(columns=['Original Case ID', 'Determined Case ID'])\n",
    "        \n",
    "        X_train, X_test, y_train, y_test = train_test_split(source_values, target_values, test_size=0.2)\n",
    "        \n",
    "        model = LogisticRegression()\n",
    "        model.fit(X_train, y_train)\n",
    "        \n",
    "        predicted_values = model.predict(missing_data)\n",
    "        elusive_log.loc[missing_indices, 'Determined Case ID'] = predicted_values\n",
    "        \n",
    "        print(\"Filled missing Case ID values using logistic regression.\")\n",
    "    \n",
    "    return elusive_log\n"
   ]
  },
  {
   "cell_type": "code",
   "execution_count": 12,
   "id": "542a104565063188",
   "metadata": {
    "ExecuteTime": {
     "end_time": "2024-05-07T13:36:48.852396Z",
     "start_time": "2024-05-07T13:36:48.836842Z"
    }
   },
   "outputs": [],
   "source": [
    "def format_consistency_metrics(metrics: pd.DataFrame, configuration: dict) -> pd.DataFrame:\n",
    "    \"\"\"\n",
    "    Format the consistency metrics DataFrame.\n",
    "    \n",
    "    :param metrics: DataFrame containing the consistency metrics.\n",
    "    :param configuration: The configuration dictionary.\n",
    "    :return: DataFrame containing the consistency metrics with the appropriate columns.\n",
    "    \"\"\"\n",
    "    possible_expert_attributes = ['Start Activity', 'End Activity', 'Directly Following']\n",
    "    included_attributes = [attr for attr in possible_expert_attributes if \n",
    "                           attr in configuration['complete_expert_attributes']]\n",
    "    missing_attributes = [attr for attr in possible_expert_attributes if \n",
    "                          attr not in configuration['complete_expert_attributes']]\n",
    "    \n",
    "    if included_attributes:\n",
    "        if ('Directly Following' in included_attributes and \n",
    "                'always' not in configuration['complete_expert_values']['Directly Following']['occurrences']):\n",
    "            metrics.drop(columns=\"Di. Fo. Consistency\", inplace=True)\n",
    "    \n",
    "    if missing_attributes:\n",
    "        if 'Start Activity' in missing_attributes and \"St. Ac. Consistency\" in metrics.columns:\n",
    "            metrics.drop(columns=\"St. Ac. Consistency\", inplace=True)\n",
    "        if 'End Activity' in missing_attributes and \"End Ac. Consistency\" in metrics.columns:\n",
    "            metrics.drop(columns=\"End Ac. Consistency\", inplace=True)\n",
    "        if 'Directly Following' in missing_attributes and \"Di. Fo. Consistency\" in metrics.columns:\n",
    "            metrics.drop(columns=\"Di. Fo. Consistency\", inplace=True)\n",
    "    \n",
    "    return metrics\n"
   ]
  },
  {
   "cell_type": "code",
   "execution_count": 13,
   "id": "d8d8f1a9cedfcf2d",
   "metadata": {
    "ExecuteTime": {
     "end_time": "2024-05-07T13:36:48.868018Z",
     "start_time": "2024-05-07T13:36:48.852396Z"
    }
   },
   "outputs": [],
   "source": [
    "def format_metrics(metrics: pd.DataFrame) -> pd.DataFrame:\n",
    "    \"\"\"\n",
    "    Format the quality metrics DataFrame.\n",
    "\n",
    "    :param metrics: DataFrame containing the quality metrics.\n",
    "    :return: Formatted DataFrame.\n",
    "    \"\"\"\n",
    "    if metrics.empty:\n",
    "        return metrics\n",
    "\n",
    "    cols_to_format = metrics.columns.drop('Iteration')\n",
    "    metrics[cols_to_format] = metrics[cols_to_format].applymap(lambda x: '{:.2f}%'.format(x) if pd.notnull(x) else \"\")\n",
    "    metrics['Iteration'] = metrics['Iteration'].astype(int)\n",
    "\n",
    "    return metrics\n"
   ]
  },
  {
   "cell_type": "code",
   "execution_count": 14,
   "id": "f635854ae114b1f4",
   "metadata": {
    "ExecuteTime": {
     "end_time": "2024-05-07T13:36:48.889578Z",
     "start_time": "2024-05-07T13:36:48.868018Z"
    }
   },
   "outputs": [],
   "source": [
    "def get_input() -> Tuple[pd.DataFrame, str, str, dict, Tokenizer]:\n",
    "    \"\"\"\n",
    "    Prompt the user to input the path to the folder containing the repaired logs as well as the complete log with \n",
    "    corresponding name and the tokenizer for the case IDs, and retrieve the model configuration if available.\n",
    "\n",
    "    :return: A tuple containing the complete log DataFrame, the name of the complete log file, the path to the folder \n",
    "     containing the repaired logs after each iteration, and a dictionary representing the model configuration if \n",
    "     available, otherwise an empty dictionary, and a Tokenizer object representing the tokenizer if available,\n",
    "     otherwise a Tokenizer object initialized with None.\n",
    "    \"\"\"\n",
    "    complete_log_path = get_file_path(\"preprocessed complete log\")\n",
    "\n",
    "    if os.path.exists(complete_log_path):\n",
    "        complete_log = pd.read_csv(complete_log_path)\n",
    "        print(\"CSV file successfully read.\")\n",
    "        log_name = extract_log_name(complete_log_path)\n",
    "\n",
    "        if \"DISPLAY\" in os.environ:\n",
    "            root = tk.Tk()\n",
    "            root.withdraw()\n",
    "\n",
    "            folder_path = filedialog.askdirectory(\n",
    "                title=\"Select the folder that contains the repaired logs after each iteration\")\n",
    "\n",
    "            if not folder_path:\n",
    "                raise ValueError(\"Error: No file selected.\")\n",
    "        else:\n",
    "            folder_path = input(\"Enter the path to the folder that contains the repaired logs after each iteration: \")\n",
    "\n",
    "            if not folder_path:\n",
    "                raise ValueError(\"Error: No file selected.\")\n",
    "\n",
    "            folder_path = folder_path.strip('\"')\n",
    "\n",
    "        print(\"Folder path successfully read.\")\n",
    "        \n",
    "        configuration_path = get_file_path(\"model configuration\")\n",
    "        \n",
    "        if os.path.exists(configuration_path):\n",
    "            with open(configuration_path, 'rb') as file:\n",
    "                model_configuration = pickle.load(file)\n",
    "                print(\"Model configuration file successfully read.\")\n",
    "            \n",
    "            model_configuration = {key: value.to_dict() if isinstance(value, pd.DataFrame) else value for key, value in\n",
    "                                   model_configuration.items()}\n",
    "            \n",
    "            tokenizer_path = get_file_path(\"case ID tokenizer\")\n",
    "            \n",
    "            if os.path.exists(tokenizer_path):\n",
    "                tokenizer = Tokenizer.from_file(tokenizer_path)\n",
    "                print(\"Tokenizer successfully read.\")\n",
    "                \n",
    "                return complete_log, log_name, folder_path, model_configuration, tokenizer\n",
    "\n",
    "            return complete_log, log_name, folder_path, model_configuration, Tokenizer(None)\n",
    "        \n",
    "        return complete_log, log_name, folder_path, {}, Tokenizer(None)\n",
    "\n",
    "    return pd.DataFrame(), \"\", \"\", {}, Tokenizer(None)\n"
   ]
  },
  {
   "cell_type": "code",
   "execution_count": 15,
   "id": "e9ec5cb5f083a59b",
   "metadata": {
    "ExecuteTime": {
     "end_time": "2024-05-07T13:36:48.905681Z",
     "start_time": "2024-05-07T13:36:48.890116Z"
    }
   },
   "outputs": [],
   "source": [
    "def perform_evaluation() -> None:\n",
    "    \"\"\"\n",
    "    Perform the evaluation of the repaired logs.\n",
    "    \"\"\"\n",
    "    complete_log, log_name, folder_path, model_configuration, tokenizer = get_input()\n",
    "    \n",
    "    if folder_path:\n",
    "        metrics, elusive_log = evaluate_repaired_logs(folder_path, log_name, complete_log, model_configuration)\n",
    "        \n",
    "        random_log = randomize_missing_case_ids(elusive_log, tokenizer, log_name)\n",
    "        random_metrics = evaluate_other_log(metrics, random_log, complete_log, model_configuration)\n",
    "        random_metrics = format_consistency_metrics(random_metrics, model_configuration)\n",
    "        \n",
    "        logistic_log = fill_missing_case_ids_logreg(complete_log, elusive_log, log_name)\n",
    "        logistic_metrics = evaluate_other_log(metrics, logistic_log, complete_log, model_configuration)\n",
    "        logistic_metrics = format_consistency_metrics(logistic_metrics, model_configuration)\n",
    "        \n",
    "        heuristic_log = fill_missing_case_ids_heuristic(elusive_log, model_configuration, log_name)\n",
    "        heuristic_metrics = evaluate_other_log(metrics, heuristic_log, complete_log, model_configuration)\n",
    "        heuristic_metrics = format_consistency_metrics(heuristic_metrics, model_configuration)\n",
    "        \n",
    "        process_metrics(metrics, log_name)\n",
    "        process_metrics(random_metrics, log_name, 'randomized', random_log)\n",
    "        process_metrics(logistic_metrics, log_name, 'logistic regression', logistic_log)\n",
    "        process_metrics(heuristic_metrics, log_name, 'heuristic', heuristic_log)\n"
   ]
  },
  {
   "cell_type": "code",
   "execution_count": 16,
   "id": "57f4364067a174a4",
   "metadata": {
    "ExecuteTime": {
     "end_time": "2024-05-07T13:36:48.921313Z",
     "start_time": "2024-05-07T13:36:48.905681Z"
    }
   },
   "outputs": [],
   "source": [
    "def print_metrics(metrics: pd.DataFrame) -> None:\n",
    "    \"\"\"\n",
    "    Print the evaluation metrics in a tabular format.\n",
    "    \n",
    "    :param metrics: DataFrame containing the evaluation metrics.\n",
    "    \"\"\"\n",
    "    num_columns = len(metrics.columns) - 1\n",
    "    num_tables = (num_columns + 3) // 4\n",
    "    \n",
    "    for i in range(num_tables):\n",
    "        start_idx = 1 + 4 * i\n",
    "        end_idx = min(start_idx + 4, num_columns + 1)\n",
    "        indices = [0] + list(range(start_idx, end_idx))\n",
    "        metrics_table = metrics.iloc[:, indices]\n",
    "        print(tabulate(metrics_table, headers='keys', tablefmt='grid', showindex=False))\n"
   ]
  },
  {
   "cell_type": "code",
   "execution_count": 17,
   "id": "8b640d1990ea4e97",
   "metadata": {
    "ExecuteTime": {
     "end_time": "2024-05-07T13:36:48.936977Z",
     "start_time": "2024-05-07T13:36:48.921313Z"
    }
   },
   "outputs": [],
   "source": [
    "def process_metrics(metrics: pd.DataFrame, log_name: str, model_name: str = 'transformer', \n",
    "                    log: pd.DataFrame = pd. DataFrame()) -> None:\n",
    "    \"\"\"\n",
    "    Process the evaluation metrics and save them to a CSV file.\n",
    "    \n",
    "    :param metrics: DataFrame containing the evaluation metrics.\n",
    "    :param log_name: Name of the log file.\n",
    "    :param model_name: Name of the model used for evaluation. Default is 'transformer'.\n",
    "    :param log: DataFrame containing the log. Default is an empty DataFrame.\n",
    "    \"\"\"\n",
    "    metrics = add_elusive_equivalents(metrics)\n",
    "    metrics = add_proportional_equivalents(metrics)\n",
    "    metrics = format_metrics(metrics)\n",
    "    save_metrics(metrics, log_name, model_name, log)\n",
    "    print(\"\\n=== \" + model_name.upper() + \" ===\\n\")\n",
    "    print_metrics(metrics)\n"
   ]
  },
  {
   "cell_type": "code",
   "execution_count": 18,
   "id": "14840cf9ee8f2eb8",
   "metadata": {
    "ExecuteTime": {
     "end_time": "2024-05-07T13:36:48.952600Z",
     "start_time": "2024-05-07T13:36:48.936977Z"
    }
   },
   "outputs": [],
   "source": [
    "def randomize_missing_case_ids(elusive_log: pd.DataFrame, tokenizer: Tokenizer, log_name: str) -> pd.DataFrame:\n",
    "    \"\"\"\n",
    "    Randomize the missing Case ID values in the elusive log.\n",
    "    \n",
    "    :param elusive_log: Log containing missing Case ID values.\n",
    "    :param tokenizer: Tokenizer object used to generate random case IDs.\n",
    "    :param log_name: Name of the log file.\n",
    "    :return: Log with missing Case ID values randomized.\n",
    "    \"\"\"\n",
    "    randomized_file = f\"evaluation/{log_name}/randomized/randomized_{log_name}.csv\"\n",
    "    \n",
    "    if os.path.exists(randomized_file) and os.path.getsize(randomized_file) > 0:\n",
    "        log = pd.read_csv(randomized_file)\n",
    "        print(\"Randomized log successfully read.\")\n",
    "        return log\n",
    "    \n",
    "    elusive_log['Determined Case ID'] = elusive_log['Original Case ID']\n",
    "    missing_indices = elusive_log['Determined Case ID'].isna()\n",
    "    \n",
    "    if missing_indices.any():\n",
    "        special_tokens = {\"[UNK]\", \"[PAD]\", \"[SOS]\", \"[EOS]\", \"[NONE]\"}\n",
    "        all_tokens = set(tokenizer.get_vocab().keys())\n",
    "        eligible_tokens = list(all_tokens - special_tokens)\n",
    "        \n",
    "        if not eligible_tokens:\n",
    "            raise ValueError(\"Tokenizer vocabulary does not contain any eligible tokens.\")\n",
    "        \n",
    "        num_missing = missing_indices.sum()\n",
    "        random_tokens = np.random.choice(eligible_tokens, size=num_missing, replace=True)\n",
    "        \n",
    "        if num_missing != len(random_tokens):\n",
    "            raise ValueError(\"Could not generate enough unique random tokens.\")\n",
    "        \n",
    "        elusive_log.loc[missing_indices, 'Determined Case ID'] = random_tokens\n",
    "        \n",
    "        print(\"Randomized missing Case ID values.\")\n",
    "        \n",
    "    return elusive_log\n"
   ]
  },
  {
   "cell_type": "code",
   "execution_count": 19,
   "id": "2b88746e93f1974d",
   "metadata": {
    "ExecuteTime": {
     "end_time": "2024-05-07T13:36:48.968189Z",
     "start_time": "2024-05-07T13:36:48.952600Z"
    }
   },
   "outputs": [],
   "source": [
    "def save_metrics(metrics: pd.DataFrame, log_name: str, model_name: str, log: pd.DataFrame) -> None:\n",
    "    \"\"\"\n",
    "    Save evaluation metrics to a CSV file and save the log to a CSV file if applicable.\n",
    "    \n",
    "    :param metrics: DataFrame containing evaluation metrics.\n",
    "    :param log_name: Name of the log file.\n",
    "    :param model_name: Name of the model used for evaluation.\n",
    "    :param log: DataFrame containing the log.\n",
    "    \"\"\"\n",
    "    model_name = model_name.replace(' ', '_')\n",
    "    folder_name = f\"evaluation/{log_name}/{model_name}\"\n",
    "    os.makedirs(folder_name, exist_ok=True)\n",
    "\n",
    "    current_time = datetime.utcnow().strftime('%Y%m%d_%H%M%S')\n",
    "\n",
    "    file_name = f'metrics_{current_time}.csv'\n",
    "    metrics.to_csv(os.path.join(folder_name, file_name), index=False)\n",
    "    \n",
    "    if model_name == 'randomized':\n",
    "        file_name = f'randomized_{log_name}.csv'\n",
    "        log.to_csv(os.path.join(folder_name, file_name), index=False)\n",
    "    elif model_name == 'logistic_regression':\n",
    "        file_name = f'logistic_regression_{log_name}.csv'\n",
    "        log.to_csv(os.path.join(folder_name, file_name), index=False)\n",
    "    elif model_name == 'heuristic':\n",
    "        file_name = f'heuristic_{log_name}.csv'\n",
    "        log.to_csv(os.path.join(folder_name, file_name), index=False)\n"
   ]
  },
  {
   "cell_type": "markdown",
   "id": "10ec8be4-09b3-49c7-b678-de5345f95dc1",
   "metadata": {
    "tags": []
   },
   "source": [
    "## review_example_large\n"
   ]
  },
  {
   "cell_type": "markdown",
   "id": "3fe95e36-03b0-41d0-a4b4-62e91a88ba91",
   "metadata": {
    "jp-MarkdownHeadingCollapsed": true,
    "tags": []
   },
   "source": [
    "### Elusiveness: 10%, Input: Complete, Threshold: 0%, Rule Checking: No\n"
   ]
  },
  {
   "cell_type": "code",
   "execution_count": 19,
   "id": "8364b4c7b44adda0",
   "metadata": {
    "ExecuteTime": {
     "end_time": "2024-05-07T13:37:05.893666Z",
     "start_time": "2024-05-07T13:36:50.940216Z"
    }
   },
   "outputs": [
    {
     "name": "stdin",
     "output_type": "stream",
     "text": [
      "Enter the path to the file that contains the preprocessed complete log:  logs/preprocessed/multiple_discrete_expert_single_continuous/review_example_large.csv\n"
     ]
    },
    {
     "name": "stdout",
     "output_type": "stream",
     "text": [
      "CSV file successfully read.\n"
     ]
    },
    {
     "name": "stdin",
     "output_type": "stream",
     "text": [
      "Enter the path to the folder that contains the repaired logs after each iteration:  repaired_logs/multiple_discrete_expert_single_continuous/review_example_large/iterations\n"
     ]
    },
    {
     "name": "stdout",
     "output_type": "stream",
     "text": [
      "Folder path successfully read.\n"
     ]
    },
    {
     "name": "stdin",
     "output_type": "stream",
     "text": [
      "Enter the path to the file that contains the model configuration:  model_configurations/multiple_discrete_expert_single_continuous/review_example_large/config.pkl\n"
     ]
    },
    {
     "name": "stdout",
     "output_type": "stream",
     "text": [
      "Model configuration file successfully read.\n"
     ]
    },
    {
     "name": "stdin",
     "output_type": "stream",
     "text": [
      "Enter the path to the file that contains the case ID tokenizer:  tokenizers/multiple_discrete_expert_single_continuous/review_example_large/tokenizer_Case ID.json\n"
     ]
    },
    {
     "name": "stdout",
     "output_type": "stream",
     "text": [
      "Tokenizer successfully read.\n",
      "Randomized missing Case ID values.\n",
      "Filled missing Case ID values using logistic regression.\n",
      "Set 99 determined Case ID values based on the input for 'Start Activity'.\n",
      "\n",
      "=== TRANSFORMER ===\n",
      "\n",
      "+-------------+----------------+----------------------+------------+------------------+\n",
      "|   Iteration | Completeness   | Elus. Completeness   | Accuracy   | Elus. Accuracy   |\n",
      "+=============+================+======================+============+==================+\n",
      "|           0 | 90.00%         | 0.00%                | 90.00%     | 0.00%            |\n",
      "+-------------+----------------+----------------------+------------+------------------+\n",
      "|           1 | 100.00%        | 100.00%              | 94.14%     | 41.39%           |\n",
      "+-------------+----------------+----------------------+------------+------------------+\n",
      "+-------------+--------------------+--------------------------+--------------------+--------------------------+\n",
      "|   Iteration | Factual Accuracy   | Elus. Factual Accuracy   | Overall Accuracy   | Elus. Overall Accuracy   |\n",
      "+=============+====================+==========================+====================+==========================+\n",
      "|           0 | 0.00%              | 0.00%                    | 90.00%             | 0.00%                    |\n",
      "+-------------+--------------------+--------------------------+--------------------+--------------------------+\n",
      "|           1 | 0.00%              | 0.00%                    | 94.14%             | 41.39%                   |\n",
      "+-------------+--------------------+--------------------------+--------------------+--------------------------+\n",
      "+-------------+----------------------+-------------------------+-------------------------+-----------------------+\n",
      "|   Iteration | Real Case Accuracy   | Factual Case Accuracy   | Overall Case Accuracy   | St. Ac. Consistency   |\n",
      "+=============+======================+=========================+=========================+=======================+\n",
      "|           0 | 11.31%               | 0.00%                   | 11.31%                  | 95.61%                |\n",
      "+-------------+----------------------+-------------------------+-------------------------+-----------------------+\n",
      "|           1 | 11.87%               | 0.00%                   | 11.87%                  | 83.80%                |\n",
      "+-------------+----------------------+-------------------------+-------------------------+-----------------------+\n",
      "+-------------+-----------------------+\n",
      "|   Iteration | End Ac. Consistency   |\n",
      "+=============+=======================+\n",
      "|           0 | 97.23%                |\n",
      "+-------------+-----------------------+\n",
      "|           1 | 87.89%                |\n",
      "+-------------+-----------------------+\n",
      "\n",
      "=== RANDOMIZED ===\n",
      "\n",
      "+-------------+----------------+----------------------+------------+------------------+\n",
      "|   Iteration | Completeness   | Elus. Completeness   | Accuracy   | Elus. Accuracy   |\n",
      "+=============+================+======================+============+==================+\n",
      "|           0 | 90.00%         | 0.00%                | 90.00%     | 0.00%            |\n",
      "+-------------+----------------+----------------------+------------+------------------+\n",
      "|           1 | 100.00%        | 100.00%              | 90.00%     | 0.00%            |\n",
      "+-------------+----------------+----------------------+------------+------------------+\n",
      "+-------------+--------------------+--------------------------+--------------------+--------------------------+\n",
      "|   Iteration | Factual Accuracy   | Elus. Factual Accuracy   | Overall Accuracy   | Elus. Overall Accuracy   |\n",
      "+=============+====================+==========================+====================+==========================+\n",
      "|           0 | 0.00%              | 0.00%                    | 90.00%             | 0.00%                    |\n",
      "+-------------+--------------------+--------------------------+--------------------+--------------------------+\n",
      "|           1 | 0.00%              | 0.00%                    | 90.00%             | 0.00%                    |\n",
      "+-------------+--------------------+--------------------------+--------------------+--------------------------+\n",
      "+-------------+----------------------+-------------------------+-------------------------+-----------------------+\n",
      "|   Iteration | Real Case Accuracy   | Factual Case Accuracy   | Overall Case Accuracy   | St. Ac. Consistency   |\n",
      "+=============+======================+=========================+=========================+=======================+\n",
      "|           0 | 11.31%               | 0.00%                   | 11.31%                  | 95.61%                |\n",
      "+-------------+----------------------+-------------------------+-------------------------+-----------------------+\n",
      "|           1 | 11.31%               | 0.00%                   | 11.31%                  | 55.76%                |\n",
      "+-------------+----------------------+-------------------------+-------------------------+-----------------------+\n",
      "+-------------+-----------------------+\n",
      "|   Iteration | End Ac. Consistency   |\n",
      "+=============+=======================+\n",
      "|           0 | 97.23%                |\n",
      "+-------------+-----------------------+\n",
      "|           1 | 56.58%                |\n",
      "+-------------+-----------------------+\n",
      "\n",
      "=== LOGISTIC REGRESSION ===\n",
      "\n",
      "+-------------+----------------+----------------------+------------+------------------+\n",
      "|   Iteration | Completeness   | Elus. Completeness   | Accuracy   | Elus. Accuracy   |\n",
      "+=============+================+======================+============+==================+\n",
      "|           0 | 90.00%         | 0.00%                | 90.00%     | 0.00%            |\n",
      "+-------------+----------------+----------------------+------------+------------------+\n",
      "|           1 | 100.00%        | 100.00%              | 90.01%     | 0.11%            |\n",
      "+-------------+----------------+----------------------+------------+------------------+\n",
      "+-------------+--------------------+--------------------------+--------------------+--------------------------+\n",
      "|   Iteration | Factual Accuracy   | Elus. Factual Accuracy   | Overall Accuracy   | Elus. Overall Accuracy   |\n",
      "+=============+====================+==========================+====================+==========================+\n",
      "|           0 | 0.00%              | 0.00%                    | 90.00%             | 0.00%                    |\n",
      "+-------------+--------------------+--------------------------+--------------------+--------------------------+\n",
      "|           1 | 0.00%              | 0.00%                    | 90.01%             | 0.11%                    |\n",
      "+-------------+--------------------+--------------------------+--------------------+--------------------------+\n",
      "+-------------+----------------------+-------------------------+-------------------------+-----------------------+\n",
      "|   Iteration | Real Case Accuracy   | Factual Case Accuracy   | Overall Case Accuracy   | St. Ac. Consistency   |\n",
      "+=============+======================+=========================+=========================+=======================+\n",
      "|           0 | 11.31%               | 0.00%                   | 11.31%                  | 95.61%                |\n",
      "+-------------+----------------------+-------------------------+-------------------------+-----------------------+\n",
      "|           1 | 11.22%               | 0.00%                   | 11.22%                  | 95.22%                |\n",
      "+-------------+----------------------+-------------------------+-------------------------+-----------------------+\n",
      "+-------------+-----------------------+\n",
      "|   Iteration | End Ac. Consistency   |\n",
      "+=============+=======================+\n",
      "|           0 | 97.23%                |\n",
      "+-------------+-----------------------+\n",
      "|           1 | 96.95%                |\n",
      "+-------------+-----------------------+\n",
      "\n",
      "=== HEURISTIC ===\n",
      "\n",
      "+-------------+----------------+----------------------+------------+------------------+\n",
      "|   Iteration | Completeness   | Elus. Completeness   | Accuracy   | Elus. Accuracy   |\n",
      "+=============+================+======================+============+==================+\n",
      "|           0 | 90.00%         | 0.00%                | 90.00%     | 0.00%            |\n",
      "+-------------+----------------+----------------------+------------+------------------+\n",
      "|           1 | 90.04%         | 0.42%                | 90.00%     | 0.01%            |\n",
      "+-------------+----------------+----------------------+------------+------------------+\n",
      "+-------------+--------------------+--------------------------+--------------------+--------------------------+\n",
      "|   Iteration | Factual Accuracy   | Elus. Factual Accuracy   | Overall Accuracy   | Elus. Overall Accuracy   |\n",
      "+=============+====================+==========================+====================+==========================+\n",
      "|           0 | 0.00%              | 0.00%                    | 90.00%             | 0.00%                    |\n",
      "+-------------+--------------------+--------------------------+--------------------+--------------------------+\n",
      "|           1 | 0.00%              | 0.00%                    | 90.00%             | 0.01%                    |\n",
      "+-------------+--------------------+--------------------------+--------------------+--------------------------+\n",
      "+-------------+----------------------+-------------------------+-------------------------+-----------------------+\n",
      "|   Iteration | Real Case Accuracy   | Factual Case Accuracy   | Overall Case Accuracy   | St. Ac. Consistency   |\n",
      "+=============+======================+=========================+=========================+=======================+\n",
      "|           0 | 11.31%               | 0.00%                   | 11.31%                  | 95.61%                |\n",
      "+-------------+----------------------+-------------------------+-------------------------+-----------------------+\n",
      "|           1 | 11.31%               | 0.00%                   | 11.31%                  | 96.60%                |\n",
      "+-------------+----------------------+-------------------------+-------------------------+-----------------------+\n",
      "+-------------+-----------------------+\n",
      "|   Iteration | End Ac. Consistency   |\n",
      "+=============+=======================+\n",
      "|           0 | 97.23%                |\n",
      "+-------------+-----------------------+\n",
      "|           1 | 97.23%                |\n",
      "+-------------+-----------------------+\n"
     ]
    }
   ],
   "source": [
    "perform_evaluation()\n"
   ]
  },
  {
   "cell_type": "markdown",
   "id": "6101c306-fc81-4f68-8310-33fcf5e58b13",
   "metadata": {
    "jp-MarkdownHeadingCollapsed": true,
    "tags": []
   },
   "source": [
    "### Elusiveness: 10%, Input: Complete, Threshold: 0%, Rule Checking: Both\n"
   ]
  },
  {
   "cell_type": "code",
   "execution_count": 19,
   "id": "e64fcff4-3473-4733-ab2b-a48652d21fe0",
   "metadata": {},
   "outputs": [
    {
     "name": "stdin",
     "output_type": "stream",
     "text": [
      "Enter the path to the file that contains the preprocessed complete log:  logs/preprocessed/multiple_discrete_expert_single_continuous/review_example_large.csv\n"
     ]
    },
    {
     "name": "stdout",
     "output_type": "stream",
     "text": [
      "CSV file successfully read.\n"
     ]
    },
    {
     "name": "stdin",
     "output_type": "stream",
     "text": [
      "Enter the path to the folder that contains the repaired logs after each iteration:  repaired_logs/multiple_discrete_expert_single_continuous/review_example_large/iterations\n"
     ]
    },
    {
     "name": "stdout",
     "output_type": "stream",
     "text": [
      "Folder path successfully read.\n"
     ]
    },
    {
     "name": "stdin",
     "output_type": "stream",
     "text": [
      "Enter the path to the file that contains the model configuration:  model_configurations/multiple_discrete_expert_single_continuous/review_example_large/config.pkl\n"
     ]
    },
    {
     "name": "stdout",
     "output_type": "stream",
     "text": [
      "Model configuration file successfully read.\n"
     ]
    },
    {
     "name": "stdin",
     "output_type": "stream",
     "text": [
      "Enter the path to the file that contains the case ID tokenizer:  tokenizers/multiple_discrete_expert_single_continuous/review_example_large/tokenizer_Case ID.json\n"
     ]
    },
    {
     "name": "stdout",
     "output_type": "stream",
     "text": [
      "Tokenizer successfully read.\n",
      "Randomized log successfully read.\n",
      "Logistic regression log successfully read.\n",
      "Heuristic log successfully read.\n",
      "\n",
      "=== TRANSFORMER ===\n",
      "\n",
      "+-------------+----------------+----------------------+------------+------------------+\n",
      "|   Iteration | Completeness   | Elus. Completeness   | Accuracy   | Elus. Accuracy   |\n",
      "+=============+================+======================+============+==================+\n",
      "|           0 | 90.00%         | 0.00%                | 90.00%     | 0.00%            |\n",
      "+-------------+----------------+----------------------+------------+------------------+\n",
      "|           1 | 98.85%         | 88.48%               | 94.03%     | 40.29%           |\n",
      "+-------------+----------------+----------------------+------------+------------------+\n",
      "|           2 | 99.63%         | 96.29%               | 94.29%     | 42.93%           |\n",
      "+-------------+----------------+----------------------+------------+------------------+\n",
      "|           3 | 99.82%         | 98.16%               | 94.34%     | 43.44%           |\n",
      "+-------------+----------------+----------------------+------------+------------------+\n",
      "|           4 | 99.89%         | 98.93%               | 94.37%     | 43.67%           |\n",
      "+-------------+----------------+----------------------+------------+------------------+\n",
      "|           5 | 99.93%         | 99.28%               | 94.37%     | 43.74%           |\n",
      "+-------------+----------------+----------------------+------------+------------------+\n",
      "+-------------+--------------------+--------------------------+--------------------+--------------------------+\n",
      "|   Iteration | Factual Accuracy   | Elus. Factual Accuracy   | Overall Accuracy   | Elus. Overall Accuracy   |\n",
      "+=============+====================+==========================+====================+==========================+\n",
      "|           0 | 0.00%              | 0.00%                    | 90.00%             | 0.00%                    |\n",
      "+-------------+--------------------+--------------------------+--------------------+--------------------------+\n",
      "|           1 | 0.00%              | 0.00%                    | 94.03%             | 40.29%                   |\n",
      "+-------------+--------------------+--------------------------+--------------------+--------------------------+\n",
      "|           2 | 0.00%              | 0.00%                    | 94.29%             | 42.93%                   |\n",
      "+-------------+--------------------+--------------------------+--------------------+--------------------------+\n",
      "|           3 | 0.00%              | 0.00%                    | 94.34%             | 43.44%                   |\n",
      "+-------------+--------------------+--------------------------+--------------------+--------------------------+\n",
      "|           4 | 0.00%              | 0.00%                    | 94.37%             | 43.67%                   |\n",
      "+-------------+--------------------+--------------------------+--------------------+--------------------------+\n",
      "|           5 | 0.00%              | 0.00%                    | 94.37%             | 43.74%                   |\n",
      "+-------------+--------------------+--------------------------+--------------------+--------------------------+\n",
      "+-------------+----------------------+-------------------------+-------------------------+-----------------------+\n",
      "|   Iteration | Real Case Accuracy   | Factual Case Accuracy   | Overall Case Accuracy   | St. Ac. Consistency   |\n",
      "+=============+======================+=========================+=========================+=======================+\n",
      "|           0 | 11.31%               | 0.00%                   | 11.31%                  | 95.61%                |\n",
      "+-------------+----------------------+-------------------------+-------------------------+-----------------------+\n",
      "|           1 | 14.75%               | 0.00%                   | 14.75%                  | 97.16%                |\n",
      "+-------------+----------------------+-------------------------+-------------------------+-----------------------+\n",
      "|           2 | 14.63%               | 0.00%                   | 14.63%                  | 97.17%                |\n",
      "+-------------+----------------------+-------------------------+-------------------------+-----------------------+\n",
      "|           3 | 14.51%               | 0.00%                   | 14.51%                  | 97.17%                |\n",
      "+-------------+----------------------+-------------------------+-------------------------+-----------------------+\n",
      "|           4 | 14.45%               | 0.00%                   | 14.45%                  | 97.17%                |\n",
      "+-------------+----------------------+-------------------------+-------------------------+-----------------------+\n",
      "|           5 | 14.40%               | 0.00%                   | 14.40%                  | 97.17%                |\n",
      "+-------------+----------------------+-------------------------+-------------------------+-----------------------+\n",
      "+-------------+-----------------------+\n",
      "|   Iteration | End Ac. Consistency   |\n",
      "+=============+=======================+\n",
      "|           0 | 97.23%                |\n",
      "+-------------+-----------------------+\n",
      "|           1 | 98.12%                |\n",
      "+-------------+-----------------------+\n",
      "|           2 | 98.12%                |\n",
      "+-------------+-----------------------+\n",
      "|           3 | 98.12%                |\n",
      "+-------------+-----------------------+\n",
      "|           4 | 98.12%                |\n",
      "+-------------+-----------------------+\n",
      "|           5 | 98.12%                |\n",
      "+-------------+-----------------------+\n",
      "\n",
      "=== RANDOMIZED ===\n",
      "\n",
      "+-------------+----------------+----------------------+------------+------------------+\n",
      "|   Iteration | Completeness   | Elus. Completeness   | Accuracy   | Elus. Accuracy   |\n",
      "+=============+================+======================+============+==================+\n",
      "|           0 | 90.00%         | 0.00%                | 90.00%     | 0.00%            |\n",
      "+-------------+----------------+----------------------+------------+------------------+\n",
      "|           1 | 90.04%         | 0.42%                | 90.00%     | 0.01%            |\n",
      "+-------------+----------------+----------------------+------------+------------------+\n",
      "+-------------+--------------------+--------------------------+--------------------+--------------------------+\n",
      "|   Iteration | Factual Accuracy   | Elus. Factual Accuracy   | Overall Accuracy   | Elus. Overall Accuracy   |\n",
      "+=============+====================+==========================+====================+==========================+\n",
      "|           0 | 0.00%              | 0.00%                    | 90.00%             | 0.00%                    |\n",
      "+-------------+--------------------+--------------------------+--------------------+--------------------------+\n",
      "|           1 | 0.00%              | 0.00%                    | 90.00%             | 0.01%                    |\n",
      "+-------------+--------------------+--------------------------+--------------------+--------------------------+\n",
      "+-------------+----------------------+-------------------------+-------------------------+-----------------------+\n",
      "|   Iteration | Real Case Accuracy   | Factual Case Accuracy   | Overall Case Accuracy   | St. Ac. Consistency   |\n",
      "+=============+======================+=========================+=========================+=======================+\n",
      "|           0 | 11.31%               | 0.00%                   | 11.31%                  | 95.61%                |\n",
      "+-------------+----------------------+-------------------------+-------------------------+-----------------------+\n",
      "|           1 | 11.31%               | 0.00%                   | 11.31%                  | 96.60%                |\n",
      "+-------------+----------------------+-------------------------+-------------------------+-----------------------+\n",
      "+-------------+-----------------------+\n",
      "|   Iteration | End Ac. Consistency   |\n",
      "+=============+=======================+\n",
      "|           0 | 97.23%                |\n",
      "+-------------+-----------------------+\n",
      "|           1 | 97.23%                |\n",
      "+-------------+-----------------------+\n",
      "\n",
      "=== LOGISTIC REGRESSION ===\n",
      "\n",
      "+-------------+----------------+----------------------+------------+------------------+\n",
      "|   Iteration | Completeness   | Elus. Completeness   | Accuracy   | Elus. Accuracy   |\n",
      "+=============+================+======================+============+==================+\n",
      "|           0 | 90.00%         | 0.00%                | 90.00%     | 0.00%            |\n",
      "+-------------+----------------+----------------------+------------+------------------+\n",
      "|           1 | 90.04%         | 0.42%                | 90.00%     | 0.01%            |\n",
      "+-------------+----------------+----------------------+------------+------------------+\n",
      "+-------------+--------------------+--------------------------+--------------------+--------------------------+\n",
      "|   Iteration | Factual Accuracy   | Elus. Factual Accuracy   | Overall Accuracy   | Elus. Overall Accuracy   |\n",
      "+=============+====================+==========================+====================+==========================+\n",
      "|           0 | 0.00%              | 0.00%                    | 90.00%             | 0.00%                    |\n",
      "+-------------+--------------------+--------------------------+--------------------+--------------------------+\n",
      "|           1 | 0.00%              | 0.00%                    | 90.00%             | 0.01%                    |\n",
      "+-------------+--------------------+--------------------------+--------------------+--------------------------+\n",
      "+-------------+----------------------+-------------------------+-------------------------+-----------------------+\n",
      "|   Iteration | Real Case Accuracy   | Factual Case Accuracy   | Overall Case Accuracy   | St. Ac. Consistency   |\n",
      "+=============+======================+=========================+=========================+=======================+\n",
      "|           0 | 11.31%               | 0.00%                   | 11.31%                  | 95.61%                |\n",
      "+-------------+----------------------+-------------------------+-------------------------+-----------------------+\n",
      "|           1 | 11.31%               | 0.00%                   | 11.31%                  | 96.60%                |\n",
      "+-------------+----------------------+-------------------------+-------------------------+-----------------------+\n",
      "+-------------+-----------------------+\n",
      "|   Iteration | End Ac. Consistency   |\n",
      "+=============+=======================+\n",
      "|           0 | 97.23%                |\n",
      "+-------------+-----------------------+\n",
      "|           1 | 97.23%                |\n",
      "+-------------+-----------------------+\n",
      "\n",
      "=== HEURISTIC ===\n",
      "\n",
      "+-------------+----------------+----------------------+------------+------------------+\n",
      "|   Iteration | Completeness   | Elus. Completeness   | Accuracy   | Elus. Accuracy   |\n",
      "+=============+================+======================+============+==================+\n",
      "|           0 | 90.00%         | 0.00%                | 90.00%     | 0.00%            |\n",
      "+-------------+----------------+----------------------+------------+------------------+\n",
      "|           1 | 90.04%         | 0.42%                | 90.00%     | 0.01%            |\n",
      "+-------------+----------------+----------------------+------------+------------------+\n",
      "+-------------+--------------------+--------------------------+--------------------+--------------------------+\n",
      "|   Iteration | Factual Accuracy   | Elus. Factual Accuracy   | Overall Accuracy   | Elus. Overall Accuracy   |\n",
      "+=============+====================+==========================+====================+==========================+\n",
      "|           0 | 0.00%              | 0.00%                    | 90.00%             | 0.00%                    |\n",
      "+-------------+--------------------+--------------------------+--------------------+--------------------------+\n",
      "|           1 | 0.00%              | 0.00%                    | 90.00%             | 0.01%                    |\n",
      "+-------------+--------------------+--------------------------+--------------------+--------------------------+\n",
      "+-------------+----------------------+-------------------------+-------------------------+-----------------------+\n",
      "|   Iteration | Real Case Accuracy   | Factual Case Accuracy   | Overall Case Accuracy   | St. Ac. Consistency   |\n",
      "+=============+======================+=========================+=========================+=======================+\n",
      "|           0 | 11.31%               | 0.00%                   | 11.31%                  | 95.61%                |\n",
      "+-------------+----------------------+-------------------------+-------------------------+-----------------------+\n",
      "|           1 | 11.31%               | 0.00%                   | 11.31%                  | 96.60%                |\n",
      "+-------------+----------------------+-------------------------+-------------------------+-----------------------+\n",
      "+-------------+-----------------------+\n",
      "|   Iteration | End Ac. Consistency   |\n",
      "+=============+=======================+\n",
      "|           0 | 97.23%                |\n",
      "+-------------+-----------------------+\n",
      "|           1 | 97.23%                |\n",
      "+-------------+-----------------------+\n"
     ]
    }
   ],
   "source": [
    "perform_evaluation()\n"
   ]
  },
  {
   "cell_type": "markdown",
   "id": "70fac771-973b-40bd-895e-581882ccc2fe",
   "metadata": {
    "jp-MarkdownHeadingCollapsed": true,
    "tags": []
   },
   "source": [
    "### Elusiveness: 10%, Input: Complete, Threshold: 50%, Rule Checking: No\n"
   ]
  },
  {
   "cell_type": "code",
   "execution_count": 19,
   "id": "c3065d98-58df-4377-81f0-22824eeba1bf",
   "metadata": {},
   "outputs": [
    {
     "name": "stdin",
     "output_type": "stream",
     "text": [
      "Enter the path to the file that contains the preprocessed complete log:  logs/preprocessed/multiple_discrete_expert_single_continuous/review_example_large.csv\n"
     ]
    },
    {
     "name": "stdout",
     "output_type": "stream",
     "text": [
      "CSV file successfully read.\n"
     ]
    },
    {
     "name": "stdin",
     "output_type": "stream",
     "text": [
      "Enter the path to the folder that contains the repaired logs after each iteration:  repaired_logs/multiple_discrete_expert_single_continuous/review_example_large/iterations\n"
     ]
    },
    {
     "name": "stdout",
     "output_type": "stream",
     "text": [
      "Folder path successfully read.\n"
     ]
    },
    {
     "name": "stdin",
     "output_type": "stream",
     "text": [
      "Enter the path to the file that contains the model configuration:  model_configurations/multiple_discrete_expert_single_continuous/review_example_large/config.pkl\n"
     ]
    },
    {
     "name": "stdout",
     "output_type": "stream",
     "text": [
      "Model configuration file successfully read.\n"
     ]
    },
    {
     "name": "stdin",
     "output_type": "stream",
     "text": [
      "Enter the path to the file that contains the case ID tokenizer:  tokenizers/multiple_discrete_expert_single_continuous/review_example_large/tokenizer_Case ID.json\n"
     ]
    },
    {
     "name": "stdout",
     "output_type": "stream",
     "text": [
      "Tokenizer successfully read.\n",
      "Randomized log successfully read.\n",
      "Logistic regression log successfully read.\n",
      "Heuristic log successfully read.\n",
      "\n",
      "=== TRANSFORMER ===\n",
      "\n",
      "+-------------+----------------+----------------------+------------+------------------+\n",
      "|   Iteration | Completeness   | Elus. Completeness   | Accuracy   | Elus. Accuracy   |\n",
      "+=============+================+======================+============+==================+\n",
      "|           0 | 90.00%         | 0.00%                | 90.00%     | 0.00%            |\n",
      "+-------------+----------------+----------------------+------------+------------------+\n",
      "|           1 | 90.87%         | 8.69%                | 90.80%     | 8.00%            |\n",
      "+-------------+----------------+----------------------+------------+------------------+\n",
      "|           2 | 91.30%         | 13.03%               | 91.19%     | 11.91%           |\n",
      "+-------------+----------------+----------------------+------------+------------------+\n",
      "|           3 | 91.62%         | 16.20%               | 91.46%     | 14.62%           |\n",
      "+-------------+----------------+----------------------+------------+------------------+\n",
      "|           4 | 91.85%         | 18.51%               | 91.66%     | 16.64%           |\n",
      "+-------------+----------------+----------------------+------------+------------------+\n",
      "|           5 | 92.04%         | 20.36%               | 91.82%     | 18.21%           |\n",
      "+-------------+----------------+----------------------+------------+------------------+\n",
      "+-------------+--------------------+--------------------------+--------------------+--------------------------+\n",
      "|   Iteration | Factual Accuracy   | Elus. Factual Accuracy   | Overall Accuracy   | Elus. Overall Accuracy   |\n",
      "+=============+====================+==========================+====================+==========================+\n",
      "|           0 | 0.00%              | 0.00%                    | 90.00%             | 0.00%                    |\n",
      "+-------------+--------------------+--------------------------+--------------------+--------------------------+\n",
      "|           1 | 0.00%              | 0.00%                    | 90.80%             | 8.00%                    |\n",
      "+-------------+--------------------+--------------------------+--------------------+--------------------------+\n",
      "|           2 | 0.00%              | 0.00%                    | 91.19%             | 11.91%                   |\n",
      "+-------------+--------------------+--------------------------+--------------------+--------------------------+\n",
      "|           3 | 0.00%              | 0.00%                    | 91.46%             | 14.62%                   |\n",
      "+-------------+--------------------+--------------------------+--------------------+--------------------------+\n",
      "|           4 | 0.00%              | 0.00%                    | 91.66%             | 16.64%                   |\n",
      "+-------------+--------------------+--------------------------+--------------------+--------------------------+\n",
      "|           5 | 0.00%              | 0.00%                    | 91.82%             | 18.21%                   |\n",
      "+-------------+--------------------+--------------------------+--------------------+--------------------------+\n",
      "+-------------+----------------------+-------------------------+-------------------------+-----------------------+\n",
      "|   Iteration | Real Case Accuracy   | Factual Case Accuracy   | Overall Case Accuracy   | St. Ac. Consistency   |\n",
      "+=============+======================+=========================+=========================+=======================+\n",
      "|           0 | 11.31%               | 0.00%                   | 11.31%                  | 95.61%                |\n",
      "+-------------+----------------------+-------------------------+-------------------------+-----------------------+\n",
      "|           1 | 13.59%               | 0.00%                   | 13.59%                  | 95.73%                |\n",
      "+-------------+----------------------+-------------------------+-------------------------+-----------------------+\n",
      "|           2 | 14.64%               | 0.00%                   | 14.64%                  | 95.78%                |\n",
      "+-------------+----------------------+-------------------------+-------------------------+-----------------------+\n",
      "|           3 | 15.43%               | 0.00%                   | 15.43%                  | 95.77%                |\n",
      "+-------------+----------------------+-------------------------+-------------------------+-----------------------+\n",
      "|           4 | 15.94%               | 0.00%                   | 15.94%                  | 95.77%                |\n",
      "+-------------+----------------------+-------------------------+-------------------------+-----------------------+\n",
      "|           5 | 16.45%               | 0.00%                   | 16.45%                  | 95.70%                |\n",
      "+-------------+----------------------+-------------------------+-------------------------+-----------------------+\n",
      "+-------------+-----------------------+\n",
      "|   Iteration | End Ac. Consistency   |\n",
      "+=============+=======================+\n",
      "|           0 | 97.23%                |\n",
      "+-------------+-----------------------+\n",
      "|           1 | 97.32%                |\n",
      "+-------------+-----------------------+\n",
      "|           2 | 97.38%                |\n",
      "+-------------+-----------------------+\n",
      "|           3 | 97.35%                |\n",
      "+-------------+-----------------------+\n",
      "|           4 | 97.38%                |\n",
      "+-------------+-----------------------+\n",
      "|           5 | 97.37%                |\n",
      "+-------------+-----------------------+\n",
      "\n",
      "=== RANDOMIZED ===\n",
      "\n",
      "+-------------+----------------+----------------------+------------+------------------+\n",
      "|   Iteration | Completeness   | Elus. Completeness   | Accuracy   | Elus. Accuracy   |\n",
      "+=============+================+======================+============+==================+\n",
      "|           0 | 90.00%         | 0.00%                | 90.00%     | 0.00%            |\n",
      "+-------------+----------------+----------------------+------------+------------------+\n",
      "|           1 | 90.04%         | 0.42%                | 90.00%     | 0.01%            |\n",
      "+-------------+----------------+----------------------+------------+------------------+\n",
      "+-------------+--------------------+--------------------------+--------------------+--------------------------+\n",
      "|   Iteration | Factual Accuracy   | Elus. Factual Accuracy   | Overall Accuracy   | Elus. Overall Accuracy   |\n",
      "+=============+====================+==========================+====================+==========================+\n",
      "|           0 | 0.00%              | 0.00%                    | 90.00%             | 0.00%                    |\n",
      "+-------------+--------------------+--------------------------+--------------------+--------------------------+\n",
      "|           1 | 0.00%              | 0.00%                    | 90.00%             | 0.01%                    |\n",
      "+-------------+--------------------+--------------------------+--------------------+--------------------------+\n",
      "+-------------+----------------------+-------------------------+-------------------------+-----------------------+\n",
      "|   Iteration | Real Case Accuracy   | Factual Case Accuracy   | Overall Case Accuracy   | St. Ac. Consistency   |\n",
      "+=============+======================+=========================+=========================+=======================+\n",
      "|           0 | 11.31%               | 0.00%                   | 11.31%                  | 95.61%                |\n",
      "+-------------+----------------------+-------------------------+-------------------------+-----------------------+\n",
      "|           1 | 11.31%               | 0.00%                   | 11.31%                  | 96.60%                |\n",
      "+-------------+----------------------+-------------------------+-------------------------+-----------------------+\n",
      "+-------------+-----------------------+\n",
      "|   Iteration | End Ac. Consistency   |\n",
      "+=============+=======================+\n",
      "|           0 | 97.23%                |\n",
      "+-------------+-----------------------+\n",
      "|           1 | 97.23%                |\n",
      "+-------------+-----------------------+\n",
      "\n",
      "=== LOGISTIC REGRESSION ===\n",
      "\n",
      "+-------------+----------------+----------------------+------------+------------------+\n",
      "|   Iteration | Completeness   | Elus. Completeness   | Accuracy   | Elus. Accuracy   |\n",
      "+=============+================+======================+============+==================+\n",
      "|           0 | 90.00%         | 0.00%                | 90.00%     | 0.00%            |\n",
      "+-------------+----------------+----------------------+------------+------------------+\n",
      "|           1 | 90.04%         | 0.42%                | 90.00%     | 0.01%            |\n",
      "+-------------+----------------+----------------------+------------+------------------+\n",
      "+-------------+--------------------+--------------------------+--------------------+--------------------------+\n",
      "|   Iteration | Factual Accuracy   | Elus. Factual Accuracy   | Overall Accuracy   | Elus. Overall Accuracy   |\n",
      "+=============+====================+==========================+====================+==========================+\n",
      "|           0 | 0.00%              | 0.00%                    | 90.00%             | 0.00%                    |\n",
      "+-------------+--------------------+--------------------------+--------------------+--------------------------+\n",
      "|           1 | 0.00%              | 0.00%                    | 90.00%             | 0.01%                    |\n",
      "+-------------+--------------------+--------------------------+--------------------+--------------------------+\n",
      "+-------------+----------------------+-------------------------+-------------------------+-----------------------+\n",
      "|   Iteration | Real Case Accuracy   | Factual Case Accuracy   | Overall Case Accuracy   | St. Ac. Consistency   |\n",
      "+=============+======================+=========================+=========================+=======================+\n",
      "|           0 | 11.31%               | 0.00%                   | 11.31%                  | 95.61%                |\n",
      "+-------------+----------------------+-------------------------+-------------------------+-----------------------+\n",
      "|           1 | 11.31%               | 0.00%                   | 11.31%                  | 96.60%                |\n",
      "+-------------+----------------------+-------------------------+-------------------------+-----------------------+\n",
      "+-------------+-----------------------+\n",
      "|   Iteration | End Ac. Consistency   |\n",
      "+=============+=======================+\n",
      "|           0 | 97.23%                |\n",
      "+-------------+-----------------------+\n",
      "|           1 | 97.23%                |\n",
      "+-------------+-----------------------+\n",
      "\n",
      "=== HEURISTIC ===\n",
      "\n",
      "+-------------+----------------+----------------------+------------+------------------+\n",
      "|   Iteration | Completeness   | Elus. Completeness   | Accuracy   | Elus. Accuracy   |\n",
      "+=============+================+======================+============+==================+\n",
      "|           0 | 90.00%         | 0.00%                | 90.00%     | 0.00%            |\n",
      "+-------------+----------------+----------------------+------------+------------------+\n",
      "|           1 | 90.04%         | 0.42%                | 90.00%     | 0.01%            |\n",
      "+-------------+----------------+----------------------+------------+------------------+\n",
      "+-------------+--------------------+--------------------------+--------------------+--------------------------+\n",
      "|   Iteration | Factual Accuracy   | Elus. Factual Accuracy   | Overall Accuracy   | Elus. Overall Accuracy   |\n",
      "+=============+====================+==========================+====================+==========================+\n",
      "|           0 | 0.00%              | 0.00%                    | 90.00%             | 0.00%                    |\n",
      "+-------------+--------------------+--------------------------+--------------------+--------------------------+\n",
      "|           1 | 0.00%              | 0.00%                    | 90.00%             | 0.01%                    |\n",
      "+-------------+--------------------+--------------------------+--------------------+--------------------------+\n",
      "+-------------+----------------------+-------------------------+-------------------------+-----------------------+\n",
      "|   Iteration | Real Case Accuracy   | Factual Case Accuracy   | Overall Case Accuracy   | St. Ac. Consistency   |\n",
      "+=============+======================+=========================+=========================+=======================+\n",
      "|           0 | 11.31%               | 0.00%                   | 11.31%                  | 95.61%                |\n",
      "+-------------+----------------------+-------------------------+-------------------------+-----------------------+\n",
      "|           1 | 11.31%               | 0.00%                   | 11.31%                  | 96.60%                |\n",
      "+-------------+----------------------+-------------------------+-------------------------+-----------------------+\n",
      "+-------------+-----------------------+\n",
      "|   Iteration | End Ac. Consistency   |\n",
      "+=============+=======================+\n",
      "|           0 | 97.23%                |\n",
      "+-------------+-----------------------+\n",
      "|           1 | 97.23%                |\n",
      "+-------------+-----------------------+\n"
     ]
    }
   ],
   "source": [
    "perform_evaluation()\n"
   ]
  },
  {
   "cell_type": "markdown",
   "id": "508403d1-a76f-4378-ac86-2c40dede53db",
   "metadata": {
    "jp-MarkdownHeadingCollapsed": true,
    "tags": []
   },
   "source": [
    "### Elusiveness: 10%, Input: Complete, Threshold: 50%, Rule Checking: Both\n"
   ]
  },
  {
   "cell_type": "code",
   "execution_count": 19,
   "id": "c1fde660-de57-4a1f-a4c5-2278f7ccf9ce",
   "metadata": {},
   "outputs": [
    {
     "name": "stdin",
     "output_type": "stream",
     "text": [
      "Enter the path to the file that contains the preprocessed complete log:  logs/preprocessed/multiple_discrete_expert_single_continuous/review_example_large.csv\n"
     ]
    },
    {
     "name": "stdout",
     "output_type": "stream",
     "text": [
      "CSV file successfully read.\n"
     ]
    },
    {
     "name": "stdin",
     "output_type": "stream",
     "text": [
      "Enter the path to the folder that contains the repaired logs after each iteration:  repaired_logs/multiple_discrete_expert_single_continuous/review_example_large/iterations\n"
     ]
    },
    {
     "name": "stdout",
     "output_type": "stream",
     "text": [
      "Folder path successfully read.\n"
     ]
    },
    {
     "name": "stdin",
     "output_type": "stream",
     "text": [
      "Enter the path to the file that contains the model configuration:  model_configurations/multiple_discrete_expert_single_continuous/review_example_large/config.pkl\n"
     ]
    },
    {
     "name": "stdout",
     "output_type": "stream",
     "text": [
      "Model configuration file successfully read.\n"
     ]
    },
    {
     "name": "stdin",
     "output_type": "stream",
     "text": [
      "Enter the path to the file that contains the case ID tokenizer:  tokenizers/multiple_discrete_expert_single_continuous/review_example_large/tokenizer_Case ID.json\n"
     ]
    },
    {
     "name": "stdout",
     "output_type": "stream",
     "text": [
      "Tokenizer successfully read.\n",
      "Randomized log successfully read.\n",
      "Logistic regression log successfully read.\n",
      "Heuristic log successfully read.\n",
      "\n",
      "=== TRANSFORMER ===\n",
      "\n",
      "+-------------+----------------+----------------------+------------+------------------+\n",
      "|   Iteration | Completeness   | Elus. Completeness   | Accuracy   | Elus. Accuracy   |\n",
      "+=============+================+======================+============+==================+\n",
      "|           0 | 90.00%         | 0.00%                | 90.00%     | 0.00%            |\n",
      "+-------------+----------------+----------------------+------------+------------------+\n",
      "|           1 | 90.91%         | 9.10%                | 90.80%     | 8.00%            |\n",
      "+-------------+----------------+----------------------+------------+------------------+\n",
      "|           2 | 91.37%         | 13.72%               | 91.22%     | 12.20%           |\n",
      "+-------------+----------------+----------------------+------------+------------------+\n",
      "|           3 | 91.67%         | 16.75%               | 91.49%     | 14.93%           |\n",
      "+-------------+----------------+----------------------+------------+------------------+\n",
      "|           4 | 91.90%         | 18.98%               | 91.69%     | 16.86%           |\n",
      "+-------------+----------------+----------------------+------------+------------------+\n",
      "|           5 | 92.09%         | 20.90%               | 91.85%     | 18.51%           |\n",
      "+-------------+----------------+----------------------+------------+------------------+\n",
      "+-------------+--------------------+--------------------------+--------------------+--------------------------+\n",
      "|   Iteration | Factual Accuracy   | Elus. Factual Accuracy   | Overall Accuracy   | Elus. Overall Accuracy   |\n",
      "+=============+====================+==========================+====================+==========================+\n",
      "|           0 | 0.00%              | 0.00%                    | 90.00%             | 0.00%                    |\n",
      "+-------------+--------------------+--------------------------+--------------------+--------------------------+\n",
      "|           1 | 0.00%              | 0.00%                    | 90.80%             | 8.00%                    |\n",
      "+-------------+--------------------+--------------------------+--------------------+--------------------------+\n",
      "|           2 | 0.00%              | 0.00%                    | 91.22%             | 12.20%                   |\n",
      "+-------------+--------------------+--------------------------+--------------------+--------------------------+\n",
      "|           3 | 0.00%              | 0.00%                    | 91.49%             | 14.93%                   |\n",
      "+-------------+--------------------+--------------------------+--------------------+--------------------------+\n",
      "|           4 | 0.00%              | 0.00%                    | 91.69%             | 16.86%                   |\n",
      "+-------------+--------------------+--------------------------+--------------------+--------------------------+\n",
      "|           5 | 0.00%              | 0.00%                    | 91.85%             | 18.51%                   |\n",
      "+-------------+--------------------+--------------------------+--------------------+--------------------------+\n",
      "+-------------+----------------------+-------------------------+-------------------------+-----------------------+\n",
      "|   Iteration | Real Case Accuracy   | Factual Case Accuracy   | Overall Case Accuracy   | St. Ac. Consistency   |\n",
      "+=============+======================+=========================+=========================+=======================+\n",
      "|           0 | 11.31%               | 0.00%                   | 11.31%                  | 95.61%                |\n",
      "+-------------+----------------------+-------------------------+-------------------------+-----------------------+\n",
      "|           1 | 13.69%               | 0.00%                   | 13.69%                  | 96.69%                |\n",
      "+-------------+----------------------+-------------------------+-------------------------+-----------------------+\n",
      "|           2 | 14.94%               | 0.00%                   | 14.94%                  | 96.72%                |\n",
      "+-------------+----------------------+-------------------------+-------------------------+-----------------------+\n",
      "|           3 | 15.78%               | 0.00%                   | 15.78%                  | 96.77%                |\n",
      "+-------------+----------------------+-------------------------+-------------------------+-----------------------+\n",
      "|           4 | 16.32%               | 0.00%                   | 16.32%                  | 96.83%                |\n",
      "+-------------+----------------------+-------------------------+-------------------------+-----------------------+\n",
      "|           5 | 16.82%               | 0.00%                   | 16.82%                  | 96.84%                |\n",
      "+-------------+----------------------+-------------------------+-------------------------+-----------------------+\n",
      "+-------------+-----------------------+\n",
      "|   Iteration | End Ac. Consistency   |\n",
      "+=============+=======================+\n",
      "|           0 | 97.23%                |\n",
      "+-------------+-----------------------+\n",
      "|           1 | 97.38%                |\n",
      "+-------------+-----------------------+\n",
      "|           2 | 97.47%                |\n",
      "+-------------+-----------------------+\n",
      "|           3 | 97.53%                |\n",
      "+-------------+-----------------------+\n",
      "|           4 | 97.55%                |\n",
      "+-------------+-----------------------+\n",
      "|           5 | 97.58%                |\n",
      "+-------------+-----------------------+\n",
      "\n",
      "=== RANDOMIZED ===\n",
      "\n",
      "+-------------+----------------+----------------------+------------+------------------+\n",
      "|   Iteration | Completeness   | Elus. Completeness   | Accuracy   | Elus. Accuracy   |\n",
      "+=============+================+======================+============+==================+\n",
      "|           0 | 90.00%         | 0.00%                | 90.00%     | 0.00%            |\n",
      "+-------------+----------------+----------------------+------------+------------------+\n",
      "|           1 | 90.04%         | 0.42%                | 90.00%     | 0.01%            |\n",
      "+-------------+----------------+----------------------+------------+------------------+\n",
      "+-------------+--------------------+--------------------------+--------------------+--------------------------+\n",
      "|   Iteration | Factual Accuracy   | Elus. Factual Accuracy   | Overall Accuracy   | Elus. Overall Accuracy   |\n",
      "+=============+====================+==========================+====================+==========================+\n",
      "|           0 | 0.00%              | 0.00%                    | 90.00%             | 0.00%                    |\n",
      "+-------------+--------------------+--------------------------+--------------------+--------------------------+\n",
      "|           1 | 0.00%              | 0.00%                    | 90.00%             | 0.01%                    |\n",
      "+-------------+--------------------+--------------------------+--------------------+--------------------------+\n",
      "+-------------+----------------------+-------------------------+-------------------------+-----------------------+\n",
      "|   Iteration | Real Case Accuracy   | Factual Case Accuracy   | Overall Case Accuracy   | St. Ac. Consistency   |\n",
      "+=============+======================+=========================+=========================+=======================+\n",
      "|           0 | 11.31%               | 0.00%                   | 11.31%                  | 95.61%                |\n",
      "+-------------+----------------------+-------------------------+-------------------------+-----------------------+\n",
      "|           1 | 11.31%               | 0.00%                   | 11.31%                  | 96.60%                |\n",
      "+-------------+----------------------+-------------------------+-------------------------+-----------------------+\n",
      "+-------------+-----------------------+\n",
      "|   Iteration | End Ac. Consistency   |\n",
      "+=============+=======================+\n",
      "|           0 | 97.23%                |\n",
      "+-------------+-----------------------+\n",
      "|           1 | 97.23%                |\n",
      "+-------------+-----------------------+\n",
      "\n",
      "=== LOGISTIC REGRESSION ===\n",
      "\n",
      "+-------------+----------------+----------------------+------------+------------------+\n",
      "|   Iteration | Completeness   | Elus. Completeness   | Accuracy   | Elus. Accuracy   |\n",
      "+=============+================+======================+============+==================+\n",
      "|           0 | 90.00%         | 0.00%                | 90.00%     | 0.00%            |\n",
      "+-------------+----------------+----------------------+------------+------------------+\n",
      "|           1 | 90.04%         | 0.42%                | 90.00%     | 0.01%            |\n",
      "+-------------+----------------+----------------------+------------+------------------+\n",
      "+-------------+--------------------+--------------------------+--------------------+--------------------------+\n",
      "|   Iteration | Factual Accuracy   | Elus. Factual Accuracy   | Overall Accuracy   | Elus. Overall Accuracy   |\n",
      "+=============+====================+==========================+====================+==========================+\n",
      "|           0 | 0.00%              | 0.00%                    | 90.00%             | 0.00%                    |\n",
      "+-------------+--------------------+--------------------------+--------------------+--------------------------+\n",
      "|           1 | 0.00%              | 0.00%                    | 90.00%             | 0.01%                    |\n",
      "+-------------+--------------------+--------------------------+--------------------+--------------------------+\n",
      "+-------------+----------------------+-------------------------+-------------------------+-----------------------+\n",
      "|   Iteration | Real Case Accuracy   | Factual Case Accuracy   | Overall Case Accuracy   | St. Ac. Consistency   |\n",
      "+=============+======================+=========================+=========================+=======================+\n",
      "|           0 | 11.31%               | 0.00%                   | 11.31%                  | 95.61%                |\n",
      "+-------------+----------------------+-------------------------+-------------------------+-----------------------+\n",
      "|           1 | 11.31%               | 0.00%                   | 11.31%                  | 96.60%                |\n",
      "+-------------+----------------------+-------------------------+-------------------------+-----------------------+\n",
      "+-------------+-----------------------+\n",
      "|   Iteration | End Ac. Consistency   |\n",
      "+=============+=======================+\n",
      "|           0 | 97.23%                |\n",
      "+-------------+-----------------------+\n",
      "|           1 | 97.23%                |\n",
      "+-------------+-----------------------+\n",
      "\n",
      "=== HEURISTIC ===\n",
      "\n",
      "+-------------+----------------+----------------------+------------+------------------+\n",
      "|   Iteration | Completeness   | Elus. Completeness   | Accuracy   | Elus. Accuracy   |\n",
      "+=============+================+======================+============+==================+\n",
      "|           0 | 90.00%         | 0.00%                | 90.00%     | 0.00%            |\n",
      "+-------------+----------------+----------------------+------------+------------------+\n",
      "|           1 | 90.04%         | 0.42%                | 90.00%     | 0.01%            |\n",
      "+-------------+----------------+----------------------+------------+------------------+\n",
      "+-------------+--------------------+--------------------------+--------------------+--------------------------+\n",
      "|   Iteration | Factual Accuracy   | Elus. Factual Accuracy   | Overall Accuracy   | Elus. Overall Accuracy   |\n",
      "+=============+====================+==========================+====================+==========================+\n",
      "|           0 | 0.00%              | 0.00%                    | 90.00%             | 0.00%                    |\n",
      "+-------------+--------------------+--------------------------+--------------------+--------------------------+\n",
      "|           1 | 0.00%              | 0.00%                    | 90.00%             | 0.01%                    |\n",
      "+-------------+--------------------+--------------------------+--------------------+--------------------------+\n",
      "+-------------+----------------------+-------------------------+-------------------------+-----------------------+\n",
      "|   Iteration | Real Case Accuracy   | Factual Case Accuracy   | Overall Case Accuracy   | St. Ac. Consistency   |\n",
      "+=============+======================+=========================+=========================+=======================+\n",
      "|           0 | 11.31%               | 0.00%                   | 11.31%                  | 95.61%                |\n",
      "+-------------+----------------------+-------------------------+-------------------------+-----------------------+\n",
      "|           1 | 11.31%               | 0.00%                   | 11.31%                  | 96.60%                |\n",
      "+-------------+----------------------+-------------------------+-------------------------+-----------------------+\n",
      "+-------------+-----------------------+\n",
      "|   Iteration | End Ac. Consistency   |\n",
      "+=============+=======================+\n",
      "|           0 | 97.23%                |\n",
      "+-------------+-----------------------+\n",
      "|           1 | 97.23%                |\n",
      "+-------------+-----------------------+\n"
     ]
    }
   ],
   "source": [
    "perform_evaluation()\n"
   ]
  },
  {
   "cell_type": "markdown",
   "id": "2feda5c1-3c27-4bbe-9a96-139561fc9802",
   "metadata": {
    "jp-MarkdownHeadingCollapsed": true,
    "tags": []
   },
   "source": [
    "### Elusiveness: 20%, Input: Complete, Threshold: 0%, Rule Checking: No\n"
   ]
  },
  {
   "cell_type": "code",
   "execution_count": 19,
   "id": "5acfe245-24eb-4f7d-9ba2-98f76a329cd2",
   "metadata": {},
   "outputs": [
    {
     "name": "stdin",
     "output_type": "stream",
     "text": [
      "Enter the path to the file that contains the preprocessed complete log:  logs/preprocessed/multiple_discrete_expert_single_continuous/review_example_large.csv\n"
     ]
    },
    {
     "name": "stdout",
     "output_type": "stream",
     "text": [
      "CSV file successfully read.\n"
     ]
    },
    {
     "name": "stdin",
     "output_type": "stream",
     "text": [
      "Enter the path to the folder that contains the repaired logs after each iteration:  repaired_logs/multiple_discrete_expert_single_continuous/review_example_large/iterations\n"
     ]
    },
    {
     "name": "stdout",
     "output_type": "stream",
     "text": [
      "Folder path successfully read.\n"
     ]
    },
    {
     "name": "stdin",
     "output_type": "stream",
     "text": [
      "Enter the path to the file that contains the model configuration:  model_configurations/multiple_discrete_expert_single_continuous/review_example_large/config.pkl\n"
     ]
    },
    {
     "name": "stdout",
     "output_type": "stream",
     "text": [
      "Model configuration file successfully read.\n"
     ]
    },
    {
     "name": "stdin",
     "output_type": "stream",
     "text": [
      "Enter the path to the file that contains the case ID tokenizer:  tokenizers/multiple_discrete_expert_single_continuous/review_example_large/tokenizer_Case ID.json\n"
     ]
    },
    {
     "name": "stdout",
     "output_type": "stream",
     "text": [
      "Tokenizer successfully read.\n",
      "Randomized missing Case ID values.\n",
      "Filled missing Case ID values using logistic regression.\n",
      "Set 393 determined Case ID values based on the input for 'Start Activity'.\n",
      "\n",
      "=== TRANSFORMER ===\n",
      "\n",
      "+-------------+----------------+----------------------+------------+------------------+\n",
      "|   Iteration | Completeness   | Elus. Completeness   | Accuracy   | Elus. Accuracy   |\n",
      "+=============+================+======================+============+==================+\n",
      "|           0 | 80.00%         | 0.00%                | 80.00%     | 0.00%            |\n",
      "+-------------+----------------+----------------------+------------+------------------+\n",
      "|           1 | 100.00%        | 100.00%              | 88.22%     | 41.10%           |\n",
      "+-------------+----------------+----------------------+------------+------------------+\n",
      "+-------------+--------------------+--------------------------+--------------------+--------------------------+\n",
      "|   Iteration | Factual Accuracy   | Elus. Factual Accuracy   | Overall Accuracy   | Elus. Overall Accuracy   |\n",
      "+=============+====================+==========================+====================+==========================+\n",
      "|           0 | 0.00%              | 0.00%                    | 80.00%             | 0.00%                    |\n",
      "+-------------+--------------------+--------------------------+--------------------+--------------------------+\n",
      "|           1 | 0.00%              | 0.00%                    | 88.22%             | 41.10%                   |\n",
      "+-------------+--------------------+--------------------------+--------------------+--------------------------+\n",
      "+-------------+----------------------+-------------------------+-------------------------+-----------------------+\n",
      "|   Iteration | Real Case Accuracy   | Factual Case Accuracy   | Overall Case Accuracy   | St. Ac. Consistency   |\n",
      "+=============+======================+=========================+=========================+=======================+\n",
      "|           0 | 1.63%                | 0.00%                   | 1.63%                   | 91.92%                |\n",
      "+-------------+----------------------+-------------------------+-------------------------+-----------------------+\n",
      "|           1 | 3.07%                | 0.00%                   | 3.07%                   | 73.95%                |\n",
      "+-------------+----------------------+-------------------------+-------------------------+-----------------------+\n",
      "+-------------+-----------------------+\n",
      "|   Iteration | End Ac. Consistency   |\n",
      "+=============+=======================+\n",
      "|           0 | 93.72%                |\n",
      "+-------------+-----------------------+\n",
      "|           1 | 79.08%                |\n",
      "+-------------+-----------------------+\n",
      "\n",
      "=== RANDOMIZED ===\n",
      "\n",
      "+-------------+----------------+----------------------+------------+------------------+\n",
      "|   Iteration | Completeness   | Elus. Completeness   | Accuracy   | Elus. Accuracy   |\n",
      "+=============+================+======================+============+==================+\n",
      "|           0 | 80.00%         | 0.00%                | 80.00%     | 0.00%            |\n",
      "+-------------+----------------+----------------------+------------+------------------+\n",
      "|           1 | 100.00%        | 100.00%              | 80.00%     | 0.00%            |\n",
      "+-------------+----------------+----------------------+------------+------------------+\n",
      "+-------------+--------------------+--------------------------+--------------------+--------------------------+\n",
      "|   Iteration | Factual Accuracy   | Elus. Factual Accuracy   | Overall Accuracy   | Elus. Overall Accuracy   |\n",
      "+=============+====================+==========================+====================+==========================+\n",
      "|           0 | 0.00%              | 0.00%                    | 80.00%             | 0.00%                    |\n",
      "+-------------+--------------------+--------------------------+--------------------+--------------------------+\n",
      "|           1 | 0.00%              | 0.00%                    | 80.00%             | 0.00%                    |\n",
      "+-------------+--------------------+--------------------------+--------------------+--------------------------+\n",
      "+-------------+----------------------+-------------------------+-------------------------+-----------------------+\n",
      "|   Iteration | Real Case Accuracy   | Factual Case Accuracy   | Overall Case Accuracy   | St. Ac. Consistency   |\n",
      "+=============+======================+=========================+=========================+=======================+\n",
      "|           0 | 1.63%                | 0.00%                   | 1.63%                   | 91.92%                |\n",
      "+-------------+----------------------+-------------------------+-------------------------+-----------------------+\n",
      "|           1 | 1.63%                | 0.00%                   | 1.63%                   | 52.51%                |\n",
      "+-------------+----------------------+-------------------------+-------------------------+-----------------------+\n",
      "+-------------+-----------------------+\n",
      "|   Iteration | End Ac. Consistency   |\n",
      "+=============+=======================+\n",
      "|           0 | 93.72%                |\n",
      "+-------------+-----------------------+\n",
      "|           1 | 53.93%                |\n",
      "+-------------+-----------------------+\n",
      "\n",
      "=== LOGISTIC REGRESSION ===\n",
      "\n",
      "+-------------+----------------+----------------------+------------+------------------+\n",
      "|   Iteration | Completeness   | Elus. Completeness   | Accuracy   | Elus. Accuracy   |\n",
      "+=============+================+======================+============+==================+\n",
      "|           0 | 80.00%         | 0.00%                | 80.00%     | 0.00%            |\n",
      "+-------------+----------------+----------------------+------------+------------------+\n",
      "|           1 | 100.00%        | 100.00%              | 80.01%     | 0.04%            |\n",
      "+-------------+----------------+----------------------+------------+------------------+\n",
      "+-------------+--------------------+--------------------------+--------------------+--------------------------+\n",
      "|   Iteration | Factual Accuracy   | Elus. Factual Accuracy   | Overall Accuracy   | Elus. Overall Accuracy   |\n",
      "+=============+====================+==========================+====================+==========================+\n",
      "|           0 | 0.00%              | 0.00%                    | 80.00%             | 0.00%                    |\n",
      "+-------------+--------------------+--------------------------+--------------------+--------------------------+\n",
      "|           1 | 0.00%              | 0.00%                    | 80.01%             | 0.04%                    |\n",
      "+-------------+--------------------+--------------------------+--------------------+--------------------------+\n",
      "+-------------+----------------------+-------------------------+-------------------------+-----------------------+\n",
      "|   Iteration | Real Case Accuracy   | Factual Case Accuracy   | Overall Case Accuracy   | St. Ac. Consistency   |\n",
      "+=============+======================+=========================+=========================+=======================+\n",
      "|           0 | 1.63%                | 0.00%                   | 1.63%                   | 91.92%                |\n",
      "+-------------+----------------------+-------------------------+-------------------------+-----------------------+\n",
      "|           1 | 1.63%                | 0.00%                   | 1.63%                   | 91.91%                |\n",
      "+-------------+----------------------+-------------------------+-------------------------+-----------------------+\n",
      "+-------------+-----------------------+\n",
      "|   Iteration | End Ac. Consistency   |\n",
      "+=============+=======================+\n",
      "|           0 | 93.72%                |\n",
      "+-------------+-----------------------+\n",
      "|           1 | 93.73%                |\n",
      "+-------------+-----------------------+\n",
      "\n",
      "=== HEURISTIC ===\n",
      "\n",
      "+-------------+----------------+----------------------+------------+------------------+\n",
      "|   Iteration | Completeness   | Elus. Completeness   | Accuracy   | Elus. Accuracy   |\n",
      "+=============+================+======================+============+==================+\n",
      "|           0 | 80.00%         | 0.00%                | 80.00%     | 0.00%            |\n",
      "+-------------+----------------+----------------------+------------+------------------+\n",
      "|           1 | 80.17%         | 0.83%                | 80.00%     | 0.01%            |\n",
      "+-------------+----------------+----------------------+------------+------------------+\n",
      "+-------------+--------------------+--------------------------+--------------------+--------------------------+\n",
      "|   Iteration | Factual Accuracy   | Elus. Factual Accuracy   | Overall Accuracy   | Elus. Overall Accuracy   |\n",
      "+=============+====================+==========================+====================+==========================+\n",
      "|           0 | 0.00%              | 0.00%                    | 80.00%             | 0.00%                    |\n",
      "+-------------+--------------------+--------------------------+--------------------+--------------------------+\n",
      "|           1 | 0.00%              | 0.00%                    | 80.00%             | 0.01%                    |\n",
      "+-------------+--------------------+--------------------------+--------------------+--------------------------+\n",
      "+-------------+----------------------+-------------------------+-------------------------+-----------------------+\n",
      "|   Iteration | Real Case Accuracy   | Factual Case Accuracy   | Overall Case Accuracy   | St. Ac. Consistency   |\n",
      "+=============+======================+=========================+=========================+=======================+\n",
      "|           0 | 1.63%                | 0.00%                   | 1.63%                   | 91.92%                |\n",
      "+-------------+----------------------+-------------------------+-------------------------+-----------------------+\n",
      "|           1 | 1.63%                | 0.00%                   | 1.63%                   | 95.85%                |\n",
      "+-------------+----------------------+-------------------------+-------------------------+-----------------------+\n",
      "+-------------+-----------------------+\n",
      "|   Iteration | End Ac. Consistency   |\n",
      "+=============+=======================+\n",
      "|           0 | 93.72%                |\n",
      "+-------------+-----------------------+\n",
      "|           1 | 93.72%                |\n",
      "+-------------+-----------------------+\n"
     ]
    }
   ],
   "source": [
    "perform_evaluation()\n"
   ]
  },
  {
   "cell_type": "markdown",
   "id": "cb1f787c-7c07-423e-8de2-a36d6b4911d2",
   "metadata": {
    "jp-MarkdownHeadingCollapsed": true,
    "tags": []
   },
   "source": [
    "### Elusiveness: 10%, Input: No Expert, Threshold: 0%, Rule Checking: No\n"
   ]
  },
  {
   "cell_type": "code",
   "execution_count": 19,
   "id": "5454bed4-6372-4233-814b-3ceef738e317",
   "metadata": {},
   "outputs": [
    {
     "name": "stdin",
     "output_type": "stream",
     "text": [
      "Enter the path to the file that contains the preprocessed complete log:  logs/preprocessed/multiple_discrete_single_continuous/review_example_large.csv\n"
     ]
    },
    {
     "name": "stdout",
     "output_type": "stream",
     "text": [
      "CSV file successfully read.\n"
     ]
    },
    {
     "name": "stdin",
     "output_type": "stream",
     "text": [
      "Enter the path to the folder that contains the repaired logs after each iteration:  repaired_logs/multiple_discrete_single_continuous/review_example_large/iterations\n"
     ]
    },
    {
     "name": "stdout",
     "output_type": "stream",
     "text": [
      "Folder path successfully read.\n"
     ]
    },
    {
     "name": "stdin",
     "output_type": "stream",
     "text": [
      "Enter the path to the file that contains the model configuration:  model_configurations/multiple_discrete_single_continuous/review_example_large/config.pkl\n"
     ]
    },
    {
     "name": "stdout",
     "output_type": "stream",
     "text": [
      "Model configuration file successfully read.\n"
     ]
    },
    {
     "name": "stdin",
     "output_type": "stream",
     "text": [
      "Enter the path to the file that contains the case ID tokenizer:  tokenizers/multiple_discrete_single_continuous/review_example_large/tokenizer_Case ID.json\n"
     ]
    },
    {
     "name": "stdout",
     "output_type": "stream",
     "text": [
      "Tokenizer successfully read.\n",
      "Randomized missing Case ID values.\n",
      "Filled missing Case ID values using logistic regression.\n",
      "\n",
      "=== TRANSFORMER ===\n",
      "\n",
      "+-------------+----------------+----------------------+------------+------------------+\n",
      "|   Iteration | Completeness   | Elus. Completeness   | Accuracy   | Elus. Accuracy   |\n",
      "+=============+================+======================+============+==================+\n",
      "|           0 | 90.00%         | 0.00%                | 90.00%     | 0.00%            |\n",
      "+-------------+----------------+----------------------+------------+------------------+\n",
      "|           1 | 100.00%        | 100.00%              | 93.62%     | 36.22%           |\n",
      "+-------------+----------------+----------------------+------------+------------------+\n",
      "+-------------+--------------------+--------------------------+--------------------+--------------------------+\n",
      "|   Iteration | Factual Accuracy   | Elus. Factual Accuracy   | Overall Accuracy   | Elus. Overall Accuracy   |\n",
      "+=============+====================+==========================+====================+==========================+\n",
      "|           0 | 0.00%              | 0.00%                    | 90.00%             | 0.00%                    |\n",
      "+-------------+--------------------+--------------------------+--------------------+--------------------------+\n",
      "|           1 | 0.00%              | 0.00%                    | 93.62%             | 36.22%                   |\n",
      "+-------------+--------------------+--------------------------+--------------------+--------------------------+\n",
      "+-------------+----------------------+-------------------------+-------------------------+\n",
      "|   Iteration | Real Case Accuracy   | Factual Case Accuracy   | Overall Case Accuracy   |\n",
      "+=============+======================+=========================+=========================+\n",
      "|           0 | 11.31%               | 0.00%                   | 11.31%                  |\n",
      "+-------------+----------------------+-------------------------+-------------------------+\n",
      "|           1 | 9.90%                | 0.00%                   | 9.90%                   |\n",
      "+-------------+----------------------+-------------------------+-------------------------+\n",
      "\n",
      "=== RANDOMIZED ===\n",
      "\n",
      "+-------------+----------------+----------------------+------------+------------------+\n",
      "|   Iteration | Completeness   | Elus. Completeness   | Accuracy   | Elus. Accuracy   |\n",
      "+=============+================+======================+============+==================+\n",
      "|           0 | 90.00%         | 0.00%                | 90.00%     | 0.00%            |\n",
      "+-------------+----------------+----------------------+------------+------------------+\n",
      "|           1 | 100.00%        | 100.00%              | 90.00%     | 0.00%            |\n",
      "+-------------+----------------+----------------------+------------+------------------+\n",
      "+-------------+--------------------+--------------------------+--------------------+--------------------------+\n",
      "|   Iteration | Factual Accuracy   | Elus. Factual Accuracy   | Overall Accuracy   | Elus. Overall Accuracy   |\n",
      "+=============+====================+==========================+====================+==========================+\n",
      "|           0 | 0.00%              | 0.00%                    | 90.00%             | 0.00%                    |\n",
      "+-------------+--------------------+--------------------------+--------------------+--------------------------+\n",
      "|           1 | 0.00%              | 0.00%                    | 90.00%             | 0.00%                    |\n",
      "+-------------+--------------------+--------------------------+--------------------+--------------------------+\n",
      "+-------------+----------------------+-------------------------+-------------------------+\n",
      "|   Iteration | Real Case Accuracy   | Factual Case Accuracy   | Overall Case Accuracy   |\n",
      "+=============+======================+=========================+=========================+\n",
      "|           0 | 11.31%               | 0.00%                   | 11.31%                  |\n",
      "+-------------+----------------------+-------------------------+-------------------------+\n",
      "|           1 | 11.31%               | 0.00%                   | 11.31%                  |\n",
      "+-------------+----------------------+-------------------------+-------------------------+\n",
      "\n",
      "=== LOGISTIC REGRESSION ===\n",
      "\n",
      "+-------------+----------------+----------------------+------------+------------------+\n",
      "|   Iteration | Completeness   | Elus. Completeness   | Accuracy   | Elus. Accuracy   |\n",
      "+=============+================+======================+============+==================+\n",
      "|           0 | 90.00%         | 0.00%                | 90.00%     | 0.00%            |\n",
      "+-------------+----------------+----------------------+------------+------------------+\n",
      "|           1 | 100.00%        | 100.00%              | 90.00%     | 0.04%            |\n",
      "+-------------+----------------+----------------------+------------+------------------+\n",
      "+-------------+--------------------+--------------------------+--------------------+--------------------------+\n",
      "|   Iteration | Factual Accuracy   | Elus. Factual Accuracy   | Overall Accuracy   | Elus. Overall Accuracy   |\n",
      "+=============+====================+==========================+====================+==========================+\n",
      "|           0 | 0.00%              | 0.00%                    | 90.00%             | 0.00%                    |\n",
      "+-------------+--------------------+--------------------------+--------------------+--------------------------+\n",
      "|           1 | 0.00%              | 0.00%                    | 90.00%             | 0.04%                    |\n",
      "+-------------+--------------------+--------------------------+--------------------+--------------------------+\n",
      "+-------------+----------------------+-------------------------+-------------------------+\n",
      "|   Iteration | Real Case Accuracy   | Factual Case Accuracy   | Overall Case Accuracy   |\n",
      "+=============+======================+=========================+=========================+\n",
      "|           0 | 11.31%               | 0.00%                   | 11.31%                  |\n",
      "+-------------+----------------------+-------------------------+-------------------------+\n",
      "|           1 | 11.31%               | 0.00%                   | 11.31%                  |\n",
      "+-------------+----------------------+-------------------------+-------------------------+\n",
      "\n",
      "=== HEURISTIC ===\n",
      "\n",
      "+-------------+----------------+----------------------+------------+------------------+\n",
      "|   Iteration | Completeness   | Elus. Completeness   | Accuracy   | Elus. Accuracy   |\n",
      "+=============+================+======================+============+==================+\n",
      "|           0 | 90.00%         | 0.00%                | 90.00%     | 0.00%            |\n",
      "+-------------+----------------+----------------------+------------+------------------+\n",
      "|           1 | 90.00%         | 0.00%                | 90.00%     | 0.00%            |\n",
      "+-------------+----------------+----------------------+------------+------------------+\n",
      "+-------------+--------------------+--------------------------+--------------------+--------------------------+\n",
      "|   Iteration | Factual Accuracy   | Elus. Factual Accuracy   | Overall Accuracy   | Elus. Overall Accuracy   |\n",
      "+=============+====================+==========================+====================+==========================+\n",
      "|           0 | 0.00%              | 0.00%                    | 90.00%             | 0.00%                    |\n",
      "+-------------+--------------------+--------------------------+--------------------+--------------------------+\n",
      "|           1 | 0.00%              | 0.00%                    | 90.00%             | 0.00%                    |\n",
      "+-------------+--------------------+--------------------------+--------------------+--------------------------+\n",
      "+-------------+----------------------+-------------------------+-------------------------+\n",
      "|   Iteration | Real Case Accuracy   | Factual Case Accuracy   | Overall Case Accuracy   |\n",
      "+=============+======================+=========================+=========================+\n",
      "|           0 | 11.31%               | 0.00%                   | 11.31%                  |\n",
      "+-------------+----------------------+-------------------------+-------------------------+\n",
      "|           1 | 11.31%               | 0.00%                   | 11.31%                  |\n",
      "+-------------+----------------------+-------------------------+-------------------------+\n"
     ]
    }
   ],
   "source": [
    "perform_evaluation()\n"
   ]
  },
  {
   "cell_type": "markdown",
   "id": "2def0f8b-16b9-4697-a454-cbf3f539c18e",
   "metadata": {
    "jp-MarkdownHeadingCollapsed": true,
    "tags": []
   },
   "source": [
    "### Elusiveness: 10%, Input: No Resource, Threshold: 0%, Rule Checking: No\n"
   ]
  },
  {
   "cell_type": "code",
   "execution_count": 19,
   "id": "cd9b4349-72e1-4761-bd49-216ffe3c7eac",
   "metadata": {},
   "outputs": [
    {
     "name": "stdin",
     "output_type": "stream",
     "text": [
      "Enter the path to the file that contains the preprocessed complete log:  logs/preprocessed/continuous_multiple_expert/review_example_large.csv\n"
     ]
    },
    {
     "name": "stdout",
     "output_type": "stream",
     "text": [
      "CSV file successfully read.\n"
     ]
    },
    {
     "name": "stdin",
     "output_type": "stream",
     "text": [
      "Enter the path to the folder that contains the repaired logs after each iteration:  repaired_logs/continuous_multiple_expert/review_example_large/iterations\n"
     ]
    },
    {
     "name": "stdout",
     "output_type": "stream",
     "text": [
      "Folder path successfully read.\n"
     ]
    },
    {
     "name": "stdin",
     "output_type": "stream",
     "text": [
      "Enter the path to the file that contains the model configuration:  model_configurations/continuous_multiple_expert/review_example_large/config.pkl\n"
     ]
    },
    {
     "name": "stdout",
     "output_type": "stream",
     "text": [
      "Model configuration file successfully read.\n"
     ]
    },
    {
     "name": "stdin",
     "output_type": "stream",
     "text": [
      "Enter the path to the file that contains the case ID tokenizer:  tokenizers/continuous_multiple_expert/review_example_large/tokenizer_Case ID.json\n"
     ]
    },
    {
     "name": "stdout",
     "output_type": "stream",
     "text": [
      "Tokenizer successfully read.\n",
      "Randomized missing Case ID values.\n",
      "Filled missing Case ID values using logistic regression.\n",
      "Set 99 determined Case ID values based on the input for 'Start Activity'.\n",
      "\n",
      "=== TRANSFORMER ===\n",
      "\n",
      "+-------------+----------------+----------------------+------------+------------------+\n",
      "|   Iteration | Completeness   | Elus. Completeness   | Accuracy   | Elus. Accuracy   |\n",
      "+=============+================+======================+============+==================+\n",
      "|           0 | 90.00%         | 0.00%                | 90.00%     | 0.00%            |\n",
      "+-------------+----------------+----------------------+------------+------------------+\n",
      "|           1 | 100.00%        | 100.00%              | 93.84%     | 38.44%           |\n",
      "+-------------+----------------+----------------------+------------+------------------+\n",
      "+-------------+--------------------+--------------------------+--------------------+--------------------------+\n",
      "|   Iteration | Factual Accuracy   | Elus. Factual Accuracy   | Overall Accuracy   | Elus. Overall Accuracy   |\n",
      "+=============+====================+==========================+====================+==========================+\n",
      "|           0 | 0.00%              | 0.00%                    | 90.00%             | 0.00%                    |\n",
      "+-------------+--------------------+--------------------------+--------------------+--------------------------+\n",
      "|           1 | 0.00%              | 0.00%                    | 93.84%             | 38.44%                   |\n",
      "+-------------+--------------------+--------------------------+--------------------+--------------------------+\n",
      "+-------------+----------------------+-------------------------+-------------------------+-----------------------+\n",
      "|   Iteration | Real Case Accuracy   | Factual Case Accuracy   | Overall Case Accuracy   | St. Ac. Consistency   |\n",
      "+=============+======================+=========================+=========================+=======================+\n",
      "|           0 | 11.31%               | 0.00%                   | 11.31%                  | 95.61%                |\n",
      "+-------------+----------------------+-------------------------+-------------------------+-----------------------+\n",
      "|           1 | 11.86%               | 0.00%                   | 11.86%                  | 83.47%                |\n",
      "+-------------+----------------------+-------------------------+-------------------------+-----------------------+\n",
      "+-------------+-----------------------+\n",
      "|   Iteration | End Ac. Consistency   |\n",
      "+=============+=======================+\n",
      "|           0 | 97.23%                |\n",
      "+-------------+-----------------------+\n",
      "|           1 | 87.97%                |\n",
      "+-------------+-----------------------+\n",
      "\n",
      "=== RANDOMIZED ===\n",
      "\n",
      "+-------------+----------------+----------------------+------------+------------------+\n",
      "|   Iteration | Completeness   | Elus. Completeness   | Accuracy   | Elus. Accuracy   |\n",
      "+=============+================+======================+============+==================+\n",
      "|           0 | 90.00%         | 0.00%                | 90.00%     | 0.00%            |\n",
      "+-------------+----------------+----------------------+------------+------------------+\n",
      "|           1 | 100.00%        | 100.00%              | 90.00%     | 0.00%            |\n",
      "+-------------+----------------+----------------------+------------+------------------+\n",
      "+-------------+--------------------+--------------------------+--------------------+--------------------------+\n",
      "|   Iteration | Factual Accuracy   | Elus. Factual Accuracy   | Overall Accuracy   | Elus. Overall Accuracy   |\n",
      "+=============+====================+==========================+====================+==========================+\n",
      "|           0 | 0.00%              | 0.00%                    | 90.00%             | 0.00%                    |\n",
      "+-------------+--------------------+--------------------------+--------------------+--------------------------+\n",
      "|           1 | 0.00%              | 0.00%                    | 90.00%             | 0.00%                    |\n",
      "+-------------+--------------------+--------------------------+--------------------+--------------------------+\n",
      "+-------------+----------------------+-------------------------+-------------------------+-----------------------+\n",
      "|   Iteration | Real Case Accuracy   | Factual Case Accuracy   | Overall Case Accuracy   | St. Ac. Consistency   |\n",
      "+=============+======================+=========================+=========================+=======================+\n",
      "|           0 | 11.31%               | 0.00%                   | 11.31%                  | 95.61%                |\n",
      "+-------------+----------------------+-------------------------+-------------------------+-----------------------+\n",
      "|           1 | 11.31%               | 0.00%                   | 11.31%                  | 55.76%                |\n",
      "+-------------+----------------------+-------------------------+-------------------------+-----------------------+\n",
      "+-------------+-----------------------+\n",
      "|   Iteration | End Ac. Consistency   |\n",
      "+=============+=======================+\n",
      "|           0 | 97.23%                |\n",
      "+-------------+-----------------------+\n",
      "|           1 | 56.48%                |\n",
      "+-------------+-----------------------+\n",
      "\n",
      "=== LOGISTIC REGRESSION ===\n",
      "\n",
      "+-------------+----------------+----------------------+------------+------------------+\n",
      "|   Iteration | Completeness   | Elus. Completeness   | Accuracy   | Elus. Accuracy   |\n",
      "+=============+================+======================+============+==================+\n",
      "|           0 | 90.00%         | 0.00%                | 90.00%     | 0.00%            |\n",
      "+-------------+----------------+----------------------+------------+------------------+\n",
      "|           1 | 100.00%        | 100.00%              | 90.00%     | 0.04%            |\n",
      "+-------------+----------------+----------------------+------------+------------------+\n",
      "+-------------+--------------------+--------------------------+--------------------+--------------------------+\n",
      "|   Iteration | Factual Accuracy   | Elus. Factual Accuracy   | Overall Accuracy   | Elus. Overall Accuracy   |\n",
      "+=============+====================+==========================+====================+==========================+\n",
      "|           0 | 0.00%              | 0.00%                    | 90.00%             | 0.00%                    |\n",
      "+-------------+--------------------+--------------------------+--------------------+--------------------------+\n",
      "|           1 | 0.00%              | 0.00%                    | 90.00%             | 0.04%                    |\n",
      "+-------------+--------------------+--------------------------+--------------------+--------------------------+\n",
      "+-------------+----------------------+-------------------------+-------------------------+-----------------------+\n",
      "|   Iteration | Real Case Accuracy   | Factual Case Accuracy   | Overall Case Accuracy   | St. Ac. Consistency   |\n",
      "+=============+======================+=========================+=========================+=======================+\n",
      "|           0 | 11.31%               | 0.00%                   | 11.31%                  | 95.61%                |\n",
      "+-------------+----------------------+-------------------------+-------------------------+-----------------------+\n",
      "|           1 | 11.31%               | 0.00%                   | 11.31%                  | 95.61%                |\n",
      "+-------------+----------------------+-------------------------+-------------------------+-----------------------+\n",
      "+-------------+-----------------------+\n",
      "|   Iteration | End Ac. Consistency   |\n",
      "+=============+=======================+\n",
      "|           0 | 97.23%                |\n",
      "+-------------+-----------------------+\n",
      "|           1 | 97.22%                |\n",
      "+-------------+-----------------------+\n",
      "\n",
      "=== HEURISTIC ===\n",
      "\n",
      "+-------------+----------------+----------------------+------------+------------------+\n",
      "|   Iteration | Completeness   | Elus. Completeness   | Accuracy   | Elus. Accuracy   |\n",
      "+=============+================+======================+============+==================+\n",
      "|           0 | 90.00%         | 0.00%                | 90.00%     | 0.00%            |\n",
      "+-------------+----------------+----------------------+------------+------------------+\n",
      "|           1 | 90.04%         | 0.42%                | 90.00%     | 0.01%            |\n",
      "+-------------+----------------+----------------------+------------+------------------+\n",
      "+-------------+--------------------+--------------------------+--------------------+--------------------------+\n",
      "|   Iteration | Factual Accuracy   | Elus. Factual Accuracy   | Overall Accuracy   | Elus. Overall Accuracy   |\n",
      "+=============+====================+==========================+====================+==========================+\n",
      "|           0 | 0.00%              | 0.00%                    | 90.00%             | 0.00%                    |\n",
      "+-------------+--------------------+--------------------------+--------------------+--------------------------+\n",
      "|           1 | 0.00%              | 0.00%                    | 90.00%             | 0.01%                    |\n",
      "+-------------+--------------------+--------------------------+--------------------+--------------------------+\n",
      "+-------------+----------------------+-------------------------+-------------------------+-----------------------+\n",
      "|   Iteration | Real Case Accuracy   | Factual Case Accuracy   | Overall Case Accuracy   | St. Ac. Consistency   |\n",
      "+=============+======================+=========================+=========================+=======================+\n",
      "|           0 | 11.31%               | 0.00%                   | 11.31%                  | 95.61%                |\n",
      "+-------------+----------------------+-------------------------+-------------------------+-----------------------+\n",
      "|           1 | 11.31%               | 0.00%                   | 11.31%                  | 96.60%                |\n",
      "+-------------+----------------------+-------------------------+-------------------------+-----------------------+\n",
      "+-------------+-----------------------+\n",
      "|   Iteration | End Ac. Consistency   |\n",
      "+=============+=======================+\n",
      "|           0 | 97.23%                |\n",
      "+-------------+-----------------------+\n",
      "|           1 | 97.23%                |\n",
      "+-------------+-----------------------+\n"
     ]
    }
   ],
   "source": [
    "perform_evaluation()\n"
   ]
  },
  {
   "cell_type": "markdown",
   "id": "2db48655-41d1-4dfc-9d53-901a2d8704e9",
   "metadata": {
    "tags": []
   },
   "source": [
    "## renting_log_low\n"
   ]
  },
  {
   "cell_type": "markdown",
   "id": "7dc64fd7-2f6c-46e2-ae6d-70ffc6b5e7f3",
   "metadata": {
    "jp-MarkdownHeadingCollapsed": true,
    "tags": []
   },
   "source": [
    "### Elusiveness: 10%, Input: Complete, Threshold: 0%, Rule Checking: No\n"
   ]
  },
  {
   "cell_type": "code",
   "execution_count": 20,
   "id": "8f0416a4-19d8-4248-bfc7-6f666abfcd67",
   "metadata": {},
   "outputs": [
    {
     "name": "stdin",
     "output_type": "stream",
     "text": [
      "Enter the path to the file that contains the preprocessed complete log:  logs/preprocessed/multiple_discrete_expert_single_continuous/renting_log_low.csv\n"
     ]
    },
    {
     "name": "stdout",
     "output_type": "stream",
     "text": [
      "CSV file successfully read.\n"
     ]
    },
    {
     "name": "stdin",
     "output_type": "stream",
     "text": [
      "Enter the path to the folder that contains the repaired logs after each iteration:  repaired_logs/multiple_discrete_expert_single_continuous/renting_log_low/iterations\n"
     ]
    },
    {
     "name": "stdout",
     "output_type": "stream",
     "text": [
      "Folder path successfully read.\n"
     ]
    },
    {
     "name": "stdin",
     "output_type": "stream",
     "text": [
      "Enter the path to the file that contains the model configuration:  model_configurations/multiple_discrete_expert_single_continuous/renting_log_low/config.pkl\n"
     ]
    },
    {
     "name": "stdout",
     "output_type": "stream",
     "text": [
      "Model configuration file successfully read.\n"
     ]
    },
    {
     "name": "stdin",
     "output_type": "stream",
     "text": [
      "Enter the path to the file that contains the case ID tokenizer:  tokenizers/multiple_discrete_expert_single_continuous/renting_log_low/tokenizer_Case ID.json\n"
     ]
    },
    {
     "name": "stdout",
     "output_type": "stream",
     "text": [
      "Tokenizer successfully read.\n",
      "Randomized log successfully read.\n",
      "Logistic regression log successfully read.\n",
      "Heuristic log successfully read.\n",
      "\n",
      "=== TRANSFORMER ===\n",
      "\n",
      "+-------------+----------------+----------------------+------------+------------------+\n",
      "|   Iteration | Completeness   | Elus. Completeness   | Accuracy   | Elus. Accuracy   |\n",
      "+=============+================+======================+============+==================+\n",
      "|           0 | 90.00%         | 0.00%                | 90.00%     | 0.00%            |\n",
      "+-------------+----------------+----------------------+------------+------------------+\n",
      "|           1 | 100.00%        | 100.00%              | 90.79%     | 7.88%            |\n",
      "+-------------+----------------+----------------------+------------+------------------+\n",
      "+-------------+------------------+--------------------+--------------------------+--------------------------+\n",
      "|   Iteration | Prop. Accuracy   | Factual Accuracy   | Elus. Factual Accuracy   | Prop. Factual Accuracy   |\n",
      "+=============+==================+====================+==========================+==========================+\n",
      "|           0 | 0.00%            | 0.01%              | 0.00%                    | 0.00%                    |\n",
      "+-------------+------------------+--------------------+--------------------------+--------------------------+\n",
      "|           1 | 7.88%            | 0.00%              | -0.01%                   | -0.01%                   |\n",
      "+-------------+------------------+--------------------+--------------------------+--------------------------+\n",
      "+-------------+--------------------+--------------------------+--------------------------+----------------------+\n",
      "|   Iteration | Overall Accuracy   | Elus. Overall Accuracy   | Prop. Overall Accuracy   | Real Case Accuracy   |\n",
      "+=============+====================+==========================+==========================+======================+\n",
      "|           0 | 90.01%             | 0.00%                    | 0.00%                    | 42.60%               |\n",
      "+-------------+--------------------+--------------------------+--------------------------+----------------------+\n",
      "|           1 | 90.79%             | 7.77%                    | 7.77%                    | 30.44%               |\n",
      "+-------------+--------------------+--------------------------+--------------------------+----------------------+\n",
      "+-------------+-------------------------+-------------------------+-----------------------+-----------------------+\n",
      "|   Iteration | Factual Case Accuracy   | Overall Case Accuracy   | St. Ac. Consistency   | End Ac. Consistency   |\n",
      "+=============+=========================+=========================+=======================+=======================+\n",
      "|           0 | 0.06%                   | 42.66%                  | 89.68%                | 90.36%                |\n",
      "+-------------+-------------------------+-------------------------+-----------------------+-----------------------+\n",
      "|           1 | 0.00%                   | 30.44%                  | 90.05%                | 88.76%                |\n",
      "+-------------+-------------------------+-------------------------+-----------------------+-----------------------+\n",
      "\n",
      "=== RANDOMIZED ===\n",
      "\n",
      "+-------------+----------------+----------------------+------------+------------------+\n",
      "|   Iteration | Completeness   | Elus. Completeness   | Accuracy   | Elus. Accuracy   |\n",
      "+=============+================+======================+============+==================+\n",
      "|           0 | 90.00%         | 0.00%                | 90.00%     | 0.00%            |\n",
      "+-------------+----------------+----------------------+------------+------------------+\n",
      "|           1 | 90.02%         | 0.18%                | 90.00%     | 0.00%            |\n",
      "+-------------+----------------+----------------------+------------+------------------+\n",
      "+-------------+------------------+--------------------+--------------------------+--------------------------+\n",
      "|   Iteration | Prop. Accuracy   | Factual Accuracy   | Elus. Factual Accuracy   | Prop. Factual Accuracy   |\n",
      "+=============+==================+====================+==========================+==========================+\n",
      "|           0 | 0.00%            | 0.01%              | 0.00%                    | 0.00%                    |\n",
      "+-------------+------------------+--------------------+--------------------------+--------------------------+\n",
      "|           1 | 0.00%            | 0.01%              | 0.00%                    | 0.00%                    |\n",
      "+-------------+------------------+--------------------+--------------------------+--------------------------+\n",
      "+-------------+--------------------+--------------------------+--------------------------+----------------------+\n",
      "|   Iteration | Overall Accuracy   | Elus. Overall Accuracy   | Prop. Overall Accuracy   | Real Case Accuracy   |\n",
      "+=============+====================+==========================+==========================+======================+\n",
      "|           0 | 90.01%             | 0.00%                    | 0.00%                    | 42.60%               |\n",
      "+-------------+--------------------+--------------------------+--------------------------+----------------------+\n",
      "|           1 | 90.01%             | 0.00%                    | 0.00%                    | 42.60%               |\n",
      "+-------------+--------------------+--------------------------+--------------------------+----------------------+\n",
      "+-------------+-------------------------+-------------------------+-----------------------+-----------------------+\n",
      "|   Iteration | Factual Case Accuracy   | Overall Case Accuracy   | St. Ac. Consistency   | End Ac. Consistency   |\n",
      "+=============+=========================+=========================+=======================+=======================+\n",
      "|           0 | 0.06%                   | 42.66%                  | 89.68%                | 90.36%                |\n",
      "+-------------+-------------------------+-------------------------+-----------------------+-----------------------+\n",
      "|           1 | 0.06%                   | 42.66%                  | 89.85%                | 90.36%                |\n",
      "+-------------+-------------------------+-------------------------+-----------------------+-----------------------+\n",
      "\n",
      "=== LOGISTIC REGRESSION ===\n",
      "\n",
      "+-------------+----------------+----------------------+------------+------------------+\n",
      "|   Iteration | Completeness   | Elus. Completeness   | Accuracy   | Elus. Accuracy   |\n",
      "+=============+================+======================+============+==================+\n",
      "|           0 | 90.00%         | 0.00%                | 90.00%     | 0.00%            |\n",
      "+-------------+----------------+----------------------+------------+------------------+\n",
      "|           1 | 90.02%         | 0.18%                | 90.00%     | 0.00%            |\n",
      "+-------------+----------------+----------------------+------------+------------------+\n",
      "+-------------+------------------+--------------------+--------------------------+--------------------------+\n",
      "|   Iteration | Prop. Accuracy   | Factual Accuracy   | Elus. Factual Accuracy   | Prop. Factual Accuracy   |\n",
      "+=============+==================+====================+==========================+==========================+\n",
      "|           0 | 0.00%            | 0.01%              | 0.00%                    | 0.00%                    |\n",
      "+-------------+------------------+--------------------+--------------------------+--------------------------+\n",
      "|           1 | 0.00%            | 0.01%              | 0.00%                    | 0.00%                    |\n",
      "+-------------+------------------+--------------------+--------------------------+--------------------------+\n",
      "+-------------+--------------------+--------------------------+--------------------------+----------------------+\n",
      "|   Iteration | Overall Accuracy   | Elus. Overall Accuracy   | Prop. Overall Accuracy   | Real Case Accuracy   |\n",
      "+=============+====================+==========================+==========================+======================+\n",
      "|           0 | 90.01%             | 0.00%                    | 0.00%                    | 42.60%               |\n",
      "+-------------+--------------------+--------------------------+--------------------------+----------------------+\n",
      "|           1 | 90.01%             | 0.00%                    | 0.00%                    | 42.60%               |\n",
      "+-------------+--------------------+--------------------------+--------------------------+----------------------+\n",
      "+-------------+-------------------------+-------------------------+-----------------------+-----------------------+\n",
      "|   Iteration | Factual Case Accuracy   | Overall Case Accuracy   | St. Ac. Consistency   | End Ac. Consistency   |\n",
      "+=============+=========================+=========================+=======================+=======================+\n",
      "|           0 | 0.06%                   | 42.66%                  | 89.68%                | 90.36%                |\n",
      "+-------------+-------------------------+-------------------------+-----------------------+-----------------------+\n",
      "|           1 | 0.06%                   | 42.66%                  | 89.85%                | 90.36%                |\n",
      "+-------------+-------------------------+-------------------------+-----------------------+-----------------------+\n",
      "\n",
      "=== HEURISTIC ===\n",
      "\n",
      "+-------------+----------------+----------------------+------------+------------------+\n",
      "|   Iteration | Completeness   | Elus. Completeness   | Accuracy   | Elus. Accuracy   |\n",
      "+=============+================+======================+============+==================+\n",
      "|           0 | 90.00%         | 0.00%                | 90.00%     | 0.00%            |\n",
      "+-------------+----------------+----------------------+------------+------------------+\n",
      "|           1 | 90.02%         | 0.18%                | 90.00%     | 0.00%            |\n",
      "+-------------+----------------+----------------------+------------+------------------+\n",
      "+-------------+------------------+--------------------+--------------------------+--------------------------+\n",
      "|   Iteration | Prop. Accuracy   | Factual Accuracy   | Elus. Factual Accuracy   | Prop. Factual Accuracy   |\n",
      "+=============+==================+====================+==========================+==========================+\n",
      "|           0 | 0.00%            | 0.01%              | 0.00%                    | 0.00%                    |\n",
      "+-------------+------------------+--------------------+--------------------------+--------------------------+\n",
      "|           1 | 0.00%            | 0.01%              | 0.00%                    | 0.00%                    |\n",
      "+-------------+------------------+--------------------+--------------------------+--------------------------+\n",
      "+-------------+--------------------+--------------------------+--------------------------+----------------------+\n",
      "|   Iteration | Overall Accuracy   | Elus. Overall Accuracy   | Prop. Overall Accuracy   | Real Case Accuracy   |\n",
      "+=============+====================+==========================+==========================+======================+\n",
      "|           0 | 90.01%             | 0.00%                    | 0.00%                    | 42.60%               |\n",
      "+-------------+--------------------+--------------------------+--------------------------+----------------------+\n",
      "|           1 | 90.01%             | 0.00%                    | 0.00%                    | 42.60%               |\n",
      "+-------------+--------------------+--------------------------+--------------------------+----------------------+\n",
      "+-------------+-------------------------+-------------------------+-----------------------+-----------------------+\n",
      "|   Iteration | Factual Case Accuracy   | Overall Case Accuracy   | St. Ac. Consistency   | End Ac. Consistency   |\n",
      "+=============+=========================+=========================+=======================+=======================+\n",
      "|           0 | 0.06%                   | 42.66%                  | 89.68%                | 90.36%                |\n",
      "+-------------+-------------------------+-------------------------+-----------------------+-----------------------+\n",
      "|           1 | 0.06%                   | 42.66%                  | 89.85%                | 90.36%                |\n",
      "+-------------+-------------------------+-------------------------+-----------------------+-----------------------+\n"
     ]
    }
   ],
   "source": [
    "perform_evaluation()\n"
   ]
  },
  {
   "cell_type": "markdown",
   "id": "88b9f905-d563-4463-a1a3-ab943f10e000",
   "metadata": {
    "jp-MarkdownHeadingCollapsed": true,
    "tags": []
   },
   "source": [
    "### Elusiveness: 10%, Input: Complete, Threshold: 0%, Rule Checking: Both\n"
   ]
  },
  {
   "cell_type": "code",
   "execution_count": 19,
   "id": "24974557-40d9-4c1b-89ac-9c2e1c28e1b0",
   "metadata": {},
   "outputs": [
    {
     "name": "stdin",
     "output_type": "stream",
     "text": [
      "Enter the path to the file that contains the preprocessed complete log:  logs/preprocessed/multiple_discrete_expert_single_continuous/renting_log_low.csv\n"
     ]
    },
    {
     "name": "stdout",
     "output_type": "stream",
     "text": [
      "CSV file successfully read.\n"
     ]
    },
    {
     "name": "stdin",
     "output_type": "stream",
     "text": [
      "Enter the path to the folder that contains the repaired logs after each iteration:  repaired_logs/multiple_discrete_expert_single_continuous/renting_log_low/iterations\n"
     ]
    },
    {
     "name": "stdout",
     "output_type": "stream",
     "text": [
      "Folder path successfully read.\n"
     ]
    },
    {
     "name": "stdin",
     "output_type": "stream",
     "text": [
      "Enter the path to the file that contains the model configuration:  model_configurations/multiple_discrete_expert_single_continuous/renting_log_low/config.pkl\n"
     ]
    },
    {
     "name": "stdout",
     "output_type": "stream",
     "text": [
      "Model configuration file successfully read.\n"
     ]
    },
    {
     "name": "stdin",
     "output_type": "stream",
     "text": [
      "Enter the path to the file that contains the case ID tokenizer:  tokenizers/multiple_discrete_expert_single_continuous/renting_log_low/tokenizer_Case ID.json\n"
     ]
    },
    {
     "name": "stdout",
     "output_type": "stream",
     "text": [
      "Tokenizer successfully read.\n",
      "Randomized missing Case ID values.\n",
      "Filled missing Case ID values using logistic regression.\n",
      "Set 17 determined Case ID values based on the input for 'Start Activity'.\n",
      "\n",
      "=== TRANSFORMER ===\n",
      "\n",
      "+-------------+----------------+----------------------+------------+------------------+\n",
      "|   Iteration | Completeness   | Elus. Completeness   | Accuracy   | Elus. Accuracy   |\n",
      "+=============+================+======================+============+==================+\n",
      "|           0 | 90.00%         | 0.00%                | 90.00%     | 0.00%            |\n",
      "+-------------+----------------+----------------------+------------+------------------+\n",
      "|           1 | 98.72%         | 87.20%               | 90.70%     | 7.03%            |\n",
      "+-------------+----------------+----------------------+------------+------------------+\n",
      "|           2 | 99.41%         | 94.07%               | 90.75%     | 7.50%            |\n",
      "+-------------+----------------+----------------------+------------+------------------+\n",
      "|           3 | 99.60%         | 96.04%               | 90.76%     | 7.60%            |\n",
      "+-------------+----------------+----------------------+------------+------------------+\n",
      "|           4 | 99.71%         | 97.12%               | 90.77%     | 7.75%            |\n",
      "+-------------+----------------+----------------------+------------+------------------+\n",
      "|           5 | 99.77%         | 97.67%               | 90.78%     | 7.83%            |\n",
      "+-------------+----------------+----------------------+------------+------------------+\n",
      "+-------------+--------------------+--------------------------+--------------------+--------------------------+\n",
      "|   Iteration | Factual Accuracy   | Elus. Factual Accuracy   | Overall Accuracy   | Elus. Overall Accuracy   |\n",
      "+=============+====================+==========================+====================+==========================+\n",
      "|           0 | 0.01%              | 0.00%                    | 90.01%             | 0.00%                    |\n",
      "+-------------+--------------------+--------------------------+--------------------+--------------------------+\n",
      "|           1 | 0.00%              | -0.01%                   | 90.70%             | 6.91%                    |\n",
      "+-------------+--------------------+--------------------------+--------------------+--------------------------+\n",
      "|           2 | 0.00%              | -0.01%                   | 90.75%             | 7.38%                    |\n",
      "+-------------+--------------------+--------------------------+--------------------+--------------------------+\n",
      "|           3 | 0.00%              | -0.01%                   | 90.76%             | 7.49%                    |\n",
      "+-------------+--------------------+--------------------------+--------------------+--------------------------+\n",
      "|           4 | 0.00%              | -0.01%                   | 90.77%             | 7.63%                    |\n",
      "+-------------+--------------------+--------------------------+--------------------+--------------------------+\n",
      "|           5 | 0.00%              | -0.01%                   | 90.78%             | 7.71%                    |\n",
      "+-------------+--------------------+--------------------------+--------------------+--------------------------+\n",
      "+-------------+----------------------+-------------------------+-------------------------+-----------------------+\n",
      "|   Iteration | Real Case Accuracy   | Factual Case Accuracy   | Overall Case Accuracy   | St. Ac. Consistency   |\n",
      "+=============+======================+=========================+=========================+=======================+\n",
      "|           0 | 42.60%               | 0.06%                   | 42.66%                  | 89.68%                |\n",
      "+-------------+----------------------+-------------------------+-------------------------+-----------------------+\n",
      "|           1 | 31.31%               | 0.00%                   | 31.31%                  | 90.16%                |\n",
      "+-------------+----------------------+-------------------------+-------------------------+-----------------------+\n",
      "|           2 | 30.72%               | 0.00%                   | 30.72%                  | 90.16%                |\n",
      "+-------------+----------------------+-------------------------+-------------------------+-----------------------+\n",
      "|           3 | 30.55%               | 0.00%                   | 30.55%                  | 90.16%                |\n",
      "+-------------+----------------------+-------------------------+-------------------------+-----------------------+\n",
      "|           4 | 30.49%               | 0.00%                   | 30.49%                  | 90.16%                |\n",
      "+-------------+----------------------+-------------------------+-------------------------+-----------------------+\n",
      "|           5 | 30.46%               | 0.00%                   | 30.46%                  | 90.16%                |\n",
      "+-------------+----------------------+-------------------------+-------------------------+-----------------------+\n",
      "+-------------+-----------------------+\n",
      "|   Iteration | End Ac. Consistency   |\n",
      "+=============+=======================+\n",
      "|           0 | 90.36%                |\n",
      "+-------------+-----------------------+\n",
      "|           1 | 92.30%                |\n",
      "+-------------+-----------------------+\n",
      "|           2 | 92.37%                |\n",
      "+-------------+-----------------------+\n",
      "|           3 | 92.37%                |\n",
      "+-------------+-----------------------+\n",
      "|           4 | 92.39%                |\n",
      "+-------------+-----------------------+\n",
      "|           5 | 92.39%                |\n",
      "+-------------+-----------------------+\n",
      "\n",
      "=== RANDOMIZED ===\n",
      "\n",
      "+-------------+----------------+----------------------+------------+------------------+\n",
      "|   Iteration | Completeness   | Elus. Completeness   | Accuracy   | Elus. Accuracy   |\n",
      "+=============+================+======================+============+==================+\n",
      "|           0 | 90.00%         | 0.00%                | 90.00%     | 0.00%            |\n",
      "+-------------+----------------+----------------------+------------+------------------+\n",
      "|           1 | 100.00%        | 100.00%              | 90.00%     | 0.00%            |\n",
      "+-------------+----------------+----------------------+------------+------------------+\n",
      "+-------------+--------------------+--------------------------+--------------------+--------------------------+\n",
      "|   Iteration | Factual Accuracy   | Elus. Factual Accuracy   | Overall Accuracy   | Elus. Overall Accuracy   |\n",
      "+=============+====================+==========================+====================+==========================+\n",
      "|           0 | 0.01%              | 0.00%                    | 90.01%             | 0.00%                    |\n",
      "+-------------+--------------------+--------------------------+--------------------+--------------------------+\n",
      "|           1 | 0.00%              | -0.01%                   | 90.00%             | -0.12%                   |\n",
      "+-------------+--------------------+--------------------------+--------------------+--------------------------+\n",
      "+-------------+----------------------+-------------------------+-------------------------+-----------------------+\n",
      "|   Iteration | Real Case Accuracy   | Factual Case Accuracy   | Overall Case Accuracy   | St. Ac. Consistency   |\n",
      "+=============+======================+=========================+=========================+=======================+\n",
      "|           0 | 42.60%               | 0.06%                   | 42.66%                  | 89.68%                |\n",
      "+-------------+----------------------+-------------------------+-------------------------+-----------------------+\n",
      "|           1 | 42.60%               | 0.00%                   | 42.60%                  | 61.74%                |\n",
      "+-------------+----------------------+-------------------------+-------------------------+-----------------------+\n",
      "+-------------+-----------------------+\n",
      "|   Iteration | End Ac. Consistency   |\n",
      "+=============+=======================+\n",
      "|           0 | 90.36%                |\n",
      "+-------------+-----------------------+\n",
      "|           1 | 60.38%                |\n",
      "+-------------+-----------------------+\n",
      "\n",
      "=== LOGISTIC REGRESSION ===\n",
      "\n",
      "+-------------+----------------+----------------------+------------+------------------+\n",
      "|   Iteration | Completeness   | Elus. Completeness   | Accuracy   | Elus. Accuracy   |\n",
      "+=============+================+======================+============+==================+\n",
      "|           0 | 90.00%         | 0.00%                | 90.00%     | 0.00%            |\n",
      "+-------------+----------------+----------------------+------------+------------------+\n",
      "|           1 | 100.00%        | 100.00%              | 90.01%     | 0.05%            |\n",
      "+-------------+----------------+----------------------+------------+------------------+\n",
      "+-------------+--------------------+--------------------------+--------------------+--------------------------+\n",
      "|   Iteration | Factual Accuracy   | Elus. Factual Accuracy   | Overall Accuracy   | Elus. Overall Accuracy   |\n",
      "+=============+====================+==========================+====================+==========================+\n",
      "|           0 | 0.01%              | 0.00%                    | 90.01%             | 0.00%                    |\n",
      "+-------------+--------------------+--------------------------+--------------------+--------------------------+\n",
      "|           1 | 0.00%              | -0.01%                   | 90.01%             | -0.07%                   |\n",
      "+-------------+--------------------+--------------------------+--------------------+--------------------------+\n",
      "+-------------+----------------------+-------------------------+-------------------------+-----------------------+\n",
      "|   Iteration | Real Case Accuracy   | Factual Case Accuracy   | Overall Case Accuracy   | St. Ac. Consistency   |\n",
      "+=============+======================+=========================+=========================+=======================+\n",
      "|           0 | 42.60%               | 0.06%                   | 42.66%                  | 89.68%                |\n",
      "+-------------+----------------------+-------------------------+-------------------------+-----------------------+\n",
      "|           1 | 42.60%               | 0.00%                   | 42.60%                  | 89.68%                |\n",
      "+-------------+----------------------+-------------------------+-------------------------+-----------------------+\n",
      "+-------------+-----------------------+\n",
      "|   Iteration | End Ac. Consistency   |\n",
      "+=============+=======================+\n",
      "|           0 | 90.36%                |\n",
      "+-------------+-----------------------+\n",
      "|           1 | 90.36%                |\n",
      "+-------------+-----------------------+\n",
      "\n",
      "=== HEURISTIC ===\n",
      "\n",
      "+-------------+----------------+----------------------+------------+------------------+\n",
      "|   Iteration | Completeness   | Elus. Completeness   | Accuracy   | Elus. Accuracy   |\n",
      "+=============+================+======================+============+==================+\n",
      "|           0 | 90.00%         | 0.00%                | 90.00%     | 0.00%            |\n",
      "+-------------+----------------+----------------------+------------+------------------+\n",
      "|           1 | 90.02%         | 0.18%                | 90.00%     | 0.00%            |\n",
      "+-------------+----------------+----------------------+------------+------------------+\n",
      "+-------------+--------------------+--------------------------+--------------------+--------------------------+\n",
      "|   Iteration | Factual Accuracy   | Elus. Factual Accuracy   | Overall Accuracy   | Elus. Overall Accuracy   |\n",
      "+=============+====================+==========================+====================+==========================+\n",
      "|           0 | 0.01%              | 0.00%                    | 90.01%             | 0.00%                    |\n",
      "+-------------+--------------------+--------------------------+--------------------+--------------------------+\n",
      "|           1 | 0.01%              | 0.00%                    | 90.01%             | 0.00%                    |\n",
      "+-------------+--------------------+--------------------------+--------------------+--------------------------+\n",
      "+-------------+----------------------+-------------------------+-------------------------+-----------------------+\n",
      "|   Iteration | Real Case Accuracy   | Factual Case Accuracy   | Overall Case Accuracy   | St. Ac. Consistency   |\n",
      "+=============+======================+=========================+=========================+=======================+\n",
      "|           0 | 42.60%               | 0.06%                   | 42.66%                  | 89.68%                |\n",
      "+-------------+----------------------+-------------------------+-------------------------+-----------------------+\n",
      "|           1 | 42.60%               | 0.06%                   | 42.66%                  | 89.85%                |\n",
      "+-------------+----------------------+-------------------------+-------------------------+-----------------------+\n",
      "+-------------+-----------------------+\n",
      "|   Iteration | End Ac. Consistency   |\n",
      "+=============+=======================+\n",
      "|           0 | 90.36%                |\n",
      "+-------------+-----------------------+\n",
      "|           1 | 90.36%                |\n",
      "+-------------+-----------------------+\n"
     ]
    }
   ],
   "source": [
    "perform_evaluation()\n"
   ]
  },
  {
   "cell_type": "markdown",
   "id": "f36dd28c-f25d-4d33-8db3-86c08efb0a45",
   "metadata": {
    "jp-MarkdownHeadingCollapsed": true,
    "tags": []
   },
   "source": [
    "### Elusiveness: 10%, Input: Complete, Threshold: 50%, Rule Checking: No\n"
   ]
  },
  {
   "cell_type": "code",
   "execution_count": 22,
   "id": "23c2b3cd-6811-43df-b4d6-9748714ce69a",
   "metadata": {},
   "outputs": [
    {
     "name": "stdin",
     "output_type": "stream",
     "text": [
      "Enter the path to the file that contains the preprocessed complete log:  logs/preprocessed/multiple_discrete_expert_single_continuous/renting_log_low.csv\n"
     ]
    },
    {
     "name": "stdout",
     "output_type": "stream",
     "text": [
      "CSV file successfully read.\n"
     ]
    },
    {
     "name": "stdin",
     "output_type": "stream",
     "text": [
      "Enter the path to the folder that contains the repaired logs after each iteration:  repaired_logs/multiple_discrete_expert_single_continuous/renting_log_low/iterations\n"
     ]
    },
    {
     "name": "stdout",
     "output_type": "stream",
     "text": [
      "Folder path successfully read.\n"
     ]
    },
    {
     "name": "stdin",
     "output_type": "stream",
     "text": [
      "Enter the path to the file that contains the model configuration:  model_configurations/multiple_discrete_expert_single_continuous/renting_log_low/config.pkl\n"
     ]
    },
    {
     "name": "stdout",
     "output_type": "stream",
     "text": [
      "Model configuration file successfully read.\n"
     ]
    },
    {
     "name": "stdin",
     "output_type": "stream",
     "text": [
      "Enter the path to the file that contains the case ID tokenizer:  tokenizers/multiple_discrete_expert_single_continuous/renting_log_low/tokenizer_Case ID.json\n"
     ]
    },
    {
     "name": "stdout",
     "output_type": "stream",
     "text": [
      "Tokenizer successfully read.\n",
      "Randomized log successfully read.\n",
      "Logistic regression log successfully read.\n",
      "Heuristic log successfully read.\n",
      "\n",
      "=== TRANSFORMER ===\n",
      "\n",
      "+-------------+----------------+----------------------+------------+------------------+\n",
      "|   Iteration | Completeness   | Elus. Completeness   | Accuracy   | Elus. Accuracy   |\n",
      "+=============+================+======================+============+==================+\n",
      "|           0 | 90.00%         | 0.00%                | 90.00%     | 0.00%            |\n",
      "+-------------+----------------+----------------------+------------+------------------+\n",
      "|           1 | 90.11%         | 1.13%                | 90.08%     | 0.79%            |\n",
      "+-------------+----------------+----------------------+------------+------------------+\n",
      "|           2 | 90.17%         | 1.67%                | 90.11%     | 1.12%            |\n",
      "+-------------+----------------+----------------------+------------+------------------+\n",
      "|           3 | 90.18%         | 1.79%                | 90.12%     | 1.22%            |\n",
      "+-------------+----------------+----------------------+------------+------------------+\n",
      "|           4 | 90.20%         | 2.02%                | 90.14%     | 1.38%            |\n",
      "+-------------+----------------+----------------------+------------+------------------+\n",
      "|           5 | 90.21%         | 2.15%                | 90.14%     | 1.44%            |\n",
      "+-------------+----------------+----------------------+------------+------------------+\n",
      "+-------------+------------------+--------------------+--------------------------+--------------------------+\n",
      "|   Iteration | Prop. Accuracy   | Factual Accuracy   | Elus. Factual Accuracy   | Prop. Factual Accuracy   |\n",
      "+=============+==================+====================+==========================+==========================+\n",
      "|           0 | 0.00%            | 0.01%              | 0.00%                    | 0.00%                    |\n",
      "+-------------+------------------+--------------------+--------------------------+--------------------------+\n",
      "|           1 | 69.72%           | 0.01%              | 0.00%                    | 0.00%                    |\n",
      "+-------------+------------------+--------------------+--------------------------+--------------------------+\n",
      "|           2 | 67.08%           | 0.01%              | 0.00%                    | 0.00%                    |\n",
      "+-------------+------------------+--------------------+--------------------------+--------------------------+\n",
      "|           3 | 68.21%           | 0.01%              | 0.00%                    | 0.00%                    |\n",
      "+-------------+------------------+--------------------+--------------------------+--------------------------+\n",
      "|           4 | 68.21%           | 0.01%              | 0.00%                    | 0.00%                    |\n",
      "+-------------+------------------+--------------------+--------------------------+--------------------------+\n",
      "|           5 | 67.15%           | 0.01%              | 0.00%                    | 0.00%                    |\n",
      "+-------------+------------------+--------------------+--------------------------+--------------------------+\n",
      "+-------------+--------------------+--------------------------+--------------------------+----------------------+\n",
      "|   Iteration | Overall Accuracy   | Elus. Overall Accuracy   | Prop. Overall Accuracy   | Real Case Accuracy   |\n",
      "+=============+====================+==========================+==========================+======================+\n",
      "|           0 | 90.01%             | 0.00%                    | 0.00%                    | 42.60%               |\n",
      "+-------------+--------------------+--------------------------+--------------------------+----------------------+\n",
      "|           1 | 90.09%             | 0.79%                    | 69.81%                   | 42.70%               |\n",
      "+-------------+--------------------+--------------------------+--------------------------+----------------------+\n",
      "|           2 | 90.12%             | 1.12%                    | 67.16%                   | 42.73%               |\n",
      "+-------------+--------------------+--------------------------+--------------------------+----------------------+\n",
      "|           3 | 90.13%             | 1.23%                    | 68.29%                   | 42.74%               |\n",
      "+-------------+--------------------+--------------------------+--------------------------+----------------------+\n",
      "|           4 | 90.15%             | 1.38%                    | 68.29%                   | 42.77%               |\n",
      "+-------------+--------------------+--------------------------+--------------------------+----------------------+\n",
      "|           5 | 90.16%             | 1.44%                    | 67.23%                   | 42.78%               |\n",
      "+-------------+--------------------+--------------------------+--------------------------+----------------------+\n",
      "+-------------+-------------------------+-------------------------+-----------------------+-----------------------+\n",
      "|   Iteration | Factual Case Accuracy   | Overall Case Accuracy   | St. Ac. Consistency   | End Ac. Consistency   |\n",
      "+=============+=========================+=========================+=======================+=======================+\n",
      "|           0 | 0.06%                   | 42.66%                  | 89.68%                | 90.36%                |\n",
      "+-------------+-------------------------+-------------------------+-----------------------+-----------------------+\n",
      "|           1 | 0.06%                   | 42.76%                  | 89.68%                | 90.50%                |\n",
      "+-------------+-------------------------+-------------------------+-----------------------+-----------------------+\n",
      "|           2 | 0.06%                   | 42.79%                  | 89.68%                | 90.49%                |\n",
      "+-------------+-------------------------+-------------------------+-----------------------+-----------------------+\n",
      "|           3 | 0.06%                   | 42.80%                  | 89.68%                | 90.49%                |\n",
      "+-------------+-------------------------+-------------------------+-----------------------+-----------------------+\n",
      "|           4 | 0.06%                   | 42.83%                  | 89.68%                | 90.53%                |\n",
      "+-------------+-------------------------+-------------------------+-----------------------+-----------------------+\n",
      "|           5 | 0.06%                   | 42.84%                  | 89.68%                | 90.53%                |\n",
      "+-------------+-------------------------+-------------------------+-----------------------+-----------------------+\n",
      "\n",
      "=== RANDOMIZED ===\n",
      "\n",
      "+-------------+----------------+----------------------+------------+------------------+\n",
      "|   Iteration | Completeness   | Elus. Completeness   | Accuracy   | Elus. Accuracy   |\n",
      "+=============+================+======================+============+==================+\n",
      "|           0 | 90.00%         | 0.00%                | 90.00%     | 0.00%            |\n",
      "+-------------+----------------+----------------------+------------+------------------+\n",
      "|           1 | 90.02%         | 0.18%                | 90.00%     | 0.00%            |\n",
      "+-------------+----------------+----------------------+------------+------------------+\n",
      "+-------------+------------------+--------------------+--------------------------+--------------------------+\n",
      "|   Iteration | Prop. Accuracy   | Factual Accuracy   | Elus. Factual Accuracy   | Prop. Factual Accuracy   |\n",
      "+=============+==================+====================+==========================+==========================+\n",
      "|           0 | 0.00%            | 0.01%              | 0.00%                    | 0.00%                    |\n",
      "+-------------+------------------+--------------------+--------------------------+--------------------------+\n",
      "|           1 | 0.00%            | 0.01%              | 0.00%                    | 0.00%                    |\n",
      "+-------------+------------------+--------------------+--------------------------+--------------------------+\n",
      "+-------------+--------------------+--------------------------+--------------------------+----------------------+\n",
      "|   Iteration | Overall Accuracy   | Elus. Overall Accuracy   | Prop. Overall Accuracy   | Real Case Accuracy   |\n",
      "+=============+====================+==========================+==========================+======================+\n",
      "|           0 | 90.01%             | 0.00%                    | 0.00%                    | 42.60%               |\n",
      "+-------------+--------------------+--------------------------+--------------------------+----------------------+\n",
      "|           1 | 90.01%             | 0.00%                    | 0.00%                    | 42.60%               |\n",
      "+-------------+--------------------+--------------------------+--------------------------+----------------------+\n",
      "+-------------+-------------------------+-------------------------+-----------------------+-----------------------+\n",
      "|   Iteration | Factual Case Accuracy   | Overall Case Accuracy   | St. Ac. Consistency   | End Ac. Consistency   |\n",
      "+=============+=========================+=========================+=======================+=======================+\n",
      "|           0 | 0.06%                   | 42.66%                  | 89.68%                | 90.36%                |\n",
      "+-------------+-------------------------+-------------------------+-----------------------+-----------------------+\n",
      "|           1 | 0.06%                   | 42.66%                  | 89.85%                | 90.36%                |\n",
      "+-------------+-------------------------+-------------------------+-----------------------+-----------------------+\n",
      "\n",
      "=== LOGISTIC REGRESSION ===\n",
      "\n",
      "+-------------+----------------+----------------------+------------+------------------+\n",
      "|   Iteration | Completeness   | Elus. Completeness   | Accuracy   | Elus. Accuracy   |\n",
      "+=============+================+======================+============+==================+\n",
      "|           0 | 90.00%         | 0.00%                | 90.00%     | 0.00%            |\n",
      "+-------------+----------------+----------------------+------------+------------------+\n",
      "|           1 | 90.02%         | 0.18%                | 90.00%     | 0.00%            |\n",
      "+-------------+----------------+----------------------+------------+------------------+\n",
      "+-------------+------------------+--------------------+--------------------------+--------------------------+\n",
      "|   Iteration | Prop. Accuracy   | Factual Accuracy   | Elus. Factual Accuracy   | Prop. Factual Accuracy   |\n",
      "+=============+==================+====================+==========================+==========================+\n",
      "|           0 | 0.00%            | 0.01%              | 0.00%                    | 0.00%                    |\n",
      "+-------------+------------------+--------------------+--------------------------+--------------------------+\n",
      "|           1 | 0.00%            | 0.01%              | 0.00%                    | 0.00%                    |\n",
      "+-------------+------------------+--------------------+--------------------------+--------------------------+\n",
      "+-------------+--------------------+--------------------------+--------------------------+----------------------+\n",
      "|   Iteration | Overall Accuracy   | Elus. Overall Accuracy   | Prop. Overall Accuracy   | Real Case Accuracy   |\n",
      "+=============+====================+==========================+==========================+======================+\n",
      "|           0 | 90.01%             | 0.00%                    | 0.00%                    | 42.60%               |\n",
      "+-------------+--------------------+--------------------------+--------------------------+----------------------+\n",
      "|           1 | 90.01%             | 0.00%                    | 0.00%                    | 42.60%               |\n",
      "+-------------+--------------------+--------------------------+--------------------------+----------------------+\n",
      "+-------------+-------------------------+-------------------------+-----------------------+-----------------------+\n",
      "|   Iteration | Factual Case Accuracy   | Overall Case Accuracy   | St. Ac. Consistency   | End Ac. Consistency   |\n",
      "+=============+=========================+=========================+=======================+=======================+\n",
      "|           0 | 0.06%                   | 42.66%                  | 89.68%                | 90.36%                |\n",
      "+-------------+-------------------------+-------------------------+-----------------------+-----------------------+\n",
      "|           1 | 0.06%                   | 42.66%                  | 89.85%                | 90.36%                |\n",
      "+-------------+-------------------------+-------------------------+-----------------------+-----------------------+\n",
      "\n",
      "=== HEURISTIC ===\n",
      "\n",
      "+-------------+----------------+----------------------+------------+------------------+\n",
      "|   Iteration | Completeness   | Elus. Completeness   | Accuracy   | Elus. Accuracy   |\n",
      "+=============+================+======================+============+==================+\n",
      "|           0 | 90.00%         | 0.00%                | 90.00%     | 0.00%            |\n",
      "+-------------+----------------+----------------------+------------+------------------+\n",
      "|           1 | 90.02%         | 0.18%                | 90.00%     | 0.00%            |\n",
      "+-------------+----------------+----------------------+------------+------------------+\n",
      "+-------------+------------------+--------------------+--------------------------+--------------------------+\n",
      "|   Iteration | Prop. Accuracy   | Factual Accuracy   | Elus. Factual Accuracy   | Prop. Factual Accuracy   |\n",
      "+=============+==================+====================+==========================+==========================+\n",
      "|           0 | 0.00%            | 0.01%              | 0.00%                    | 0.00%                    |\n",
      "+-------------+------------------+--------------------+--------------------------+--------------------------+\n",
      "|           1 | 0.00%            | 0.01%              | 0.00%                    | 0.00%                    |\n",
      "+-------------+------------------+--------------------+--------------------------+--------------------------+\n",
      "+-------------+--------------------+--------------------------+--------------------------+----------------------+\n",
      "|   Iteration | Overall Accuracy   | Elus. Overall Accuracy   | Prop. Overall Accuracy   | Real Case Accuracy   |\n",
      "+=============+====================+==========================+==========================+======================+\n",
      "|           0 | 90.01%             | 0.00%                    | 0.00%                    | 42.60%               |\n",
      "+-------------+--------------------+--------------------------+--------------------------+----------------------+\n",
      "|           1 | 90.01%             | 0.00%                    | 0.00%                    | 42.60%               |\n",
      "+-------------+--------------------+--------------------------+--------------------------+----------------------+\n",
      "+-------------+-------------------------+-------------------------+-----------------------+-----------------------+\n",
      "|   Iteration | Factual Case Accuracy   | Overall Case Accuracy   | St. Ac. Consistency   | End Ac. Consistency   |\n",
      "+=============+=========================+=========================+=======================+=======================+\n",
      "|           0 | 0.06%                   | 42.66%                  | 89.68%                | 90.36%                |\n",
      "+-------------+-------------------------+-------------------------+-----------------------+-----------------------+\n",
      "|           1 | 0.06%                   | 42.66%                  | 89.85%                | 90.36%                |\n",
      "+-------------+-------------------------+-------------------------+-----------------------+-----------------------+\n"
     ]
    }
   ],
   "source": [
    "perform_evaluation()\n"
   ]
  },
  {
   "cell_type": "markdown",
   "id": "78e14596-b1e9-4842-89b3-716018dc43d6",
   "metadata": {
    "jp-MarkdownHeadingCollapsed": true,
    "tags": []
   },
   "source": [
    "### Elusiveness: 10%, Input: Complete, Threshold: 50%, Rule Checking: Both\n"
   ]
  },
  {
   "cell_type": "code",
   "execution_count": 20,
   "id": "e5009334-d47f-481a-b543-21e056f2c93f",
   "metadata": {},
   "outputs": [
    {
     "name": "stdin",
     "output_type": "stream",
     "text": [
      "Enter the path to the file that contains the preprocessed complete log:  logs/preprocessed/multiple_discrete_expert_single_continuous/renting_log_low.csv\n"
     ]
    },
    {
     "name": "stdout",
     "output_type": "stream",
     "text": [
      "CSV file successfully read.\n"
     ]
    },
    {
     "name": "stdin",
     "output_type": "stream",
     "text": [
      "Enter the path to the folder that contains the repaired logs after each iteration:  repaired_logs/multiple_discrete_expert_single_continuous/renting_log_low/iterations\n"
     ]
    },
    {
     "name": "stdout",
     "output_type": "stream",
     "text": [
      "Folder path successfully read.\n"
     ]
    },
    {
     "name": "stdin",
     "output_type": "stream",
     "text": [
      "Enter the path to the file that contains the model configuration:  model_configurations/multiple_discrete_expert_single_continuous/renting_log_low/config.pkl\n"
     ]
    },
    {
     "name": "stdout",
     "output_type": "stream",
     "text": [
      "Model configuration file successfully read.\n"
     ]
    },
    {
     "name": "stdin",
     "output_type": "stream",
     "text": [
      "Enter the path to the file that contains the case ID tokenizer:  tokenizers/multiple_discrete_expert_single_continuous/renting_log_low/tokenizer_Case ID.json\n"
     ]
    },
    {
     "name": "stdout",
     "output_type": "stream",
     "text": [
      "Tokenizer successfully read.\n",
      "Randomized log successfully read.\n",
      "Logistic regression log successfully read.\n",
      "Heuristic log successfully read.\n",
      "\n",
      "=== TRANSFORMER ===\n",
      "\n",
      "+-------------+----------------+----------------------+------------+------------------+\n",
      "|   Iteration | Completeness   | Elus. Completeness   | Accuracy   | Elus. Accuracy   |\n",
      "+=============+================+======================+============+==================+\n",
      "|           0 | 90.00%         | 0.00%                | 90.00%     | 0.00%            |\n",
      "+-------------+----------------+----------------------+------------+------------------+\n",
      "|           1 | 90.11%         | 1.13%                | 90.08%     | 0.79%            |\n",
      "+-------------+----------------+----------------------+------------+------------------+\n",
      "|           2 | 90.16%         | 1.58%                | 90.11%     | 1.08%            |\n",
      "+-------------+----------------+----------------------+------------+------------------+\n",
      "|           3 | 90.18%         | 1.84%                | 90.13%     | 1.27%            |\n",
      "+-------------+----------------+----------------------+------------+------------------+\n",
      "|           4 | 90.21%         | 2.06%                | 90.14%     | 1.40%            |\n",
      "+-------------+----------------+----------------------+------------+------------------+\n",
      "|           5 | 90.23%         | 2.29%                | 90.15%     | 1.51%            |\n",
      "+-------------+----------------+----------------------+------------+------------------+\n",
      "+-------------+------------------+--------------------+--------------------------+--------------------------+\n",
      "|   Iteration | Prop. Accuracy   | Factual Accuracy   | Elus. Factual Accuracy   | Prop. Factual Accuracy   |\n",
      "+=============+==================+====================+==========================+==========================+\n",
      "|           0 | 0.00%            | 0.01%              | 0.00%                    | 0.00%                    |\n",
      "+-------------+------------------+--------------------+--------------------------+--------------------------+\n",
      "|           1 | 69.72%           | 0.01%              | 0.00%                    | 0.00%                    |\n",
      "+-------------+------------------+--------------------+--------------------------+--------------------------+\n",
      "|           2 | 68.42%           | 0.01%              | 0.00%                    | 0.00%                    |\n",
      "+-------------+------------------+--------------------+--------------------------+--------------------------+\n",
      "|           3 | 68.93%           | 0.01%              | 0.00%                    | 0.00%                    |\n",
      "+-------------+------------------+--------------------+--------------------------+--------------------------+\n",
      "|           4 | 67.84%           | 0.01%              | 0.00%                    | 0.00%                    |\n",
      "+-------------+------------------+--------------------+--------------------------+--------------------------+\n",
      "|           5 | 66.06%           | 0.01%              | 0.00%                    | 0.00%                    |\n",
      "+-------------+------------------+--------------------+--------------------------+--------------------------+\n",
      "+-------------+--------------------+--------------------------+--------------------------+----------------------+\n",
      "|   Iteration | Overall Accuracy   | Elus. Overall Accuracy   | Prop. Overall Accuracy   | Real Case Accuracy   |\n",
      "+=============+====================+==========================+==========================+======================+\n",
      "|           0 | 90.01%             | 0.00%                    | 0.00%                    | 42.60%               |\n",
      "+-------------+--------------------+--------------------------+--------------------------+----------------------+\n",
      "|           1 | 90.09%             | 0.79%                    | 69.81%                   | 42.69%               |\n",
      "+-------------+--------------------+--------------------------+--------------------------+----------------------+\n",
      "|           2 | 90.12%             | 1.08%                    | 68.51%                   | 42.75%               |\n",
      "+-------------+--------------------+--------------------------+--------------------------+----------------------+\n",
      "|           3 | 90.14%             | 1.27%                    | 69.01%                   | 42.81%               |\n",
      "+-------------+--------------------+--------------------------+--------------------------+----------------------+\n",
      "|           4 | 90.15%             | 1.40%                    | 67.92%                   | 42.85%               |\n",
      "+-------------+--------------------+--------------------------+--------------------------+----------------------+\n",
      "|           5 | 90.16%             | 1.52%                    | 66.15%                   | 42.85%               |\n",
      "+-------------+--------------------+--------------------------+--------------------------+----------------------+\n",
      "+-------------+-------------------------+-------------------------+-----------------------+-----------------------+\n",
      "|   Iteration | Factual Case Accuracy   | Overall Case Accuracy   | St. Ac. Consistency   | End Ac. Consistency   |\n",
      "+=============+=========================+=========================+=======================+=======================+\n",
      "|           0 | 0.06%                   | 42.66%                  | 89.68%                | 90.36%                |\n",
      "+-------------+-------------------------+-------------------------+-----------------------+-----------------------+\n",
      "|           1 | 0.06%                   | 42.75%                  | 89.85%                | 90.50%                |\n",
      "+-------------+-------------------------+-------------------------+-----------------------+-----------------------+\n",
      "|           2 | 0.06%                   | 42.81%                  | 89.85%                | 90.55%                |\n",
      "+-------------+-------------------------+-------------------------+-----------------------+-----------------------+\n",
      "|           3 | 0.06%                   | 42.87%                  | 89.85%                | 90.58%                |\n",
      "+-------------+-------------------------+-------------------------+-----------------------+-----------------------+\n",
      "|           4 | 0.06%                   | 42.91%                  | 89.85%                | 90.59%                |\n",
      "+-------------+-------------------------+-------------------------+-----------------------+-----------------------+\n",
      "|           5 | 0.06%                   | 42.91%                  | 89.85%                | 90.61%                |\n",
      "+-------------+-------------------------+-------------------------+-----------------------+-----------------------+\n",
      "\n",
      "=== RANDOMIZED ===\n",
      "\n",
      "+-------------+----------------+----------------------+------------+------------------+\n",
      "|   Iteration | Completeness   | Elus. Completeness   | Accuracy   | Elus. Accuracy   |\n",
      "+=============+================+======================+============+==================+\n",
      "|           0 | 90.00%         | 0.00%                | 90.00%     | 0.00%            |\n",
      "+-------------+----------------+----------------------+------------+------------------+\n",
      "|           1 | 90.02%         | 0.18%                | 90.00%     | 0.00%            |\n",
      "+-------------+----------------+----------------------+------------+------------------+\n",
      "+-------------+------------------+--------------------+--------------------------+--------------------------+\n",
      "|   Iteration | Prop. Accuracy   | Factual Accuracy   | Elus. Factual Accuracy   | Prop. Factual Accuracy   |\n",
      "+=============+==================+====================+==========================+==========================+\n",
      "|           0 | 0.00%            | 0.01%              | 0.00%                    | 0.00%                    |\n",
      "+-------------+------------------+--------------------+--------------------------+--------------------------+\n",
      "|           1 | 0.00%            | 0.01%              | 0.00%                    | 0.00%                    |\n",
      "+-------------+------------------+--------------------+--------------------------+--------------------------+\n",
      "+-------------+--------------------+--------------------------+--------------------------+----------------------+\n",
      "|   Iteration | Overall Accuracy   | Elus. Overall Accuracy   | Prop. Overall Accuracy   | Real Case Accuracy   |\n",
      "+=============+====================+==========================+==========================+======================+\n",
      "|           0 | 90.01%             | 0.00%                    | 0.00%                    | 42.60%               |\n",
      "+-------------+--------------------+--------------------------+--------------------------+----------------------+\n",
      "|           1 | 90.01%             | 0.00%                    | 0.00%                    | 42.60%               |\n",
      "+-------------+--------------------+--------------------------+--------------------------+----------------------+\n",
      "+-------------+-------------------------+-------------------------+-----------------------+-----------------------+\n",
      "|   Iteration | Factual Case Accuracy   | Overall Case Accuracy   | St. Ac. Consistency   | End Ac. Consistency   |\n",
      "+=============+=========================+=========================+=======================+=======================+\n",
      "|           0 | 0.06%                   | 42.66%                  | 89.68%                | 90.36%                |\n",
      "+-------------+-------------------------+-------------------------+-----------------------+-----------------------+\n",
      "|           1 | 0.06%                   | 42.66%                  | 89.85%                | 90.36%                |\n",
      "+-------------+-------------------------+-------------------------+-----------------------+-----------------------+\n",
      "\n",
      "=== LOGISTIC REGRESSION ===\n",
      "\n",
      "+-------------+----------------+----------------------+------------+------------------+\n",
      "|   Iteration | Completeness   | Elus. Completeness   | Accuracy   | Elus. Accuracy   |\n",
      "+=============+================+======================+============+==================+\n",
      "|           0 | 90.00%         | 0.00%                | 90.00%     | 0.00%            |\n",
      "+-------------+----------------+----------------------+------------+------------------+\n",
      "|           1 | 90.02%         | 0.18%                | 90.00%     | 0.00%            |\n",
      "+-------------+----------------+----------------------+------------+------------------+\n",
      "+-------------+------------------+--------------------+--------------------------+--------------------------+\n",
      "|   Iteration | Prop. Accuracy   | Factual Accuracy   | Elus. Factual Accuracy   | Prop. Factual Accuracy   |\n",
      "+=============+==================+====================+==========================+==========================+\n",
      "|           0 | 0.00%            | 0.01%              | 0.00%                    | 0.00%                    |\n",
      "+-------------+------------------+--------------------+--------------------------+--------------------------+\n",
      "|           1 | 0.00%            | 0.01%              | 0.00%                    | 0.00%                    |\n",
      "+-------------+------------------+--------------------+--------------------------+--------------------------+\n",
      "+-------------+--------------------+--------------------------+--------------------------+----------------------+\n",
      "|   Iteration | Overall Accuracy   | Elus. Overall Accuracy   | Prop. Overall Accuracy   | Real Case Accuracy   |\n",
      "+=============+====================+==========================+==========================+======================+\n",
      "|           0 | 90.01%             | 0.00%                    | 0.00%                    | 42.60%               |\n",
      "+-------------+--------------------+--------------------------+--------------------------+----------------------+\n",
      "|           1 | 90.01%             | 0.00%                    | 0.00%                    | 42.60%               |\n",
      "+-------------+--------------------+--------------------------+--------------------------+----------------------+\n",
      "+-------------+-------------------------+-------------------------+-----------------------+-----------------------+\n",
      "|   Iteration | Factual Case Accuracy   | Overall Case Accuracy   | St. Ac. Consistency   | End Ac. Consistency   |\n",
      "+=============+=========================+=========================+=======================+=======================+\n",
      "|           0 | 0.06%                   | 42.66%                  | 89.68%                | 90.36%                |\n",
      "+-------------+-------------------------+-------------------------+-----------------------+-----------------------+\n",
      "|           1 | 0.06%                   | 42.66%                  | 89.85%                | 90.36%                |\n",
      "+-------------+-------------------------+-------------------------+-----------------------+-----------------------+\n",
      "\n",
      "=== HEURISTIC ===\n",
      "\n",
      "+-------------+----------------+----------------------+------------+------------------+\n",
      "|   Iteration | Completeness   | Elus. Completeness   | Accuracy   | Elus. Accuracy   |\n",
      "+=============+================+======================+============+==================+\n",
      "|           0 | 90.00%         | 0.00%                | 90.00%     | 0.00%            |\n",
      "+-------------+----------------+----------------------+------------+------------------+\n",
      "|           1 | 90.02%         | 0.18%                | 90.00%     | 0.00%            |\n",
      "+-------------+----------------+----------------------+------------+------------------+\n",
      "+-------------+------------------+--------------------+--------------------------+--------------------------+\n",
      "|   Iteration | Prop. Accuracy   | Factual Accuracy   | Elus. Factual Accuracy   | Prop. Factual Accuracy   |\n",
      "+=============+==================+====================+==========================+==========================+\n",
      "|           0 | 0.00%            | 0.01%              | 0.00%                    | 0.00%                    |\n",
      "+-------------+------------------+--------------------+--------------------------+--------------------------+\n",
      "|           1 | 0.00%            | 0.01%              | 0.00%                    | 0.00%                    |\n",
      "+-------------+------------------+--------------------+--------------------------+--------------------------+\n",
      "+-------------+--------------------+--------------------------+--------------------------+----------------------+\n",
      "|   Iteration | Overall Accuracy   | Elus. Overall Accuracy   | Prop. Overall Accuracy   | Real Case Accuracy   |\n",
      "+=============+====================+==========================+==========================+======================+\n",
      "|           0 | 90.01%             | 0.00%                    | 0.00%                    | 42.60%               |\n",
      "+-------------+--------------------+--------------------------+--------------------------+----------------------+\n",
      "|           1 | 90.01%             | 0.00%                    | 0.00%                    | 42.60%               |\n",
      "+-------------+--------------------+--------------------------+--------------------------+----------------------+\n",
      "+-------------+-------------------------+-------------------------+-----------------------+-----------------------+\n",
      "|   Iteration | Factual Case Accuracy   | Overall Case Accuracy   | St. Ac. Consistency   | End Ac. Consistency   |\n",
      "+=============+=========================+=========================+=======================+=======================+\n",
      "|           0 | 0.06%                   | 42.66%                  | 89.68%                | 90.36%                |\n",
      "+-------------+-------------------------+-------------------------+-----------------------+-----------------------+\n",
      "|           1 | 0.06%                   | 42.66%                  | 89.85%                | 90.36%                |\n",
      "+-------------+-------------------------+-------------------------+-----------------------+-----------------------+\n"
     ]
    }
   ],
   "source": [
    "perform_evaluation()\n"
   ]
  },
  {
   "cell_type": "markdown",
   "id": "22be8a5c-24f3-4a94-b67c-03f1b111914e",
   "metadata": {
    "jp-MarkdownHeadingCollapsed": true,
    "tags": []
   },
   "source": [
    "### Elusiveness: 20%, Input: Complete, Threshold: 0%, Rule Checking: No\n"
   ]
  },
  {
   "cell_type": "code",
   "execution_count": 20,
   "id": "47fa358f-8a96-4f3f-8c42-5313575b4d53",
   "metadata": {},
   "outputs": [
    {
     "name": "stdin",
     "output_type": "stream",
     "text": [
      "Enter the path to the file that contains the preprocessed complete log:  logs/preprocessed/multiple_discrete_expert_single_continuous/renting_log_low.csv\n"
     ]
    },
    {
     "name": "stdout",
     "output_type": "stream",
     "text": [
      "CSV file successfully read.\n"
     ]
    },
    {
     "name": "stdin",
     "output_type": "stream",
     "text": [
      "Enter the path to the folder that contains the repaired logs after each iteration:  repaired_logs/multiple_discrete_expert_single_continuous/renting_log_low/iterations\n"
     ]
    },
    {
     "name": "stdout",
     "output_type": "stream",
     "text": [
      "Folder path successfully read.\n"
     ]
    },
    {
     "name": "stdin",
     "output_type": "stream",
     "text": [
      "Enter the path to the file that contains the model configuration:  model_configurations/multiple_discrete_expert_single_continuous/renting_log_low/config.pkl\n"
     ]
    },
    {
     "name": "stdout",
     "output_type": "stream",
     "text": [
      "Model configuration file successfully read.\n"
     ]
    },
    {
     "name": "stdin",
     "output_type": "stream",
     "text": [
      "Enter the path to the file that contains the case ID tokenizer:  tokenizers/multiple_discrete_expert_single_continuous/renting_log_low/tokenizer_Case ID.json\n"
     ]
    },
    {
     "name": "stdout",
     "output_type": "stream",
     "text": [
      "Tokenizer successfully read.\n",
      "Randomized missing Case ID values.\n",
      "Filled missing Case ID values using logistic regression.\n",
      "Set 6 determined Case ID values based on the input for 'Start Activity'.\n",
      "\n",
      "=== TRANSFORMER ===\n",
      "\n",
      "+-------------+----------------+----------------------+------------+------------------+\n",
      "|   Iteration | Completeness   | Elus. Completeness   | Accuracy   | Elus. Accuracy   |\n",
      "+=============+================+======================+============+==================+\n",
      "|           0 | 80.00%         | 0.00%                | 80.00%     | 0.00%            |\n",
      "+-------------+----------------+----------------------+------------+------------------+\n",
      "|           1 | 100.00%        | 100.00%              | 81.62%     | 8.12%            |\n",
      "+-------------+----------------+----------------------+------------+------------------+\n",
      "+-------------+------------------+--------------------+--------------------------+--------------------------+\n",
      "|   Iteration | Prop. Accuracy   | Factual Accuracy   | Elus. Factual Accuracy   | Prop. Factual Accuracy   |\n",
      "+=============+==================+====================+==========================+==========================+\n",
      "|           0 | 0.00%            | 0.06%              | 0.00%                    | 0.00%                    |\n",
      "+-------------+------------------+--------------------+--------------------------+--------------------------+\n",
      "|           1 | 8.12%            | 0.00%              | -0.06%                   | -0.06%                   |\n",
      "+-------------+------------------+--------------------+--------------------------+--------------------------+\n",
      "+-------------+--------------------+--------------------------+--------------------------+----------------------+\n",
      "|   Iteration | Overall Accuracy   | Elus. Overall Accuracy   | Prop. Overall Accuracy   | Real Case Accuracy   |\n",
      "+=============+====================+==========================+==========================+======================+\n",
      "|           0 | 80.06%             | 0.00%                    | 0.00%                    | 21.01%               |\n",
      "+-------------+--------------------+--------------------------+--------------------------+----------------------+\n",
      "|           1 | 81.62%             | 7.86%                    | 7.86%                    | 12.74%               |\n",
      "+-------------+--------------------+--------------------------+--------------------------+----------------------+\n",
      "+-------------+-------------------------+-------------------------+-----------------------+-----------------------+\n",
      "|   Iteration | Factual Case Accuracy   | Overall Case Accuracy   | St. Ac. Consistency   | End Ac. Consistency   |\n",
      "+=============+=========================+=========================+=======================+=======================+\n",
      "|           0 | 0.26%                   | 21.27%                  | 80.10%                | 80.45%                |\n",
      "+-------------+-------------------------+-------------------------+-----------------------+-----------------------+\n",
      "|           1 | 0.00%                   | 12.74%                  | 80.80%                | 78.40%                |\n",
      "+-------------+-------------------------+-------------------------+-----------------------+-----------------------+\n",
      "\n",
      "=== RANDOMIZED ===\n",
      "\n",
      "+-------------+----------------+----------------------+------------+------------------+\n",
      "|   Iteration | Completeness   | Elus. Completeness   | Accuracy   | Elus. Accuracy   |\n",
      "+=============+================+======================+============+==================+\n",
      "|           0 | 80.00%         | 0.00%                | 80.00%     | 0.00%            |\n",
      "+-------------+----------------+----------------------+------------+------------------+\n",
      "|           1 | 100.00%        | 100.00%              | 80.00%     | 0.00%            |\n",
      "+-------------+----------------+----------------------+------------+------------------+\n",
      "+-------------+------------------+--------------------+--------------------------+--------------------------+\n",
      "|   Iteration | Prop. Accuracy   | Factual Accuracy   | Elus. Factual Accuracy   | Prop. Factual Accuracy   |\n",
      "+=============+==================+====================+==========================+==========================+\n",
      "|           0 | 0.00%            | 0.06%              | 0.00%                    | 0.00%                    |\n",
      "+-------------+------------------+--------------------+--------------------------+--------------------------+\n",
      "|           1 | 0.00%            | 0.00%              | -0.06%                   | -0.06%                   |\n",
      "+-------------+------------------+--------------------+--------------------------+--------------------------+\n",
      "+-------------+--------------------+--------------------------+--------------------------+----------------------+\n",
      "|   Iteration | Overall Accuracy   | Elus. Overall Accuracy   | Prop. Overall Accuracy   | Real Case Accuracy   |\n",
      "+=============+====================+==========================+==========================+======================+\n",
      "|           0 | 80.06%             | 0.00%                    | 0.00%                    | 21.01%               |\n",
      "+-------------+--------------------+--------------------------+--------------------------+----------------------+\n",
      "|           1 | 80.00%             | -0.29%                   | -0.29%                   | 21.01%               |\n",
      "+-------------+--------------------+--------------------------+--------------------------+----------------------+\n",
      "+-------------+-------------------------+-------------------------+-----------------------+-----------------------+\n",
      "|   Iteration | Factual Case Accuracy   | Overall Case Accuracy   | St. Ac. Consistency   | End Ac. Consistency   |\n",
      "+=============+=========================+=========================+=======================+=======================+\n",
      "|           0 | 0.26%                   | 21.27%                  | 80.10%                | 80.45%                |\n",
      "+-------------+-------------------------+-------------------------+-----------------------+-----------------------+\n",
      "|           1 | 0.00%                   | 21.01%                  | 53.04%                | 49.27%                |\n",
      "+-------------+-------------------------+-------------------------+-----------------------+-----------------------+\n",
      "\n",
      "=== LOGISTIC REGRESSION ===\n",
      "\n",
      "+-------------+----------------+----------------------+------------+------------------+\n",
      "|   Iteration | Completeness   | Elus. Completeness   | Accuracy   | Elus. Accuracy   |\n",
      "+=============+================+======================+============+==================+\n",
      "|           0 | 80.00%         | 0.00%                | 80.00%     | 0.00%            |\n",
      "+-------------+----------------+----------------------+------------+------------------+\n",
      "|           1 | 100.00%        | 100.00%              | 80.02%     | 0.09%            |\n",
      "+-------------+----------------+----------------------+------------+------------------+\n",
      "+-------------+------------------+--------------------+--------------------------+--------------------------+\n",
      "|   Iteration | Prop. Accuracy   | Factual Accuracy   | Elus. Factual Accuracy   | Prop. Factual Accuracy   |\n",
      "+=============+==================+====================+==========================+==========================+\n",
      "|           0 | 0.00%            | 0.06%              | 0.00%                    | 0.00%                    |\n",
      "+-------------+------------------+--------------------+--------------------------+--------------------------+\n",
      "|           1 | 0.09%            | 0.00%              | -0.06%                   | -0.06%                   |\n",
      "+-------------+------------------+--------------------+--------------------------+--------------------------+\n",
      "+-------------+--------------------+--------------------------+--------------------------+----------------------+\n",
      "|   Iteration | Overall Accuracy   | Elus. Overall Accuracy   | Prop. Overall Accuracy   | Real Case Accuracy   |\n",
      "+=============+====================+==========================+==========================+======================+\n",
      "|           0 | 80.06%             | 0.00%                    | 0.00%                    | 21.01%               |\n",
      "+-------------+--------------------+--------------------------+--------------------------+----------------------+\n",
      "|           1 | 80.02%             | -0.20%                   | -0.20%                   | 21.00%               |\n",
      "+-------------+--------------------+--------------------------+--------------------------+----------------------+\n",
      "+-------------+-------------------------+-------------------------+-----------------------+-----------------------+\n",
      "|   Iteration | Factual Case Accuracy   | Overall Case Accuracy   | St. Ac. Consistency   | End Ac. Consistency   |\n",
      "+=============+=========================+=========================+=======================+=======================+\n",
      "|           0 | 0.26%                   | 21.27%                  | 80.10%                | 80.45%                |\n",
      "+-------------+-------------------------+-------------------------+-----------------------+-----------------------+\n",
      "|           1 | 0.00%                   | 21.00%                  | 80.10%                | 80.45%                |\n",
      "+-------------+-------------------------+-------------------------+-----------------------+-----------------------+\n",
      "\n",
      "=== HEURISTIC ===\n",
      "\n",
      "+-------------+----------------+----------------------+------------+------------------+\n",
      "|   Iteration | Completeness   | Elus. Completeness   | Accuracy   | Elus. Accuracy   |\n",
      "+=============+================+======================+============+==================+\n",
      "|           0 | 80.00%         | 0.00%                | 80.00%     | 0.00%            |\n",
      "+-------------+----------------+----------------------+------------+------------------+\n",
      "|           1 | 80.01%         | 0.03%                | 80.00%     | 0.00%            |\n",
      "+-------------+----------------+----------------------+------------+------------------+\n",
      "+-------------+------------------+--------------------+--------------------------+--------------------------+\n",
      "|   Iteration | Prop. Accuracy   | Factual Accuracy   | Elus. Factual Accuracy   | Prop. Factual Accuracy   |\n",
      "+=============+==================+====================+==========================+==========================+\n",
      "|           0 | 0.00%            | 0.06%              | 0.00%                    | 0.00%                    |\n",
      "+-------------+------------------+--------------------+--------------------------+--------------------------+\n",
      "|           1 | 0.00%            | 0.06%              | 0.00%                    | 0.00%                    |\n",
      "+-------------+------------------+--------------------+--------------------------+--------------------------+\n",
      "+-------------+--------------------+--------------------------+--------------------------+----------------------+\n",
      "|   Iteration | Overall Accuracy   | Elus. Overall Accuracy   | Prop. Overall Accuracy   | Real Case Accuracy   |\n",
      "+=============+====================+==========================+==========================+======================+\n",
      "|           0 | 80.06%             | 0.00%                    | 0.00%                    | 21.01%               |\n",
      "+-------------+--------------------+--------------------------+--------------------------+----------------------+\n",
      "|           1 | 80.06%             | 0.00%                    | 0.00%                    | 21.01%               |\n",
      "+-------------+--------------------+--------------------------+--------------------------+----------------------+\n",
      "+-------------+-------------------------+-------------------------+-----------------------+-----------------------+\n",
      "|   Iteration | Factual Case Accuracy   | Overall Case Accuracy   | St. Ac. Consistency   | End Ac. Consistency   |\n",
      "+=============+=========================+=========================+=======================+=======================+\n",
      "|           0 | 0.26%                   | 21.27%                  | 80.10%                | 80.45%                |\n",
      "+-------------+-------------------------+-------------------------+-----------------------+-----------------------+\n",
      "|           1 | 0.26%                   | 21.27%                  | 80.16%                | 80.45%                |\n",
      "+-------------+-------------------------+-------------------------+-----------------------+-----------------------+\n"
     ]
    }
   ],
   "source": [
    "perform_evaluation()\n"
   ]
  },
  {
   "cell_type": "markdown",
   "id": "32a98a9d-038d-4dc7-911f-772788b0ee4a",
   "metadata": {
    "jp-MarkdownHeadingCollapsed": true,
    "tags": []
   },
   "source": [
    "### Elusiveness: 10%, Input: No Expert, Threshold: 0%, Rule Checking: No\n"
   ]
  },
  {
   "cell_type": "code",
   "execution_count": 22,
   "id": "70f907a5-6cdf-4a16-907b-201381c13ca8",
   "metadata": {},
   "outputs": [
    {
     "name": "stdin",
     "output_type": "stream",
     "text": [
      "Enter the path to the file that contains the preprocessed complete log:  logs/preprocessed/multiple_discrete_single_continuous/renting_log_low.csv\n"
     ]
    },
    {
     "name": "stdout",
     "output_type": "stream",
     "text": [
      "CSV file successfully read.\n"
     ]
    },
    {
     "name": "stdin",
     "output_type": "stream",
     "text": [
      "Enter the path to the folder that contains the repaired logs after each iteration:  repaired_logs/multiple_discrete_single_continuous/renting_log_low/iterations\n"
     ]
    },
    {
     "name": "stdout",
     "output_type": "stream",
     "text": [
      "Folder path successfully read.\n"
     ]
    },
    {
     "name": "stdin",
     "output_type": "stream",
     "text": [
      "Enter the path to the file that contains the model configuration:  model_configurations/multiple_discrete_single_continuous/renting_log_low/config.pkl\n"
     ]
    },
    {
     "name": "stdout",
     "output_type": "stream",
     "text": [
      "Model configuration file successfully read.\n"
     ]
    },
    {
     "name": "stdin",
     "output_type": "stream",
     "text": [
      "Enter the path to the file that contains the case ID tokenizer:  tokenizers/multiple_discrete_single_continuous/renting_log_low/tokenizer_Case ID.json\n"
     ]
    },
    {
     "name": "stdout",
     "output_type": "stream",
     "text": [
      "Tokenizer successfully read.\n",
      "Randomized log successfully read.\n",
      "Logistic regression log successfully read.\n",
      "Heuristic log successfully read.\n",
      "\n",
      "=== TRANSFORMER ===\n",
      "\n",
      "+-------------+----------------+----------------------+------------+------------------+\n",
      "|   Iteration | Completeness   | Elus. Completeness   | Accuracy   | Elus. Accuracy   |\n",
      "+=============+================+======================+============+==================+\n",
      "|           0 | 90.00%         | 0.00%                | 90.00%     | 0.00%            |\n",
      "+-------------+----------------+----------------------+------------+------------------+\n",
      "|           1 | 100.00%        | 100.00%              | 90.86%     | 8.60%            |\n",
      "+-------------+----------------+----------------------+------------+------------------+\n",
      "+-------------+------------------+--------------------+--------------------------+--------------------------+\n",
      "|   Iteration | Prop. Accuracy   | Factual Accuracy   | Elus. Factual Accuracy   | Prop. Factual Accuracy   |\n",
      "+=============+==================+====================+==========================+==========================+\n",
      "|           0 | 0.00%            | 0.01%              | 0.00%                    | 0.00%                    |\n",
      "+-------------+------------------+--------------------+--------------------------+--------------------------+\n",
      "|           1 | 8.60%            | 0.00%              | -0.01%                   | -0.01%                   |\n",
      "+-------------+------------------+--------------------+--------------------------+--------------------------+\n",
      "+-------------+--------------------+--------------------------+--------------------------+----------------------+\n",
      "|   Iteration | Overall Accuracy   | Elus. Overall Accuracy   | Prop. Overall Accuracy   | Real Case Accuracy   |\n",
      "+=============+====================+==========================+==========================+======================+\n",
      "|           0 | 90.01%             | 0.00%                    | 0.00%                    | 42.60%               |\n",
      "+-------------+--------------------+--------------------------+--------------------------+----------------------+\n",
      "|           1 | 90.86%             | 8.48%                    | 8.48%                    | 27.47%               |\n",
      "+-------------+--------------------+--------------------------+--------------------------+----------------------+\n",
      "+-------------+-------------------------+-------------------------+\n",
      "|   Iteration | Factual Case Accuracy   | Overall Case Accuracy   |\n",
      "+=============+=========================+=========================+\n",
      "|           0 | 0.06%                   | 42.66%                  |\n",
      "+-------------+-------------------------+-------------------------+\n",
      "|           1 | 0.00%                   | 27.47%                  |\n",
      "+-------------+-------------------------+-------------------------+\n",
      "\n",
      "=== RANDOMIZED ===\n",
      "\n",
      "+-------------+----------------+----------------------+------------+------------------+\n",
      "|   Iteration | Completeness   | Elus. Completeness   | Accuracy   | Elus. Accuracy   |\n",
      "+=============+================+======================+============+==================+\n",
      "|           0 | 90.00%         | 0.00%                | 90.00%     | 0.00%            |\n",
      "+-------------+----------------+----------------------+------------+------------------+\n",
      "|           1 | 90.02%         | 0.18%                | 90.00%     | 0.00%            |\n",
      "+-------------+----------------+----------------------+------------+------------------+\n",
      "+-------------+------------------+--------------------+--------------------------+--------------------------+\n",
      "|   Iteration | Prop. Accuracy   | Factual Accuracy   | Elus. Factual Accuracy   | Prop. Factual Accuracy   |\n",
      "+=============+==================+====================+==========================+==========================+\n",
      "|           0 | 0.00%            | 0.01%              | 0.00%                    | 0.00%                    |\n",
      "+-------------+------------------+--------------------+--------------------------+--------------------------+\n",
      "|           1 | 0.00%            | 0.01%              | 0.00%                    | 0.00%                    |\n",
      "+-------------+------------------+--------------------+--------------------------+--------------------------+\n",
      "+-------------+--------------------+--------------------------+--------------------------+----------------------+\n",
      "|   Iteration | Overall Accuracy   | Elus. Overall Accuracy   | Prop. Overall Accuracy   | Real Case Accuracy   |\n",
      "+=============+====================+==========================+==========================+======================+\n",
      "|           0 | 90.01%             | 0.00%                    | 0.00%                    | 42.60%               |\n",
      "+-------------+--------------------+--------------------------+--------------------------+----------------------+\n",
      "|           1 | 90.01%             | 0.00%                    | 0.00%                    | 42.60%               |\n",
      "+-------------+--------------------+--------------------------+--------------------------+----------------------+\n",
      "+-------------+-------------------------+-------------------------+\n",
      "|   Iteration | Factual Case Accuracy   | Overall Case Accuracy   |\n",
      "+=============+=========================+=========================+\n",
      "|           0 | 0.06%                   | 42.66%                  |\n",
      "+-------------+-------------------------+-------------------------+\n",
      "|           1 | 0.06%                   | 42.66%                  |\n",
      "+-------------+-------------------------+-------------------------+\n",
      "\n",
      "=== LOGISTIC REGRESSION ===\n",
      "\n",
      "+-------------+----------------+----------------------+------------+------------------+\n",
      "|   Iteration | Completeness   | Elus. Completeness   | Accuracy   | Elus. Accuracy   |\n",
      "+=============+================+======================+============+==================+\n",
      "|           0 | 90.00%         | 0.00%                | 90.00%     | 0.00%            |\n",
      "+-------------+----------------+----------------------+------------+------------------+\n",
      "|           1 | 90.02%         | 0.18%                | 90.00%     | 0.00%            |\n",
      "+-------------+----------------+----------------------+------------+------------------+\n",
      "+-------------+------------------+--------------------+--------------------------+--------------------------+\n",
      "|   Iteration | Prop. Accuracy   | Factual Accuracy   | Elus. Factual Accuracy   | Prop. Factual Accuracy   |\n",
      "+=============+==================+====================+==========================+==========================+\n",
      "|           0 | 0.00%            | 0.01%              | 0.00%                    | 0.00%                    |\n",
      "+-------------+------------------+--------------------+--------------------------+--------------------------+\n",
      "|           1 | 0.00%            | 0.01%              | 0.00%                    | 0.00%                    |\n",
      "+-------------+------------------+--------------------+--------------------------+--------------------------+\n",
      "+-------------+--------------------+--------------------------+--------------------------+----------------------+\n",
      "|   Iteration | Overall Accuracy   | Elus. Overall Accuracy   | Prop. Overall Accuracy   | Real Case Accuracy   |\n",
      "+=============+====================+==========================+==========================+======================+\n",
      "|           0 | 90.01%             | 0.00%                    | 0.00%                    | 42.60%               |\n",
      "+-------------+--------------------+--------------------------+--------------------------+----------------------+\n",
      "|           1 | 90.01%             | 0.00%                    | 0.00%                    | 42.60%               |\n",
      "+-------------+--------------------+--------------------------+--------------------------+----------------------+\n",
      "+-------------+-------------------------+-------------------------+\n",
      "|   Iteration | Factual Case Accuracy   | Overall Case Accuracy   |\n",
      "+=============+=========================+=========================+\n",
      "|           0 | 0.06%                   | 42.66%                  |\n",
      "+-------------+-------------------------+-------------------------+\n",
      "|           1 | 0.06%                   | 42.66%                  |\n",
      "+-------------+-------------------------+-------------------------+\n",
      "\n",
      "=== HEURISTIC ===\n",
      "\n",
      "+-------------+----------------+----------------------+------------+------------------+\n",
      "|   Iteration | Completeness   | Elus. Completeness   | Accuracy   | Elus. Accuracy   |\n",
      "+=============+================+======================+============+==================+\n",
      "|           0 | 90.00%         | 0.00%                | 90.00%     | 0.00%            |\n",
      "+-------------+----------------+----------------------+------------+------------------+\n",
      "|           1 | 90.02%         | 0.18%                | 90.00%     | 0.00%            |\n",
      "+-------------+----------------+----------------------+------------+------------------+\n",
      "+-------------+------------------+--------------------+--------------------------+--------------------------+\n",
      "|   Iteration | Prop. Accuracy   | Factual Accuracy   | Elus. Factual Accuracy   | Prop. Factual Accuracy   |\n",
      "+=============+==================+====================+==========================+==========================+\n",
      "|           0 | 0.00%            | 0.01%              | 0.00%                    | 0.00%                    |\n",
      "+-------------+------------------+--------------------+--------------------------+--------------------------+\n",
      "|           1 | 0.00%            | 0.01%              | 0.00%                    | 0.00%                    |\n",
      "+-------------+------------------+--------------------+--------------------------+--------------------------+\n",
      "+-------------+--------------------+--------------------------+--------------------------+----------------------+\n",
      "|   Iteration | Overall Accuracy   | Elus. Overall Accuracy   | Prop. Overall Accuracy   | Real Case Accuracy   |\n",
      "+=============+====================+==========================+==========================+======================+\n",
      "|           0 | 90.01%             | 0.00%                    | 0.00%                    | 42.60%               |\n",
      "+-------------+--------------------+--------------------------+--------------------------+----------------------+\n",
      "|           1 | 90.01%             | 0.00%                    | 0.00%                    | 42.60%               |\n",
      "+-------------+--------------------+--------------------------+--------------------------+----------------------+\n",
      "+-------------+-------------------------+-------------------------+\n",
      "|   Iteration | Factual Case Accuracy   | Overall Case Accuracy   |\n",
      "+=============+=========================+=========================+\n",
      "|           0 | 0.06%                   | 42.66%                  |\n",
      "+-------------+-------------------------+-------------------------+\n",
      "|           1 | 0.06%                   | 42.66%                  |\n",
      "+-------------+-------------------------+-------------------------+\n"
     ]
    }
   ],
   "source": [
    "perform_evaluation()\n"
   ]
  },
  {
   "cell_type": "markdown",
   "id": "c25254e6-00c1-421a-92ee-76c1bb0c7b92",
   "metadata": {
    "jp-MarkdownHeadingCollapsed": true,
    "tags": []
   },
   "source": [
    "### Elusiveness: 10%, Input: No Resource, Threshold: 0%, Rule Checking: No\n"
   ]
  },
  {
   "cell_type": "code",
   "execution_count": 23,
   "id": "1942e080-87fb-43c6-82f1-e6f0650170ad",
   "metadata": {},
   "outputs": [
    {
     "name": "stdin",
     "output_type": "stream",
     "text": [
      "Enter the path to the file that contains the preprocessed complete log:  logs/preprocessed/continuous_multiple_expert/renting_log_low.csv\n"
     ]
    },
    {
     "name": "stdout",
     "output_type": "stream",
     "text": [
      "CSV file successfully read.\n"
     ]
    },
    {
     "name": "stdin",
     "output_type": "stream",
     "text": [
      "Enter the path to the folder that contains the repaired logs after each iteration:  repaired_logs/continuous_multiple_expert/renting_log_low/iterations\n"
     ]
    },
    {
     "name": "stdout",
     "output_type": "stream",
     "text": [
      "Folder path successfully read.\n"
     ]
    },
    {
     "name": "stdin",
     "output_type": "stream",
     "text": [
      "Enter the path to the file that contains the model configuration:  model_configurations/continuous_multiple_expert/renting_log_low/config.pkl\n"
     ]
    },
    {
     "name": "stdout",
     "output_type": "stream",
     "text": [
      "Model configuration file successfully read.\n"
     ]
    },
    {
     "name": "stdin",
     "output_type": "stream",
     "text": [
      "Enter the path to the file that contains the case ID tokenizer:  tokenizers/continuous_multiple_expert/renting_log_low/tokenizer_Case ID.json\n"
     ]
    },
    {
     "name": "stdout",
     "output_type": "stream",
     "text": [
      "Tokenizer successfully read.\n",
      "Randomized log successfully read.\n",
      "Logistic regression log successfully read.\n",
      "Heuristic log successfully read.\n",
      "\n",
      "=== TRANSFORMER ===\n",
      "\n",
      "+-------------+----------------+----------------------+------------+------------------+\n",
      "|   Iteration | Completeness   | Elus. Completeness   | Accuracy   | Elus. Accuracy   |\n",
      "+=============+================+======================+============+==================+\n",
      "|           0 | 90.00%         | 0.00%                | 90.00%     | 0.00%            |\n",
      "+-------------+----------------+----------------------+------------+------------------+\n",
      "|           1 | 100.00%        | 100.00%              | 90.87%     | 8.73%            |\n",
      "+-------------+----------------+----------------------+------------+------------------+\n",
      "+-------------+------------------+--------------------+--------------------------+--------------------------+\n",
      "|   Iteration | Prop. Accuracy   | Factual Accuracy   | Elus. Factual Accuracy   | Prop. Factual Accuracy   |\n",
      "+=============+==================+====================+==========================+==========================+\n",
      "|           0 | 0.00%            | 0.01%              | 0.00%                    | 0.00%                    |\n",
      "+-------------+------------------+--------------------+--------------------------+--------------------------+\n",
      "|           1 | 8.73%            | 0.00%              | -0.01%                   | -0.01%                   |\n",
      "+-------------+------------------+--------------------+--------------------------+--------------------------+\n",
      "+-------------+--------------------+--------------------------+--------------------------+----------------------+\n",
      "|   Iteration | Overall Accuracy   | Elus. Overall Accuracy   | Prop. Overall Accuracy   | Real Case Accuracy   |\n",
      "+=============+====================+==========================+==========================+======================+\n",
      "|           0 | 90.01%             | 0.00%                    | 0.00%                    | 42.60%               |\n",
      "+-------------+--------------------+--------------------------+--------------------------+----------------------+\n",
      "|           1 | 90.87%             | 8.62%                    | 8.62%                    | 29.73%               |\n",
      "+-------------+--------------------+--------------------------+--------------------------+----------------------+\n",
      "+-------------+-------------------------+-------------------------+-----------------------+-----------------------+\n",
      "|   Iteration | Factual Case Accuracy   | Overall Case Accuracy   | St. Ac. Consistency   | End Ac. Consistency   |\n",
      "+=============+=========================+=========================+=======================+=======================+\n",
      "|           0 | 0.06%                   | 42.66%                  | 89.68%                | 90.36%                |\n",
      "+-------------+-------------------------+-------------------------+-----------------------+-----------------------+\n",
      "|           1 | 0.00%                   | 29.73%                  | 90.11%                | 89.70%                |\n",
      "+-------------+-------------------------+-------------------------+-----------------------+-----------------------+\n",
      "\n",
      "=== RANDOMIZED ===\n",
      "\n",
      "+-------------+----------------+----------------------+------------+------------------+\n",
      "|   Iteration | Completeness   | Elus. Completeness   | Accuracy   | Elus. Accuracy   |\n",
      "+=============+================+======================+============+==================+\n",
      "|           0 | 90.00%         | 0.00%                | 90.00%     | 0.00%            |\n",
      "+-------------+----------------+----------------------+------------+------------------+\n",
      "|           1 | 90.02%         | 0.18%                | 90.00%     | 0.00%            |\n",
      "+-------------+----------------+----------------------+------------+------------------+\n",
      "+-------------+------------------+--------------------+--------------------------+--------------------------+\n",
      "|   Iteration | Prop. Accuracy   | Factual Accuracy   | Elus. Factual Accuracy   | Prop. Factual Accuracy   |\n",
      "+=============+==================+====================+==========================+==========================+\n",
      "|           0 | 0.00%            | 0.01%              | 0.00%                    | 0.00%                    |\n",
      "+-------------+------------------+--------------------+--------------------------+--------------------------+\n",
      "|           1 | 0.00%            | 0.01%              | 0.00%                    | 0.00%                    |\n",
      "+-------------+------------------+--------------------+--------------------------+--------------------------+\n",
      "+-------------+--------------------+--------------------------+--------------------------+----------------------+\n",
      "|   Iteration | Overall Accuracy   | Elus. Overall Accuracy   | Prop. Overall Accuracy   | Real Case Accuracy   |\n",
      "+=============+====================+==========================+==========================+======================+\n",
      "|           0 | 90.01%             | 0.00%                    | 0.00%                    | 42.60%               |\n",
      "+-------------+--------------------+--------------------------+--------------------------+----------------------+\n",
      "|           1 | 90.01%             | 0.00%                    | 0.00%                    | 42.60%               |\n",
      "+-------------+--------------------+--------------------------+--------------------------+----------------------+\n",
      "+-------------+-------------------------+-------------------------+-----------------------+-----------------------+\n",
      "|   Iteration | Factual Case Accuracy   | Overall Case Accuracy   | St. Ac. Consistency   | End Ac. Consistency   |\n",
      "+=============+=========================+=========================+=======================+=======================+\n",
      "|           0 | 0.06%                   | 42.66%                  | 89.68%                | 90.36%                |\n",
      "+-------------+-------------------------+-------------------------+-----------------------+-----------------------+\n",
      "|           1 | 0.06%                   | 42.66%                  | 89.85%                | 90.36%                |\n",
      "+-------------+-------------------------+-------------------------+-----------------------+-----------------------+\n",
      "\n",
      "=== LOGISTIC REGRESSION ===\n",
      "\n",
      "+-------------+----------------+----------------------+------------+------------------+\n",
      "|   Iteration | Completeness   | Elus. Completeness   | Accuracy   | Elus. Accuracy   |\n",
      "+=============+================+======================+============+==================+\n",
      "|           0 | 90.00%         | 0.00%                | 90.00%     | 0.00%            |\n",
      "+-------------+----------------+----------------------+------------+------------------+\n",
      "|           1 | 90.02%         | 0.18%                | 90.00%     | 0.00%            |\n",
      "+-------------+----------------+----------------------+------------+------------------+\n",
      "+-------------+------------------+--------------------+--------------------------+--------------------------+\n",
      "|   Iteration | Prop. Accuracy   | Factual Accuracy   | Elus. Factual Accuracy   | Prop. Factual Accuracy   |\n",
      "+=============+==================+====================+==========================+==========================+\n",
      "|           0 | 0.00%            | 0.01%              | 0.00%                    | 0.00%                    |\n",
      "+-------------+------------------+--------------------+--------------------------+--------------------------+\n",
      "|           1 | 0.00%            | 0.01%              | 0.00%                    | 0.00%                    |\n",
      "+-------------+------------------+--------------------+--------------------------+--------------------------+\n",
      "+-------------+--------------------+--------------------------+--------------------------+----------------------+\n",
      "|   Iteration | Overall Accuracy   | Elus. Overall Accuracy   | Prop. Overall Accuracy   | Real Case Accuracy   |\n",
      "+=============+====================+==========================+==========================+======================+\n",
      "|           0 | 90.01%             | 0.00%                    | 0.00%                    | 42.60%               |\n",
      "+-------------+--------------------+--------------------------+--------------------------+----------------------+\n",
      "|           1 | 90.01%             | 0.00%                    | 0.00%                    | 42.60%               |\n",
      "+-------------+--------------------+--------------------------+--------------------------+----------------------+\n",
      "+-------------+-------------------------+-------------------------+-----------------------+-----------------------+\n",
      "|   Iteration | Factual Case Accuracy   | Overall Case Accuracy   | St. Ac. Consistency   | End Ac. Consistency   |\n",
      "+=============+=========================+=========================+=======================+=======================+\n",
      "|           0 | 0.06%                   | 42.66%                  | 89.68%                | 90.36%                |\n",
      "+-------------+-------------------------+-------------------------+-----------------------+-----------------------+\n",
      "|           1 | 0.06%                   | 42.66%                  | 89.85%                | 90.36%                |\n",
      "+-------------+-------------------------+-------------------------+-----------------------+-----------------------+\n",
      "\n",
      "=== HEURISTIC ===\n",
      "\n",
      "+-------------+----------------+----------------------+------------+------------------+\n",
      "|   Iteration | Completeness   | Elus. Completeness   | Accuracy   | Elus. Accuracy   |\n",
      "+=============+================+======================+============+==================+\n",
      "|           0 | 90.00%         | 0.00%                | 90.00%     | 0.00%            |\n",
      "+-------------+----------------+----------------------+------------+------------------+\n",
      "|           1 | 90.02%         | 0.18%                | 90.00%     | 0.00%            |\n",
      "+-------------+----------------+----------------------+------------+------------------+\n",
      "+-------------+------------------+--------------------+--------------------------+--------------------------+\n",
      "|   Iteration | Prop. Accuracy   | Factual Accuracy   | Elus. Factual Accuracy   | Prop. Factual Accuracy   |\n",
      "+=============+==================+====================+==========================+==========================+\n",
      "|           0 | 0.00%            | 0.01%              | 0.00%                    | 0.00%                    |\n",
      "+-------------+------------------+--------------------+--------------------------+--------------------------+\n",
      "|           1 | 0.00%            | 0.01%              | 0.00%                    | 0.00%                    |\n",
      "+-------------+------------------+--------------------+--------------------------+--------------------------+\n",
      "+-------------+--------------------+--------------------------+--------------------------+----------------------+\n",
      "|   Iteration | Overall Accuracy   | Elus. Overall Accuracy   | Prop. Overall Accuracy   | Real Case Accuracy   |\n",
      "+=============+====================+==========================+==========================+======================+\n",
      "|           0 | 90.01%             | 0.00%                    | 0.00%                    | 42.60%               |\n",
      "+-------------+--------------------+--------------------------+--------------------------+----------------------+\n",
      "|           1 | 90.01%             | 0.00%                    | 0.00%                    | 42.60%               |\n",
      "+-------------+--------------------+--------------------------+--------------------------+----------------------+\n",
      "+-------------+-------------------------+-------------------------+-----------------------+-----------------------+\n",
      "|   Iteration | Factual Case Accuracy   | Overall Case Accuracy   | St. Ac. Consistency   | End Ac. Consistency   |\n",
      "+=============+=========================+=========================+=======================+=======================+\n",
      "|           0 | 0.06%                   | 42.66%                  | 89.68%                | 90.36%                |\n",
      "+-------------+-------------------------+-------------------------+-----------------------+-----------------------+\n",
      "|           1 | 0.06%                   | 42.66%                  | 89.85%                | 90.36%                |\n",
      "+-------------+-------------------------+-------------------------+-----------------------+-----------------------+\n"
     ]
    }
   ],
   "source": [
    "perform_evaluation()\n"
   ]
  },
  {
   "cell_type": "markdown",
   "id": "4e965439-9d8d-465a-81dd-3fe538183590",
   "metadata": {
    "tags": []
   },
   "source": [
    "## Hospital Billing - Event Log"
   ]
  },
  {
   "cell_type": "markdown",
   "id": "9cd700b5-6da2-4fef-9c0e-e635744c7992",
   "metadata": {
    "jp-MarkdownHeadingCollapsed": true,
    "tags": []
   },
   "source": [
    "### Elusiveness: 10%, Input: Complete, Threshold: 0%, Rule Checking: No\n"
   ]
  },
  {
   "cell_type": "code",
   "execution_count": 20,
   "id": "4018b072-535e-478a-941a-a95951e8f6ca",
   "metadata": {},
   "outputs": [
    {
     "name": "stdin",
     "output_type": "stream",
     "text": [
      "Enter the path to the file that contains the preprocessed complete log:  logs/preprocessed/multiple_discrete_expert_single_continuous/Hospital Billing - Event Log.csv\n"
     ]
    },
    {
     "name": "stdout",
     "output_type": "stream",
     "text": [
      "CSV file successfully read.\n"
     ]
    },
    {
     "name": "stdin",
     "output_type": "stream",
     "text": [
      "Enter the path to the folder that contains the repaired logs after each iteration:  repaired_logs/multiple_discrete_expert_single_continuous/Hospital Billing - Event Log/iterations\n"
     ]
    },
    {
     "name": "stdout",
     "output_type": "stream",
     "text": [
      "Folder path successfully read.\n"
     ]
    },
    {
     "name": "stdin",
     "output_type": "stream",
     "text": [
      "Enter the path to the file that contains the model configuration:  model_configurations/multiple_discrete_expert_single_continuous/Hospital Billing - Event Log/config.pkl\n"
     ]
    },
    {
     "name": "stdout",
     "output_type": "stream",
     "text": [
      "Model configuration file successfully read.\n"
     ]
    },
    {
     "name": "stdin",
     "output_type": "stream",
     "text": [
      "Enter the path to the file that contains the case ID tokenizer:  tokenizers/multiple_discrete_expert_single_continuous/Hospital Billing - Event Log/tokenizer_Case ID.json\n"
     ]
    },
    {
     "name": "stdout",
     "output_type": "stream",
     "text": [
      "Tokenizer successfully read.\n",
      "\n",
      "=== TRANSFORMER ===\n",
      "\n",
      "+-------------+----------------+----------------------+------------+------------------+\n",
      "|   Iteration | Completeness   | Elus. Completeness   | Accuracy   | Elus. Accuracy   |\n",
      "+=============+================+======================+============+==================+\n",
      "|           0 | 90.00%         | 0.00%                | 90.00%     | 0.00%            |\n",
      "+-------------+----------------+----------------------+------------+------------------+\n",
      "|           1 | 100.00%        | 100.00%              | 91.55%     | 15.52%           |\n",
      "+-------------+----------------+----------------------+------------+------------------+\n",
      "+-------------+------------------+--------------------+--------------------------+--------------------------+\n",
      "|   Iteration | Prop. Accuracy   | Factual Accuracy   | Elus. Factual Accuracy   | Prop. Factual Accuracy   |\n",
      "+=============+==================+====================+==========================+==========================+\n",
      "|           0 | 0.00%            | 0.55%              | 0.00%                    | 0.00%                    |\n",
      "+-------------+------------------+--------------------+--------------------------+--------------------------+\n",
      "|           1 | 15.52%           | 0.00%              | -0.55%                   | -0.55%                   |\n",
      "+-------------+------------------+--------------------+--------------------------+--------------------------+\n",
      "+-------------+--------------------+--------------------------+--------------------------+----------------------+\n",
      "|   Iteration | Overall Accuracy   | Elus. Overall Accuracy   | Prop. Overall Accuracy   | Real Case Accuracy   |\n",
      "+=============+====================+==========================+==========================+======================+\n",
      "|           0 | 90.55%             | 0.00%                    | 0.00%                    | 64.48%               |\n",
      "+-------------+--------------------+--------------------------+--------------------------+----------------------+\n",
      "|           1 | 91.55%             | 10.59%                   | 10.59%                   | 65.16%               |\n",
      "+-------------+--------------------+--------------------------+--------------------------+----------------------+\n",
      "+-------------+-------------------------+-------------------------+-----------------------+-----------------------+\n",
      "|   Iteration | Factual Case Accuracy   | Overall Case Accuracy   | St. Ac. Consistency   | End Ac. Consistency   |\n",
      "+=============+=========================+=========================+=======================+=======================+\n",
      "|           0 | 2.41%                   | 66.89%                  | 91.99%                | 87.70%                |\n",
      "+-------------+-------------------------+-------------------------+-----------------------+-----------------------+\n",
      "|           1 | 0.00%                   | 65.16%                  | 93.14%                | 88.16%                |\n",
      "+-------------+-------------------------+-------------------------+-----------------------+-----------------------+\n"
     ]
    }
   ],
   "source": [
    "perform_evaluation()\n"
   ]
  },
  {
   "cell_type": "markdown",
   "id": "3b72f316-d640-4f28-9f6c-1f598a712a2c",
   "metadata": {
    "jp-MarkdownHeadingCollapsed": true,
    "tags": []
   },
   "source": [
    "### Elusiveness: 10%, Input: Complete, Threshold: 0%, Rule Checking: Both\n"
   ]
  },
  {
   "cell_type": "code",
   "execution_count": 20,
   "id": "30a1dcb1-eb00-4f9f-92d8-8555e65138ed",
   "metadata": {},
   "outputs": [
    {
     "name": "stdin",
     "output_type": "stream",
     "text": [
      "Enter the path to the file that contains the preprocessed complete log:  logs/preprocessed/multiple_discrete_expert_single_continuous/Hospital Billing - Event Log.csv\n"
     ]
    },
    {
     "name": "stdout",
     "output_type": "stream",
     "text": [
      "CSV file successfully read.\n"
     ]
    },
    {
     "name": "stdin",
     "output_type": "stream",
     "text": [
      "Enter the path to the folder that contains the repaired logs after each iteration:  repaired_logs/multiple_discrete_expert_single_continuous/Hospital Billing - Event Log/iterations\n"
     ]
    },
    {
     "name": "stdout",
     "output_type": "stream",
     "text": [
      "Folder path successfully read.\n"
     ]
    },
    {
     "name": "stdin",
     "output_type": "stream",
     "text": [
      "Enter the path to the file that contains the model configuration:  model_configurations/multiple_discrete_expert_single_continuous/Hospital Billing - Event Log/config.pkl\n"
     ]
    },
    {
     "name": "stdout",
     "output_type": "stream",
     "text": [
      "Model configuration file successfully read.\n"
     ]
    },
    {
     "name": "stdin",
     "output_type": "stream",
     "text": [
      "Enter the path to the file that contains the case ID tokenizer:  tokenizers/multiple_discrete_expert_single_continuous/Hospital Billing - Event Log/tokenizer_Case ID.json\n"
     ]
    },
    {
     "name": "stdout",
     "output_type": "stream",
     "text": [
      "Tokenizer successfully read.\n",
      "\n",
      "=== TRANSFORMER ===\n",
      "\n",
      "+-------------+----------------+----------------------+------------+------------------+\n",
      "|   Iteration | Completeness   | Elus. Completeness   | Accuracy   | Elus. Accuracy   |\n",
      "+=============+================+======================+============+==================+\n",
      "|           0 | 90.00%         | 0.00%                | 90.00%     | 0.00%            |\n",
      "+-------------+----------------+----------------------+------------+------------------+\n",
      "|           1 | 99.68%         | 96.83%               | 92.11%     | 21.05%           |\n",
      "+-------------+----------------+----------------------+------------+------------------+\n",
      "|           2 | 99.95%         | 99.52%               | 92.11%     | 21.07%           |\n",
      "+-------------+----------------+----------------------+------------+------------------+\n",
      "|           3 | 99.98%         | 99.84%               | 92.11%     | 21.07%           |\n",
      "+-------------+----------------+----------------------+------------+------------------+\n",
      "|           4 | 99.99%         | 99.89%               | 92.11%     | 21.07%           |\n",
      "+-------------+----------------+----------------------+------------+------------------+\n",
      "|           5 | 99.99%         | 99.92%               | 92.11%     | 21.07%           |\n",
      "+-------------+----------------+----------------------+------------+------------------+\n",
      "+-------------+------------------+--------------------+--------------------------+--------------------------+\n",
      "|   Iteration | Prop. Accuracy   | Factual Accuracy   | Elus. Factual Accuracy   | Prop. Factual Accuracy   |\n",
      "+=============+==================+====================+==========================+==========================+\n",
      "|           0 | 0.00%            | 0.55%              | 0.00%                    | 0.00%                    |\n",
      "+-------------+------------------+--------------------+--------------------------+--------------------------+\n",
      "|           1 | 21.74%           | 0.00%              | -0.55%                   | -0.57%                   |\n",
      "+-------------+------------------+--------------------+--------------------------+--------------------------+\n",
      "|           2 | 21.17%           | 0.00%              | -0.55%                   | -0.56%                   |\n",
      "+-------------+------------------+--------------------+--------------------------+--------------------------+\n",
      "|           3 | 21.11%           | 0.00%              | -0.55%                   | -0.55%                   |\n",
      "+-------------+------------------+--------------------+--------------------------+--------------------------+\n",
      "|           4 | 21.10%           | 0.00%              | -0.55%                   | -0.55%                   |\n",
      "+-------------+------------------+--------------------+--------------------------+--------------------------+\n",
      "|           5 | 21.09%           | 0.00%              | -0.55%                   | -0.55%                   |\n",
      "+-------------+------------------+--------------------+--------------------------+--------------------------+\n",
      "+-------------+--------------------+--------------------------+--------------------------+----------------------+\n",
      "|   Iteration | Overall Accuracy   | Elus. Overall Accuracy   | Prop. Overall Accuracy   | Real Case Accuracy   |\n",
      "+=============+====================+==========================+==========================+======================+\n",
      "|           0 | 90.55%             | 0.00%                    | 0.00%                    | 64.48%               |\n",
      "+-------------+--------------------+--------------------------+--------------------------+----------------------+\n",
      "|           1 | 92.11%             | 16.45%                   | 16.99%                   | 67.89%               |\n",
      "+-------------+--------------------+--------------------------+--------------------------+----------------------+\n",
      "|           2 | 92.11%             | 16.47%                   | 16.55%                   | 67.74%               |\n",
      "+-------------+--------------------+--------------------------+--------------------------+----------------------+\n",
      "|           3 | 92.11%             | 16.47%                   | 16.50%                   | 67.71%               |\n",
      "+-------------+--------------------+--------------------------+--------------------------+----------------------+\n",
      "|           4 | 92.11%             | 16.47%                   | 16.49%                   | 67.70%               |\n",
      "+-------------+--------------------+--------------------------+--------------------------+----------------------+\n",
      "|           5 | 92.11%             | 16.47%                   | 16.49%                   | 67.70%               |\n",
      "+-------------+--------------------+--------------------------+--------------------------+----------------------+\n",
      "+-------------+-------------------------+-------------------------+-----------------------+-----------------------+\n",
      "|   Iteration | Factual Case Accuracy   | Overall Case Accuracy   | St. Ac. Consistency   | End Ac. Consistency   |\n",
      "+=============+=========================+=========================+=======================+=======================+\n",
      "|           0 | 2.41%                   | 66.89%                  | 91.99%                | 87.70%                |\n",
      "+-------------+-------------------------+-------------------------+-----------------------+-----------------------+\n",
      "|           1 | 0.00%                   | 67.89%                  | 98.41%                | 89.12%                |\n",
      "+-------------+-------------------------+-------------------------+-----------------------+-----------------------+\n",
      "|           2 | 0.00%                   | 67.74%                  | 98.41%                | 89.12%                |\n",
      "+-------------+-------------------------+-------------------------+-----------------------+-----------------------+\n",
      "|           3 | 0.00%                   | 67.71%                  | 98.41%                | 89.12%                |\n",
      "+-------------+-------------------------+-------------------------+-----------------------+-----------------------+\n",
      "|           4 | 0.00%                   | 67.70%                  | 98.41%                | 89.12%                |\n",
      "+-------------+-------------------------+-------------------------+-----------------------+-----------------------+\n",
      "|           5 | 0.00%                   | 67.70%                  | 98.41%                | 89.12%                |\n",
      "+-------------+-------------------------+-------------------------+-----------------------+-----------------------+\n"
     ]
    }
   ],
   "source": [
    "perform_evaluation()\n"
   ]
  },
  {
   "cell_type": "markdown",
   "id": "c32e9eb6-4c3b-47c7-be43-3ef96fa8ecdd",
   "metadata": {
    "jp-MarkdownHeadingCollapsed": true,
    "tags": []
   },
   "source": [
    "### Elusiveness: 10%, Input: Complete, Threshold: 50%, Rule Checking: No\n"
   ]
  },
  {
   "cell_type": "code",
   "execution_count": 22,
   "id": "1ded688d-b32f-4314-8eda-c439bd58810b",
   "metadata": {},
   "outputs": [
    {
     "name": "stdin",
     "output_type": "stream",
     "text": [
      "Enter the path to the file that contains the preprocessed complete log:  logs/preprocessed/multiple_discrete_expert_single_continuous/Hospital Billing - Event Log.csv\n"
     ]
    },
    {
     "name": "stdout",
     "output_type": "stream",
     "text": [
      "CSV file successfully read.\n"
     ]
    },
    {
     "name": "stdin",
     "output_type": "stream",
     "text": [
      "Enter the path to the folder that contains the repaired logs after each iteration:  repaired_logs/multiple_discrete_expert_single_continuous/Hospital Billing - Event Log/iterations\n"
     ]
    },
    {
     "name": "stdout",
     "output_type": "stream",
     "text": [
      "Folder path successfully read.\n"
     ]
    },
    {
     "name": "stdin",
     "output_type": "stream",
     "text": [
      "Enter the path to the file that contains the model configuration:  model_configurations/multiple_discrete_expert_single_continuous/Hospital Billing - Event Log/config.pkl\n"
     ]
    },
    {
     "name": "stdout",
     "output_type": "stream",
     "text": [
      "Model configuration file successfully read.\n"
     ]
    },
    {
     "name": "stdin",
     "output_type": "stream",
     "text": [
      "Enter the path to the file that contains the case ID tokenizer:  tokenizers/multiple_discrete_expert_single_continuous/Hospital Billing - Event Log/tokenizer_Case ID.json\n"
     ]
    },
    {
     "name": "stdout",
     "output_type": "stream",
     "text": [
      "Tokenizer successfully read.\n",
      "\n",
      "=== TRANSFORMER ===\n",
      "\n",
      "+-------------+----------------+----------------------+------------+------------------+\n",
      "|   Iteration | Completeness   | Elus. Completeness   | Accuracy   | Elus. Accuracy   |\n",
      "+=============+================+======================+============+==================+\n",
      "|           0 | 90.00%         | 0.00%                | 90.00%     | 0.00%            |\n",
      "+-------------+----------------+----------------------+------------+------------------+\n",
      "|           1 | 93.42%         | 34.18%               | 90.59%     | 5.85%            |\n",
      "+-------------+----------------+----------------------+------------+------------------+\n",
      "|           2 | 93.85%         | 38.54%               | 90.60%     | 5.96%            |\n",
      "+-------------+----------------+----------------------+------------+------------------+\n",
      "|           3 | 94.11%         | 41.14%               | 90.61%     | 6.05%            |\n",
      "+-------------+----------------+----------------------+------------+------------------+\n",
      "|           4 | 94.29%         | 42.93%               | 90.61%     | 6.11%            |\n",
      "+-------------+----------------+----------------------+------------+------------------+\n",
      "|           5 | 94.43%         | 44.34%               | 90.62%     | 6.15%            |\n",
      "+-------------+----------------+----------------------+------------+------------------+\n",
      "+-------------+------------------+--------------------+--------------------------+--------------------------+\n",
      "|   Iteration | Prop. Accuracy   | Factual Accuracy   | Elus. Factual Accuracy   | Prop. Factual Accuracy   |\n",
      "+=============+==================+====================+==========================+==========================+\n",
      "|           0 | 0.00%            | 0.55%              | 0.00%                    | 0.00%                    |\n",
      "+-------------+------------------+--------------------+--------------------------+--------------------------+\n",
      "|           1 | 17.12%           | 0.05%              | -0.50%                   | -1.47%                   |\n",
      "+-------------+------------------+--------------------+--------------------------+--------------------------+\n",
      "|           2 | 15.47%           | 0.03%              | -0.52%                   | -1.35%                   |\n",
      "+-------------+------------------+--------------------+--------------------------+--------------------------+\n",
      "|           3 | 14.71%           | 0.03%              | -0.53%                   | -1.28%                   |\n",
      "+-------------+------------------+--------------------+--------------------------+--------------------------+\n",
      "|           4 | 14.23%           | 0.02%              | -0.53%                   | -1.24%                   |\n",
      "+-------------+------------------+--------------------+--------------------------+--------------------------+\n",
      "|           5 | 13.87%           | 0.02%              | -0.53%                   | -1.20%                   |\n",
      "+-------------+------------------+--------------------+--------------------------+--------------------------+\n",
      "+-------------+--------------------+--------------------------+--------------------------+----------------------+\n",
      "|   Iteration | Overall Accuracy   | Elus. Overall Accuracy   | Prop. Overall Accuracy   | Real Case Accuracy   |\n",
      "+=============+====================+==========================+==========================+======================+\n",
      "|           0 | 90.55%             | 0.00%                    | 0.00%                    | 64.48%               |\n",
      "+-------------+--------------------+--------------------------+--------------------------+----------------------+\n",
      "|           1 | 90.64%             | 0.92%                    | 2.69%                    | 65.62%               |\n",
      "+-------------+--------------------+--------------------------+--------------------------+----------------------+\n",
      "|           2 | 90.63%             | 0.84%                    | 2.18%                    | 65.62%               |\n",
      "+-------------+--------------------+--------------------------+--------------------------+----------------------+\n",
      "|           3 | 90.63%             | 0.85%                    | 2.07%                    | 65.61%               |\n",
      "+-------------+--------------------+--------------------------+--------------------------+----------------------+\n",
      "|           4 | 90.63%             | 0.88%                    | 2.05%                    | 65.61%               |\n",
      "+-------------+--------------------+--------------------------+--------------------------+----------------------+\n",
      "|           5 | 90.64%             | 0.89%                    | 2.01%                    | 65.61%               |\n",
      "+-------------+--------------------+--------------------------+--------------------------+----------------------+\n",
      "+-------------+-------------------------+-------------------------+-----------------------+-----------------------+\n",
      "|   Iteration | Factual Case Accuracy   | Overall Case Accuracy   | St. Ac. Consistency   | End Ac. Consistency   |\n",
      "+=============+=========================+=========================+=======================+=======================+\n",
      "|           0 | 2.41%                   | 66.89%                  | 91.99%                | 87.70%                |\n",
      "+-------------+-------------------------+-------------------------+-----------------------+-----------------------+\n",
      "|           1 | 0.23%                   | 65.85%                  | 92.56%                | 87.94%                |\n",
      "+-------------+-------------------------+-------------------------+-----------------------+-----------------------+\n",
      "|           2 | 0.15%                   | 65.77%                  | 92.57%                | 87.95%                |\n",
      "+-------------+-------------------------+-------------------------+-----------------------+-----------------------+\n",
      "|           3 | 0.11%                   | 65.72%                  | 92.57%                | 87.96%                |\n",
      "+-------------+-------------------------+-------------------------+-----------------------+-----------------------+\n",
      "|           4 | 0.10%                   | 65.71%                  | 92.57%                | 87.96%                |\n",
      "+-------------+-------------------------+-------------------------+-----------------------+-----------------------+\n",
      "|           5 | 0.09%                   | 65.70%                  | 92.57%                | 87.97%                |\n",
      "+-------------+-------------------------+-------------------------+-----------------------+-----------------------+\n"
     ]
    }
   ],
   "source": [
    "perform_evaluation()\n"
   ]
  },
  {
   "cell_type": "markdown",
   "id": "60aed782-bc05-4225-8966-b6d2a743de5b",
   "metadata": {
    "jp-MarkdownHeadingCollapsed": true,
    "tags": []
   },
   "source": [
    "### Elusiveness: 10%, Input: Complete, Threshold: 50%, Rule Checking: Both\n"
   ]
  },
  {
   "cell_type": "code",
   "execution_count": 20,
   "id": "be9f4819-7c1a-4ff4-a2a0-3b7ca4e7c4be",
   "metadata": {},
   "outputs": [
    {
     "name": "stdin",
     "output_type": "stream",
     "text": [
      "Enter the path to the file that contains the preprocessed complete log:  logs/preprocessed/multiple_discrete_expert_single_continuous/Hospital Billing - Event Log.csv\n"
     ]
    },
    {
     "name": "stdout",
     "output_type": "stream",
     "text": [
      "CSV file successfully read.\n"
     ]
    },
    {
     "name": "stdin",
     "output_type": "stream",
     "text": [
      "Enter the path to the folder that contains the repaired logs after each iteration:  repaired_logs/multiple_discrete_expert_single_continuous/Hospital Billing - Event Log/iterations\n"
     ]
    },
    {
     "name": "stdout",
     "output_type": "stream",
     "text": [
      "Folder path successfully read.\n"
     ]
    },
    {
     "name": "stdin",
     "output_type": "stream",
     "text": [
      "Enter the path to the file that contains the model configuration:  model_configurations/multiple_discrete_expert_single_continuous/Hospital Billing - Event Log/config.pkl\n"
     ]
    },
    {
     "name": "stdout",
     "output_type": "stream",
     "text": [
      "Model configuration file successfully read.\n"
     ]
    },
    {
     "name": "stdin",
     "output_type": "stream",
     "text": [
      "Enter the path to the file that contains the case ID tokenizer:  tokenizers/multiple_discrete_expert_single_continuous/Hospital Billing - Event Log/tokenizer_Case ID.json\n"
     ]
    },
    {
     "name": "stdout",
     "output_type": "stream",
     "text": [
      "Tokenizer successfully read.\n",
      "\n",
      "=== TRANSFORMER ===\n",
      "\n",
      "+-------------+----------------+----------------------+------------+------------------+\n",
      "|   Iteration | Completeness   | Elus. Completeness   | Accuracy   | Elus. Accuracy   |\n",
      "+=============+================+======================+============+==================+\n",
      "|           0 | 90.00%         | 0.00%                | 90.00%     | 0.00%            |\n",
      "+-------------+----------------+----------------------+------------+------------------+\n",
      "|           1 | 94.60%         | 46.03%               | 90.96%     | 9.59%            |\n",
      "+-------------+----------------+----------------------+------------+------------------+\n",
      "|           2 | 94.98%         | 49.81%               | 90.97%     | 9.74%            |\n",
      "+-------------+----------------+----------------------+------------+------------------+\n",
      "|           3 | 95.19%         | 51.94%               | 90.99%     | 9.86%            |\n",
      "+-------------+----------------+----------------------+------------+------------------+\n",
      "|           4 | 95.34%         | 53.37%               | 90.99%     | 9.93%            |\n",
      "+-------------+----------------+----------------------+------------+------------------+\n",
      "|           5 | 95.45%         | 54.55%               | 91.00%     | 9.99%            |\n",
      "+-------------+----------------+----------------------+------------+------------------+\n",
      "+-------------+------------------+--------------------+--------------------------+--------------------------+\n",
      "|   Iteration | Prop. Accuracy   | Factual Accuracy   | Elus. Factual Accuracy   | Prop. Factual Accuracy   |\n",
      "+=============+==================+====================+==========================+==========================+\n",
      "|           0 | 0.00%            | 0.55%              | 0.00%                    | 0.00%                    |\n",
      "+-------------+------------------+--------------------+--------------------------+--------------------------+\n",
      "|           1 | 20.84%           | 0.02%              | -0.54%                   | -1.17%                   |\n",
      "+-------------+------------------+--------------------+--------------------------+--------------------------+\n",
      "|           2 | 19.56%           | 0.01%              | -0.54%                   | -1.09%                   |\n",
      "+-------------+------------------+--------------------+--------------------------+--------------------------+\n",
      "|           3 | 18.99%           | 0.01%              | -0.55%                   | -1.05%                   |\n",
      "+-------------+------------------+--------------------+--------------------------+--------------------------+\n",
      "|           4 | 18.61%           | 0.01%              | -0.55%                   | -1.02%                   |\n",
      "+-------------+------------------+--------------------+--------------------------+--------------------------+\n",
      "|           5 | 18.31%           | 0.01%              | -0.55%                   | -1.00%                   |\n",
      "+-------------+------------------+--------------------+--------------------------+--------------------------+\n",
      "+-------------+--------------------+--------------------------+--------------------------+----------------------+\n",
      "|   Iteration | Overall Accuracy   | Elus. Overall Accuracy   | Prop. Overall Accuracy   | Real Case Accuracy   |\n",
      "+=============+====================+==========================+==========================+======================+\n",
      "|           0 | 90.55%             | 0.00%                    | 0.00%                    | 64.48%               |\n",
      "+-------------+--------------------+--------------------------+--------------------------+----------------------+\n",
      "|           1 | 90.97%             | 4.49%                    | 9.75%                    | 66.62%               |\n",
      "+-------------+--------------------+--------------------------+--------------------------+----------------------+\n",
      "|           2 | 90.98%             | 4.58%                    | 9.20%                    | 66.63%               |\n",
      "+-------------+--------------------+--------------------------+--------------------------+----------------------+\n",
      "|           3 | 90.99%             | 4.69%                    | 9.04%                    | 66.65%               |\n",
      "+-------------+--------------------+--------------------------+--------------------------+----------------------+\n",
      "|           4 | 91.00%             | 4.75%                    | 8.91%                    | 66.66%               |\n",
      "+-------------+--------------------+--------------------------+--------------------------+----------------------+\n",
      "|           5 | 91.01%             | 4.81%                    | 8.81%                    | 66.66%               |\n",
      "+-------------+--------------------+--------------------------+--------------------------+----------------------+\n",
      "+-------------+-------------------------+-------------------------+-----------------------+-----------------------+\n",
      "|   Iteration | Factual Case Accuracy   | Overall Case Accuracy   | St. Ac. Consistency   | End Ac. Consistency   |\n",
      "+=============+=========================+=========================+=======================+=======================+\n",
      "|           0 | 2.41%                   | 66.89%                  | 91.99%                | 87.70%                |\n",
      "+-------------+-------------------------+-------------------------+-----------------------+-----------------------+\n",
      "|           1 | 0.07%                   | 66.68%                  | 98.37%                | 88.25%                |\n",
      "+-------------+-------------------------+-------------------------+-----------------------+-----------------------+\n",
      "|           2 | 0.04%                   | 66.67%                  | 98.39%                | 88.27%                |\n",
      "+-------------+-------------------------+-------------------------+-----------------------+-----------------------+\n",
      "|           3 | 0.03%                   | 66.69%                  | 98.39%                | 88.29%                |\n",
      "+-------------+-------------------------+-------------------------+-----------------------+-----------------------+\n",
      "|           4 | 0.03%                   | 66.69%                  | 98.39%                | 88.31%                |\n",
      "+-------------+-------------------------+-------------------------+-----------------------+-----------------------+\n",
      "|           5 | 0.03%                   | 66.69%                  | 98.39%                | 88.32%                |\n",
      "+-------------+-------------------------+-------------------------+-----------------------+-----------------------+\n"
     ]
    }
   ],
   "source": [
    "perform_evaluation()\n"
   ]
  },
  {
   "cell_type": "markdown",
   "id": "6017515d-08e2-4bf0-b832-ba93cc0fe6e6",
   "metadata": {
    "jp-MarkdownHeadingCollapsed": true,
    "tags": []
   },
   "source": [
    "### Elusiveness: 20%, Input: Complete, Threshold: 0%, Rule Checking: No\n"
   ]
  },
  {
   "cell_type": "code",
   "execution_count": 21,
   "id": "617505ff-3c0c-44e0-89b4-ed92867c3e84",
   "metadata": {},
   "outputs": [
    {
     "name": "stdin",
     "output_type": "stream",
     "text": [
      "Enter the path to the file that contains the preprocessed complete log:  logs/preprocessed/multiple_discrete_expert_single_continuous/Hospital Billing - Event Log.csv\n"
     ]
    },
    {
     "name": "stdout",
     "output_type": "stream",
     "text": [
      "CSV file successfully read.\n"
     ]
    },
    {
     "name": "stdin",
     "output_type": "stream",
     "text": [
      "Enter the path to the folder that contains the repaired logs after each iteration:  repaired_logs/multiple_discrete_expert_single_continuous/Hospital Billing - Event Log/iterations\n"
     ]
    },
    {
     "name": "stdout",
     "output_type": "stream",
     "text": [
      "Folder path successfully read.\n"
     ]
    },
    {
     "name": "stdin",
     "output_type": "stream",
     "text": [
      "Enter the path to the file that contains the model configuration:  model_configurations/multiple_discrete_expert_single_continuous/Hospital Billing - Event Log/config.pkl\n"
     ]
    },
    {
     "name": "stdout",
     "output_type": "stream",
     "text": [
      "Model configuration file successfully read.\n"
     ]
    },
    {
     "name": "stdin",
     "output_type": "stream",
     "text": [
      "Enter the path to the file that contains the case ID tokenizer:  tokenizers/multiple_discrete_expert_single_continuous/Hospital Billing - Event Log/tokenizer_Case ID.json\n"
     ]
    },
    {
     "name": "stdout",
     "output_type": "stream",
     "text": [
      "Tokenizer successfully read.\n",
      "\n",
      "=== TRANSFORMER ===\n",
      "\n",
      "+-------------+----------------+----------------------+------------+------------------+\n",
      "|   Iteration | Completeness   | Elus. Completeness   | Accuracy   | Elus. Accuracy   |\n",
      "+=============+================+======================+============+==================+\n",
      "|           0 | 80.00%         | 0.00%                | 80.00%     | 0.00%            |\n",
      "+-------------+----------------+----------------------+------------+------------------+\n",
      "|           1 | 100.00%        | 100.00%              | 83.10%     | 15.48%           |\n",
      "+-------------+----------------+----------------------+------------+------------------+\n",
      "+-------------+------------------+--------------------+--------------------------+--------------------------+\n",
      "|   Iteration | Prop. Accuracy   | Factual Accuracy   | Elus. Factual Accuracy   | Prop. Factual Accuracy   |\n",
      "+=============+==================+====================+==========================+==========================+\n",
      "|           0 | 0.00%            | 1.17%              | 0.00%                    | 0.00%                    |\n",
      "+-------------+------------------+--------------------+--------------------------+--------------------------+\n",
      "|           1 | 15.48%           | 0.00%              | -1.18%                   | -1.18%                   |\n",
      "+-------------+------------------+--------------------+--------------------------+--------------------------+\n",
      "+-------------+--------------------+--------------------------+--------------------------+----------------------+\n",
      "|   Iteration | Overall Accuracy   | Elus. Overall Accuracy   | Prop. Overall Accuracy   | Real Case Accuracy   |\n",
      "+=============+====================+==========================+==========================+======================+\n",
      "|           0 | 81.17%             | 0.00%                    | 0.00%                    | 42.58%               |\n",
      "+-------------+--------------------+--------------------------+--------------------------+----------------------+\n",
      "|           1 | 83.10%             | 10.25%                   | 10.25%                   | 43.83%               |\n",
      "+-------------+--------------------+--------------------------+--------------------------+----------------------+\n",
      "+-------------+-------------------------+-------------------------+-----------------------+-----------------------+\n",
      "|   Iteration | Factual Case Accuracy   | Overall Case Accuracy   | St. Ac. Consistency   | End Ac. Consistency   |\n",
      "+=============+=========================+=========================+=======================+=======================+\n",
      "|           0 | 4.86%                   | 47.44%                  | 84.14%                | 80.75%                |\n",
      "+-------------+-------------------------+-------------------------+-----------------------+-----------------------+\n",
      "|           1 | 0.00%                   | 43.83%                  | 86.64%                | 81.90%                |\n",
      "+-------------+-------------------------+-------------------------+-----------------------+-----------------------+\n"
     ]
    }
   ],
   "source": [
    "perform_evaluation()\n"
   ]
  },
  {
   "cell_type": "markdown",
   "id": "22e56ee2-9dd5-4bad-a343-32686cc938d2",
   "metadata": {
    "jp-MarkdownHeadingCollapsed": true,
    "tags": []
   },
   "source": [
    "### Elusiveness: 10%, Input: No Expert, Threshold: 0%, Rule Checking: No\n"
   ]
  },
  {
   "cell_type": "code",
   "execution_count": 20,
   "id": "e5afea57-52dc-4aa5-949c-1a7f71dc74de",
   "metadata": {},
   "outputs": [
    {
     "name": "stdin",
     "output_type": "stream",
     "text": [
      "Enter the path to the file that contains the preprocessed complete log:  logs/preprocessed/multiple_discrete_single_continuous/Hospital Billing - Event Log.csv\n"
     ]
    },
    {
     "name": "stdout",
     "output_type": "stream",
     "text": [
      "CSV file successfully read.\n"
     ]
    },
    {
     "name": "stdin",
     "output_type": "stream",
     "text": [
      "Enter the path to the folder that contains the repaired logs after each iteration:  repaired_logs/multiple_discrete_single_continuous/Hospital Billing - Event Log/iterations\n"
     ]
    },
    {
     "name": "stdout",
     "output_type": "stream",
     "text": [
      "Folder path successfully read.\n"
     ]
    },
    {
     "name": "stdin",
     "output_type": "stream",
     "text": [
      "Enter the path to the file that contains the model configuration:  model_configurations/multiple_discrete_single_continuous/Hospital Billing - Event Log/config.pkl\n"
     ]
    },
    {
     "name": "stdout",
     "output_type": "stream",
     "text": [
      "Model configuration file successfully read.\n"
     ]
    },
    {
     "name": "stdin",
     "output_type": "stream",
     "text": [
      "Enter the path to the file that contains the case ID tokenizer:  tokenizers/multiple_discrete_single_continuous/Hospital Billing - Event Log/tokenizer_Case ID.json\n"
     ]
    },
    {
     "name": "stdout",
     "output_type": "stream",
     "text": [
      "Tokenizer successfully read.\n",
      "\n",
      "=== TRANSFORMER ===\n",
      "\n",
      "+-------------+----------------+----------------------+------------+------------------+\n",
      "|   Iteration | Completeness   | Elus. Completeness   | Accuracy   | Elus. Accuracy   |\n",
      "+=============+================+======================+============+==================+\n",
      "|           0 | 90.00%         | 0.00%                | 90.00%     | 0.00%            |\n",
      "+-------------+----------------+----------------------+------------+------------------+\n",
      "|           1 | 100.00%        | 100.00%              | 92.37%     | 23.71%           |\n",
      "+-------------+----------------+----------------------+------------+------------------+\n",
      "+-------------+------------------+--------------------+--------------------------+--------------------------+\n",
      "|   Iteration | Prop. Accuracy   | Factual Accuracy   | Elus. Factual Accuracy   | Prop. Factual Accuracy   |\n",
      "+=============+==================+====================+==========================+==========================+\n",
      "|           0 | 0.00%            | 0.55%              | 0.00%                    | 0.00%                    |\n",
      "+-------------+------------------+--------------------+--------------------------+--------------------------+\n",
      "|           1 | 23.72%           | 0.00%              | -0.55%                   | -0.55%                   |\n",
      "+-------------+------------------+--------------------+--------------------------+--------------------------+\n",
      "+-------------+--------------------+--------------------------+--------------------------+----------------------+\n",
      "|   Iteration | Overall Accuracy   | Elus. Overall Accuracy   | Prop. Overall Accuracy   | Real Case Accuracy   |\n",
      "+=============+====================+==========================+==========================+======================+\n",
      "|           0 | 90.55%             | 0.00%                    | 0.00%                    | 64.48%               |\n",
      "+-------------+--------------------+--------------------------+--------------------------+----------------------+\n",
      "|           1 | 92.37%             | 19.27%                   | 19.27%                   | 68.23%               |\n",
      "+-------------+--------------------+--------------------------+--------------------------+----------------------+\n",
      "+-------------+-------------------------+-------------------------+\n",
      "|   Iteration | Factual Case Accuracy   | Overall Case Accuracy   |\n",
      "+=============+=========================+=========================+\n",
      "|           0 | 2.41%                   | 66.89%                  |\n",
      "+-------------+-------------------------+-------------------------+\n",
      "|           1 | 0.00%                   | 68.23%                  |\n",
      "+-------------+-------------------------+-------------------------+\n"
     ]
    }
   ],
   "source": [
    "perform_evaluation()\n"
   ]
  },
  {
   "cell_type": "markdown",
   "id": "efbf43b0-9d91-40b7-80f9-321e8f5ece8c",
   "metadata": {
    "jp-MarkdownHeadingCollapsed": true,
    "tags": []
   },
   "source": [
    "### Elusiveness: 10%, Input: No Resource, Threshold: 0%, Rule Checking: No\n"
   ]
  },
  {
   "cell_type": "code",
   "execution_count": 20,
   "id": "ea3f61a5-964e-4965-8879-1e77bc1d237a",
   "metadata": {},
   "outputs": [
    {
     "name": "stdin",
     "output_type": "stream",
     "text": [
      "Enter the path to the file that contains the preprocessed complete log:  logs/preprocessed/continuous_multiple_expert/Hospital Billing - Event Log.csv\n"
     ]
    },
    {
     "name": "stdout",
     "output_type": "stream",
     "text": [
      "CSV file successfully read.\n"
     ]
    },
    {
     "name": "stdin",
     "output_type": "stream",
     "text": [
      "Enter the path to the folder that contains the repaired logs after each iteration:  repaired_logs/continuous_multiple_expert/Hospital Billing - Event Log/iterations\n"
     ]
    },
    {
     "name": "stdout",
     "output_type": "stream",
     "text": [
      "Folder path successfully read.\n"
     ]
    },
    {
     "name": "stdin",
     "output_type": "stream",
     "text": [
      "Enter the path to the file that contains the model configuration:  model_configurations/continuous_multiple_expert/Hospital Billing - Event Log/config.pkl\n"
     ]
    },
    {
     "name": "stdout",
     "output_type": "stream",
     "text": [
      "Model configuration file successfully read.\n"
     ]
    },
    {
     "name": "stdin",
     "output_type": "stream",
     "text": [
      "Enter the path to the file that contains the case ID tokenizer:  tokenizers/continuous_multiple_expert/Hospital Billing - Event Log/tokenizer_Case ID.json\n"
     ]
    },
    {
     "name": "stdout",
     "output_type": "stream",
     "text": [
      "Tokenizer successfully read.\n",
      "\n",
      "=== TRANSFORMER ===\n",
      "\n",
      "+-------------+----------------+----------------------+------------+------------------+\n",
      "|   Iteration | Completeness   | Elus. Completeness   | Accuracy   | Elus. Accuracy   |\n",
      "+=============+================+======================+============+==================+\n",
      "|           0 | 90.00%         | 0.00%                | 90.00%     | 0.00%            |\n",
      "+-------------+----------------+----------------------+------------+------------------+\n",
      "|           1 | 100.00%        | 100.00%              | 91.35%     | 13.50%           |\n",
      "+-------------+----------------+----------------------+------------+------------------+\n",
      "+-------------+------------------+--------------------+--------------------------+--------------------------+\n",
      "|   Iteration | Prop. Accuracy   | Factual Accuracy   | Elus. Factual Accuracy   | Prop. Factual Accuracy   |\n",
      "+=============+==================+====================+==========================+==========================+\n",
      "|           0 | 0.00%            | 0.55%              | 0.00%                    | 0.00%                    |\n",
      "+-------------+------------------+--------------------+--------------------------+--------------------------+\n",
      "|           1 | 13.50%           | 0.00%              | -0.55%                   | -0.55%                   |\n",
      "+-------------+------------------+--------------------+--------------------------+--------------------------+\n",
      "+-------------+--------------------+--------------------------+--------------------------+----------------------+\n",
      "|   Iteration | Overall Accuracy   | Elus. Overall Accuracy   | Prop. Overall Accuracy   | Real Case Accuracy   |\n",
      "+=============+====================+==========================+==========================+======================+\n",
      "|           0 | 90.55%             | 0.00%                    | 0.00%                    | 64.48%               |\n",
      "+-------------+--------------------+--------------------------+--------------------------+----------------------+\n",
      "|           1 | 91.35%             | 8.46%                    | 8.46%                    | 64.86%               |\n",
      "+-------------+--------------------+--------------------------+--------------------------+----------------------+\n",
      "+-------------+-------------------------+-------------------------+-----------------------+-----------------------+\n",
      "|   Iteration | Factual Case Accuracy   | Overall Case Accuracy   | St. Ac. Consistency   | End Ac. Consistency   |\n",
      "+=============+=========================+=========================+=======================+=======================+\n",
      "|           0 | 2.41%                   | 66.89%                  | 91.99%                | 87.70%                |\n",
      "+-------------+-------------------------+-------------------------+-----------------------+-----------------------+\n",
      "|           1 | 0.00%                   | 64.86%                  | 92.66%                | 88.21%                |\n",
      "+-------------+-------------------------+-------------------------+-----------------------+-----------------------+\n"
     ]
    }
   ],
   "source": [
    "perform_evaluation()\n"
   ]
  }
 ],
 "metadata": {
  "kernelspec": {
   "display_name": "Python 3 - Cuda (ipykernel)",
   "language": "python",
   "name": "python3-jr"
  },
  "language_info": {
   "codemirror_mode": {
    "name": "ipython",
    "version": 3
   },
   "file_extension": ".py",
   "mimetype": "text/x-python",
   "name": "python",
   "nbconvert_exporter": "python",
   "pygments_lexer": "ipython3",
   "version": "3.9.7"
  }
 },
 "nbformat": 4,
 "nbformat_minor": 5
}
