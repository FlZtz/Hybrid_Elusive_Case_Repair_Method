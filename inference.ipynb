{
 "cells": [
  {
   "cell_type": "code",
   "execution_count": 1,
   "id": "initial_id",
   "metadata": {
    "collapsed": true,
    "ExecuteTime": {
     "end_time": "2023-12-15T05:56:04.803664900Z",
     "start_time": "2023-12-15T05:55:50.445741900Z"
    }
   },
   "outputs": [],
   "source": [
    "from pathlib import Path\n",
    "import torch\n",
    "import torch.nn as nn\n",
    "from config import get_config, get_weights_file_path\n",
    "from train import get_model, get_ds, run_validation"
   ]
  },
  {
   "cell_type": "code",
   "execution_count": 2,
   "outputs": [
    {
     "name": "stdout",
     "output_type": "stream",
     "text": [
      "Using device: cpu\n"
     ]
    },
    {
     "name": "stderr",
     "output_type": "stream",
     "text": [
      "C:\\Users\\felix\\Desktop\\Uni\\Master Finance and Information Management (FIM)\\WS 23_24\\Master's Thesis\\Elusive_Case_Transformer\\.venv\\lib\\site-packages\\pm4py\\util\\dt_parsing\\parser.py:77: UserWarning: ISO8601 strings are not fully supported with strpfromiso for Python versions below 3.11\n",
      "  warnings.warn(\n"
     ]
    },
    {
     "data": {
      "text/plain": "parsing log, completed traces ::   0%|          | 0/6 [00:00<?, ?it/s]",
      "application/vnd.jupyter.widget-view+json": {
       "version_major": 2,
       "version_minor": 0,
       "model_id": "3142fcc7e3194b698b1b968c2eff5418"
      }
     },
     "metadata": {},
     "output_type": "display_data"
    },
    {
     "name": "stdout",
     "output_type": "stream",
     "text": [
      "Max length of source sentence: 10\n",
      "Max length of target sentence: 10\n"
     ]
    },
    {
     "data": {
      "text/plain": "<All keys matched successfully>"
     },
     "execution_count": 2,
     "metadata": {},
     "output_type": "execute_result"
    }
   ],
   "source": [
    "# Define the device\n",
    "device = torch.device(\"cuda\" if torch.cuda.is_available() else \"cpu\")\n",
    "print(\"Using device:\", device)\n",
    "config = get_config()\n",
    "train_dataloader, val_dataloader, tokenizer_src, tokenizer_tgt = get_ds(config)\n",
    "model = get_model(config, tokenizer_src.get_vocab_size(), tokenizer_tgt.get_vocab_size()).to(device)\n",
    "\n",
    "# Load the pretrained weights\n",
    "model_filename = get_weights_file_path(config, f\"19\")\n",
    "state = torch.load(model_filename)\n",
    "model.load_state_dict(state['model_state_dict'])"
   ],
   "metadata": {
    "collapsed": false,
    "ExecuteTime": {
     "end_time": "2023-12-15T05:57:56.201228100Z",
     "start_time": "2023-12-15T05:57:52.268572800Z"
    }
   },
   "id": "d92be1715f7873ae"
  },
  {
   "cell_type": "code",
   "execution_count": 3,
   "outputs": [
    {
     "name": "stdout",
     "output_type": "stream",
     "text": [
      "--------------------------------------------------------------------------------\n",
      "    SOURCE: register_request decide decide reinitiate_request examine_thoroughly register_request register_request examine_casually examine_casually check_ticket\n",
      "    TARGET: 5 3 1 3 3 6 4 6 5 4\n",
      " PREDICTED: 1 2 1 5 3 1 3 1 3 1\n",
      "--------------------------------------------------------------------------------\n",
      "    SOURCE: reinitiate_request reject_request check_ticket pay_compensation pay_compensation examine_casually decide reinitiate_request examine_casually check_ticket\n",
      "    TARGET: 5 4 5 3 6 5 5 5 5 5\n",
      " PREDICTED: 5 4 5 3 6 5 5 5 5 5\n",
      "--------------------------------------------------------------------------------\n",
      "    SOURCE: check_ticket pay_compensation examine_thoroughly decide decide decide reinitiate_request reject_request check_ticket pay_compensation\n",
      "    TARGET: 3 2 4 3 4 5 5 4 5 3\n",
      " PREDICTED: 5 3 6 4 5 4 5 5 5\n"
     ]
    }
   ],
   "source": [
    "run_validation(model, val_dataloader, tokenizer_src, tokenizer_tgt, config['seq_len'], device, lambda msg: print(msg), 0, None, num_examples=10)"
   ],
   "metadata": {
    "collapsed": false,
    "ExecuteTime": {
     "end_time": "2023-12-15T05:58:00.895726100Z",
     "start_time": "2023-12-15T05:57:59.485462200Z"
    }
   },
   "id": "3f3db9332edca3bb"
  }
 ],
 "metadata": {
  "kernelspec": {
   "display_name": "Python 3",
   "language": "python",
   "name": "python3"
  },
  "language_info": {
   "codemirror_mode": {
    "name": "ipython",
    "version": 2
   },
   "file_extension": ".py",
   "mimetype": "text/x-python",
   "name": "python",
   "nbconvert_exporter": "python",
   "pygments_lexer": "ipython2",
   "version": "2.7.6"
  }
 },
 "nbformat": 4,
 "nbformat_minor": 5
}
