{
 "cells": [
  {
   "cell_type": "code",
   "execution_count": 1,
   "id": "initial_id",
   "metadata": {
    "collapsed": true,
    "ExecuteTime": {
     "end_time": "2023-12-14T06:52:55.972115800Z",
     "start_time": "2023-12-14T06:52:33.940328Z"
    }
   },
   "outputs": [],
   "source": [
    "from pathlib import Path\n",
    "import torch\n",
    "import torch.nn as nn\n",
    "from config import get_config, get_weights_file_path\n",
    "from train import get_model, get_ds, run_validation"
   ]
  },
  {
   "cell_type": "code",
   "execution_count": 3,
   "outputs": [
    {
     "name": "stdout",
     "output_type": "stream",
     "text": [
      "Using device: cpu\n"
     ]
    },
    {
     "data": {
      "text/plain": "parsing log, completed traces ::   0%|          | 0/6 [00:00<?, ?it/s]",
      "application/vnd.jupyter.widget-view+json": {
       "version_major": 2,
       "version_minor": 0,
       "model_id": "902fcaa1c45942099dadc1e649ee10e6"
      }
     },
     "metadata": {},
     "output_type": "display_data"
    },
    {
     "name": "stdout",
     "output_type": "stream",
     "text": [
      "Max length of source sentence: 10\n",
      "Max length of target sentence: 10\n"
     ]
    },
    {
     "data": {
      "text/plain": "<All keys matched successfully>"
     },
     "execution_count": 3,
     "metadata": {},
     "output_type": "execute_result"
    }
   ],
   "source": [
    "# Define the device\n",
    "device = torch.device(\"cuda\" if torch.cuda.is_available() else \"cpu\")\n",
    "print(\"Using device:\", device)\n",
    "config = get_config()\n",
    "train_dataloader, val_dataloader, tokenizer_src, tokenizer_tgt = get_ds(config)\n",
    "model = get_model(config, tokenizer_src.get_vocab_size(), tokenizer_tgt.get_vocab_size()).to(device)\n",
    "\n",
    "# Load the pretrained weights\n",
    "model_filename = get_weights_file_path(config, f\"19\")\n",
    "state = torch.load(model_filename)\n",
    "model.load_state_dict(state['model_state_dict'])"
   ],
   "metadata": {
    "collapsed": false,
    "ExecuteTime": {
     "end_time": "2023-12-14T03:32:10.432069300Z",
     "start_time": "2023-12-14T03:32:09.069827300Z"
    }
   },
   "id": "d92be1715f7873ae"
  },
  {
   "cell_type": "code",
   "execution_count": 4,
   "outputs": [
    {
     "name": "stdout",
     "output_type": "stream",
     "text": [
      "--------------------------------------------------------------------------------\n",
      "    SOURCE: decide decide reinitiate_request reject_request check_ticket pay_compensation pay_compensation examine_casually decide reinitiate_request\n",
      "    TARGET: 4 5 5 4 5 3 6 5 5 5\n",
      " PREDICTED: 5 5 5 3 6 5 5 5 5 5 5\n",
      "--------------------------------------------------------------------------------\n",
      "    SOURCE: examine_casually check_ticket examine_thoroughly decide check_ticket register_request decide decide reinitiate_request examine_thoroughly\n",
      "    TARGET: 3 3 1 2 1 5 3 1 3 3\n",
      " PREDICTED: 1 2 3 3 3 3 3 1 5 3\n",
      "--------------------------------------------------------------------------------\n",
      "    SOURCE: check_ticket examine_thoroughly decide check_ticket register_request decide decide reinitiate_request examine_thoroughly register_request\n",
      "    TARGET: 3 1 2 1 5 3 1 3 3 6\n",
      " PREDICTED: 1 2 1 3 3 3 3 1 5 3 1\n"
     ]
    }
   ],
   "source": [
    "run_validation(model, val_dataloader, tokenizer_src, tokenizer_tgt, config['seq_len'], device, lambda msg: print(msg), 0, None, num_examples=10)"
   ],
   "metadata": {
    "collapsed": false,
    "ExecuteTime": {
     "end_time": "2023-12-14T03:32:17.881213600Z",
     "start_time": "2023-12-14T03:32:16.700899600Z"
    }
   },
   "id": "3f3db9332edca3bb"
  }
 ],
 "metadata": {
  "kernelspec": {
   "display_name": "Python 3",
   "language": "python",
   "name": "python3"
  },
  "language_info": {
   "codemirror_mode": {
    "name": "ipython",
    "version": 2
   },
   "file_extension": ".py",
   "mimetype": "text/x-python",
   "name": "python",
   "nbconvert_exporter": "python",
   "pygments_lexer": "ipython2",
   "version": "2.7.6"
  }
 },
 "nbformat": 4,
 "nbformat_minor": 5
}
